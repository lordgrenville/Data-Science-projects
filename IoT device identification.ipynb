{
 "cells": [
  {
   "cell_type": "code",
   "execution_count": 14,
   "id": "0cbf0853",
   "metadata": {},
   "outputs": [],
   "source": [
    "import pandas as pd\n",
    "import numpy as np\n",
    "import matplotlib.pyplot as plt"
   ]
  },
  {
   "cell_type": "code",
   "execution_count": 2,
   "id": "ffeed276",
   "metadata": {},
   "outputs": [],
   "source": [
    "train = pd.read_csv('iot_device_train.csv')\n",
    "test = pd.read_csv('iot_device_test.csv')"
   ]
  },
  {
   "cell_type": "code",
   "execution_count": 3,
   "id": "d34cc7bc",
   "metadata": {},
   "outputs": [
    {
     "data": {
      "text/plain": [
       "((1000, 298), (900, 298))"
      ]
     },
     "execution_count": 3,
     "metadata": {},
     "output_type": "execute_result"
    }
   ],
   "source": [
    "train.shape, test.shape"
   ]
  },
  {
   "cell_type": "code",
   "execution_count": 4,
   "id": "f462ed36",
   "metadata": {},
   "outputs": [
    {
     "data": {
      "text/html": [
       "<div>\n",
       "<style scoped>\n",
       "    .dataframe tbody tr th:only-of-type {\n",
       "        vertical-align: middle;\n",
       "    }\n",
       "\n",
       "    .dataframe tbody tr th {\n",
       "        vertical-align: top;\n",
       "    }\n",
       "\n",
       "    .dataframe thead th {\n",
       "        text-align: right;\n",
       "    }\n",
       "</style>\n",
       "<table border=\"1\" class=\"dataframe\">\n",
       "  <thead>\n",
       "    <tr style=\"text-align: right;\">\n",
       "      <th></th>\n",
       "      <th>ack</th>\n",
       "      <th>ack_A</th>\n",
       "      <th>ack_B</th>\n",
       "      <th>bytes</th>\n",
       "      <th>bytes_A</th>\n",
       "      <th>bytes_A_B_ratio</th>\n",
       "      <th>bytes_B</th>\n",
       "      <th>ds_field_A</th>\n",
       "      <th>ds_field_B</th>\n",
       "      <th>duration</th>\n",
       "      <th>...</th>\n",
       "      <th>suffix_is_co.il</th>\n",
       "      <th>suffix_is_com</th>\n",
       "      <th>suffix_is_com.sg</th>\n",
       "      <th>suffix_is_else</th>\n",
       "      <th>suffix_is_empty_char_value</th>\n",
       "      <th>suffix_is_googleapis.com</th>\n",
       "      <th>suffix_is_net</th>\n",
       "      <th>suffix_is_org</th>\n",
       "      <th>suffix_is_unresolved</th>\n",
       "      <th>device_category</th>\n",
       "    </tr>\n",
       "  </thead>\n",
       "  <tbody>\n",
       "    <tr>\n",
       "      <th>0</th>\n",
       "      <td>9</td>\n",
       "      <td>5</td>\n",
       "      <td>5</td>\n",
       "      <td>1213</td>\n",
       "      <td>743</td>\n",
       "      <td>0.713924</td>\n",
       "      <td>668</td>\n",
       "      <td>0</td>\n",
       "      <td>0</td>\n",
       "      <td>1.5756</td>\n",
       "      <td>...</td>\n",
       "      <td>0</td>\n",
       "      <td>0</td>\n",
       "      <td>0</td>\n",
       "      <td>1</td>\n",
       "      <td>0</td>\n",
       "      <td>0</td>\n",
       "      <td>0</td>\n",
       "      <td>0</td>\n",
       "      <td>0</td>\n",
       "      <td>security_camera</td>\n",
       "    </tr>\n",
       "    <tr>\n",
       "      <th>1</th>\n",
       "      <td>9</td>\n",
       "      <td>5</td>\n",
       "      <td>5</td>\n",
       "      <td>1213</td>\n",
       "      <td>743</td>\n",
       "      <td>1.806874</td>\n",
       "      <td>668</td>\n",
       "      <td>0</td>\n",
       "      <td>0</td>\n",
       "      <td>0.6890</td>\n",
       "      <td>...</td>\n",
       "      <td>0</td>\n",
       "      <td>0</td>\n",
       "      <td>0</td>\n",
       "      <td>1</td>\n",
       "      <td>0</td>\n",
       "      <td>0</td>\n",
       "      <td>0</td>\n",
       "      <td>0</td>\n",
       "      <td>0</td>\n",
       "      <td>security_camera</td>\n",
       "    </tr>\n",
       "    <tr>\n",
       "      <th>2</th>\n",
       "      <td>9</td>\n",
       "      <td>5</td>\n",
       "      <td>5</td>\n",
       "      <td>1213</td>\n",
       "      <td>743</td>\n",
       "      <td>0.103124</td>\n",
       "      <td>668</td>\n",
       "      <td>0</td>\n",
       "      <td>0</td>\n",
       "      <td>0.9852</td>\n",
       "      <td>...</td>\n",
       "      <td>0</td>\n",
       "      <td>0</td>\n",
       "      <td>0</td>\n",
       "      <td>1</td>\n",
       "      <td>0</td>\n",
       "      <td>0</td>\n",
       "      <td>0</td>\n",
       "      <td>0</td>\n",
       "      <td>0</td>\n",
       "      <td>security_camera</td>\n",
       "    </tr>\n",
       "    <tr>\n",
       "      <th>3</th>\n",
       "      <td>9</td>\n",
       "      <td>5</td>\n",
       "      <td>5</td>\n",
       "      <td>1213</td>\n",
       "      <td>743</td>\n",
       "      <td>1.806874</td>\n",
       "      <td>668</td>\n",
       "      <td>0</td>\n",
       "      <td>0</td>\n",
       "      <td>1.5756</td>\n",
       "      <td>...</td>\n",
       "      <td>0</td>\n",
       "      <td>0</td>\n",
       "      <td>0</td>\n",
       "      <td>1</td>\n",
       "      <td>0</td>\n",
       "      <td>0</td>\n",
       "      <td>0</td>\n",
       "      <td>0</td>\n",
       "      <td>0</td>\n",
       "      <td>security_camera</td>\n",
       "    </tr>\n",
       "    <tr>\n",
       "      <th>4</th>\n",
       "      <td>9</td>\n",
       "      <td>5</td>\n",
       "      <td>5</td>\n",
       "      <td>1213</td>\n",
       "      <td>743</td>\n",
       "      <td>1.806874</td>\n",
       "      <td>668</td>\n",
       "      <td>0</td>\n",
       "      <td>0</td>\n",
       "      <td>1.5756</td>\n",
       "      <td>...</td>\n",
       "      <td>0</td>\n",
       "      <td>0</td>\n",
       "      <td>0</td>\n",
       "      <td>1</td>\n",
       "      <td>0</td>\n",
       "      <td>0</td>\n",
       "      <td>0</td>\n",
       "      <td>0</td>\n",
       "      <td>0</td>\n",
       "      <td>security_camera</td>\n",
       "    </tr>\n",
       "  </tbody>\n",
       "</table>\n",
       "<p>5 rows × 298 columns</p>\n",
       "</div>"
      ],
      "text/plain": [
       "   ack  ack_A  ack_B  bytes  bytes_A  bytes_A_B_ratio  bytes_B  ds_field_A  \\\n",
       "0    9      5      5   1213      743         0.713924      668           0   \n",
       "1    9      5      5   1213      743         1.806874      668           0   \n",
       "2    9      5      5   1213      743         0.103124      668           0   \n",
       "3    9      5      5   1213      743         1.806874      668           0   \n",
       "4    9      5      5   1213      743         1.806874      668           0   \n",
       "\n",
       "   ds_field_B  duration  ...  suffix_is_co.il  suffix_is_com  \\\n",
       "0           0    1.5756  ...                0              0   \n",
       "1           0    0.6890  ...                0              0   \n",
       "2           0    0.9852  ...                0              0   \n",
       "3           0    1.5756  ...                0              0   \n",
       "4           0    1.5756  ...                0              0   \n",
       "\n",
       "   suffix_is_com.sg  suffix_is_else  suffix_is_empty_char_value  \\\n",
       "0                 0               1                           0   \n",
       "1                 0               1                           0   \n",
       "2                 0               1                           0   \n",
       "3                 0               1                           0   \n",
       "4                 0               1                           0   \n",
       "\n",
       "   suffix_is_googleapis.com  suffix_is_net  suffix_is_org  \\\n",
       "0                         0              0              0   \n",
       "1                         0              0              0   \n",
       "2                         0              0              0   \n",
       "3                         0              0              0   \n",
       "4                         0              0              0   \n",
       "\n",
       "   suffix_is_unresolved  device_category  \n",
       "0                     0  security_camera  \n",
       "1                     0  security_camera  \n",
       "2                     0  security_camera  \n",
       "3                     0  security_camera  \n",
       "4                     0  security_camera  \n",
       "\n",
       "[5 rows x 298 columns]"
      ]
     },
     "execution_count": 4,
     "metadata": {},
     "output_type": "execute_result"
    }
   ],
   "source": [
    "train.head()"
   ]
  },
  {
   "cell_type": "code",
   "execution_count": 6,
   "id": "0fe26476",
   "metadata": {},
   "outputs": [
    {
     "data": {
      "text/plain": [
       "array(['security_camera', 'TV', 'smoke_detector', 'thermostat',\n",
       "       'water_sensor', 'watch', 'baby_monitor', 'motion_sensor', 'lights',\n",
       "       'socket'], dtype=object)"
      ]
     },
     "execution_count": 6,
     "metadata": {},
     "output_type": "execute_result"
    }
   ],
   "source": [
    "train.device_category.unique()"
   ]
  },
  {
   "cell_type": "markdown",
   "id": "826c06b6",
   "metadata": {},
   "source": [
    "Goal is multiclass classification"
   ]
  },
  {
   "cell_type": "code",
   "execution_count": 8,
   "id": "1fd70fac",
   "metadata": {},
   "outputs": [
    {
     "data": {
      "text/plain": [
       "{'water_sensor'}"
      ]
     },
     "execution_count": 8,
     "metadata": {},
     "output_type": "execute_result"
    }
   ],
   "source": [
    "set(train.device_category).difference(test.device_category)"
   ]
  },
  {
   "cell_type": "markdown",
   "id": "bb5d966b",
   "metadata": {},
   "source": [
    "`Water sensor` not in test labels"
   ]
  },
  {
   "cell_type": "code",
   "execution_count": 17,
   "id": "534d9f7f",
   "metadata": {},
   "outputs": [],
   "source": [
    "df = pd.concat([train,test])"
   ]
  },
  {
   "cell_type": "code",
   "execution_count": null,
   "id": "18e3ae26",
   "metadata": {},
   "outputs": [
    {
     "name": "stderr",
     "output_type": "stream",
     "text": [
      "/Users/joshfriedlander/anaconda3/envs/base2/lib/python3.8/site-packages/pandas/io/formats/style.py:1264: RuntimeWarning: All-NaN slice encountered\n",
      "  smin = np.nanmin(s.to_numpy()) if vmin is None else vmin\n",
      "/Users/joshfriedlander/anaconda3/envs/base2/lib/python3.8/site-packages/pandas/io/formats/style.py:1265: RuntimeWarning: All-NaN slice encountered\n",
      "  smax = np.nanmax(s.to_numpy()) if vmax is None else vmax\n"
     ]
    }
   ],
   "source": [
    "rs = np.random.RandomState(0)\n",
    "corr = df.corr()\n",
    "corr.style.background_gradient(cmap='coolwarm')"
   ]
  },
  {
   "cell_type": "code",
   "execution_count": 16,
   "id": "7e9e94b6",
   "metadata": {},
   "outputs": [
    {
     "data": {
      "text/plain": [
       "(10, 10)"
      ]
     },
     "execution_count": 16,
     "metadata": {},
     "output_type": "execute_result"
    }
   ],
   "source": [
    "corr.shape"
   ]
  },
  {
   "cell_type": "code",
   "execution_count": null,
   "id": "ec57855d",
   "metadata": {},
   "outputs": [],
   "source": []
  }
 ],
 "metadata": {
  "kernelspec": {
   "display_name": "Python 3",
   "language": "python",
   "name": "python3"
  },
  "language_info": {
   "codemirror_mode": {
    "name": "ipython",
    "version": 3
   },
   "file_extension": ".py",
   "mimetype": "text/x-python",
   "name": "python",
   "nbconvert_exporter": "python",
   "pygments_lexer": "ipython3",
   "version": "3.8.6"
  }
 },
 "nbformat": 4,
 "nbformat_minor": 5
}
