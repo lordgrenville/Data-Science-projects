{
 "cells": [
  {
   "cell_type": "code",
   "execution_count": 27,
   "metadata": {},
   "outputs": [],
   "source": [
    "import pandas as pd\n",
    "import numpy as np"
   ]
  },
  {
   "cell_type": "code",
   "execution_count": 41,
   "metadata": {},
   "outputs": [],
   "source": [
    "new = pd.read_csv('new/anomalous_cleaned_pai_snapshot_c1_d2019-02-10_anomalies_2.csv')"
   ]
  },
  {
   "cell_type": "code",
   "execution_count": 42,
   "metadata": {},
   "outputs": [],
   "source": [
    "old = pd.read_csv('comparing anomlaies/2019-02-07_benchmark/data/cleaned/anomalies/anomalous_cleaned_pai_snapshot_c1_d2019-02-07_anomalies.csv')"
   ]
  },
  {
   "cell_type": "code",
   "execution_count": 43,
   "metadata": {},
   "outputs": [
    {
     "data": {
      "text/html": [
       "<div>\n",
       "<style scoped>\n",
       "    .dataframe tbody tr th:only-of-type {\n",
       "        vertical-align: middle;\n",
       "    }\n",
       "\n",
       "    .dataframe tbody tr th {\n",
       "        vertical-align: top;\n",
       "    }\n",
       "\n",
       "    .dataframe thead th {\n",
       "        text-align: right;\n",
       "    }\n",
       "</style>\n",
       "<table border=\"1\" class=\"dataframe\">\n",
       "  <thead>\n",
       "    <tr style=\"text-align: right;\">\n",
       "      <th></th>\n",
       "      <th>pai_account_id</th>\n",
       "      <th>reason</th>\n",
       "      <th>critical_flag</th>\n",
       "      <th>removed_account</th>\n",
       "    </tr>\n",
       "  </thead>\n",
       "  <tbody>\n",
       "    <tr>\n",
       "      <th>0</th>\n",
       "      <td>0010J00001mPCkm</td>\n",
       "      <td>missing_birth_date</td>\n",
       "      <td>1</td>\n",
       "      <td>1</td>\n",
       "    </tr>\n",
       "    <tr>\n",
       "      <th>1</th>\n",
       "      <td>0010J00001mPCkm</td>\n",
       "      <td>pai_is_deleted_by_dataprep</td>\n",
       "      <td>1</td>\n",
       "      <td>1</td>\n",
       "    </tr>\n",
       "    <tr>\n",
       "      <th>2</th>\n",
       "      <td>0010J00001mPCkm</td>\n",
       "      <td>undefined_poc_end_date</td>\n",
       "      <td>1</td>\n",
       "      <td>1</td>\n",
       "    </tr>\n",
       "    <tr>\n",
       "      <th>3</th>\n",
       "      <td>0010J00001mPCkm</td>\n",
       "      <td>unknown_profile</td>\n",
       "      <td>1</td>\n",
       "      <td>1</td>\n",
       "    </tr>\n",
       "    <tr>\n",
       "      <th>4</th>\n",
       "      <td>0010J00001mPClQ</td>\n",
       "      <td>missing_birth_date</td>\n",
       "      <td>1</td>\n",
       "      <td>1</td>\n",
       "    </tr>\n",
       "  </tbody>\n",
       "</table>\n",
       "</div>"
      ],
      "text/plain": [
       "    pai_account_id                      reason  critical_flag  removed_account\n",
       "0  0010J00001mPCkm          missing_birth_date              1                1\n",
       "1  0010J00001mPCkm  pai_is_deleted_by_dataprep              1                1\n",
       "2  0010J00001mPCkm      undefined_poc_end_date              1                1\n",
       "3  0010J00001mPCkm             unknown_profile              1                1\n",
       "4  0010J00001mPClQ          missing_birth_date              1                1"
      ]
     },
     "execution_count": 43,
     "metadata": {},
     "output_type": "execute_result"
    }
   ],
   "source": [
    "old.head()"
   ]
  },
  {
   "cell_type": "code",
   "execution_count": 44,
   "metadata": {},
   "outputs": [
    {
     "data": {
      "text/html": [
       "<div>\n",
       "<style scoped>\n",
       "    .dataframe tbody tr th:only-of-type {\n",
       "        vertical-align: middle;\n",
       "    }\n",
       "\n",
       "    .dataframe tbody tr th {\n",
       "        vertical-align: top;\n",
       "    }\n",
       "\n",
       "    .dataframe thead th {\n",
       "        text-align: right;\n",
       "    }\n",
       "</style>\n",
       "<table border=\"1\" class=\"dataframe\">\n",
       "  <thead>\n",
       "    <tr style=\"text-align: right;\">\n",
       "      <th></th>\n",
       "      <th>pai_account_id</th>\n",
       "      <th>reason</th>\n",
       "      <th>critical_flag</th>\n",
       "      <th>removed_account</th>\n",
       "    </tr>\n",
       "  </thead>\n",
       "  <tbody>\n",
       "    <tr>\n",
       "      <th>0</th>\n",
       "      <td>0010J00001mPCkm</td>\n",
       "      <td>accounts_with_missing_usage_and_engagement</td>\n",
       "      <td>1</td>\n",
       "      <td>1</td>\n",
       "    </tr>\n",
       "    <tr>\n",
       "      <th>1</th>\n",
       "      <td>0010J00001mPCkm</td>\n",
       "      <td>missing_birth_date</td>\n",
       "      <td>1</td>\n",
       "      <td>1</td>\n",
       "    </tr>\n",
       "    <tr>\n",
       "      <th>2</th>\n",
       "      <td>0010J00001mPCkm</td>\n",
       "      <td>pai_is_deleted_by_dataprep</td>\n",
       "      <td>1</td>\n",
       "      <td>1</td>\n",
       "    </tr>\n",
       "    <tr>\n",
       "      <th>3</th>\n",
       "      <td>0010J00001mPCkm</td>\n",
       "      <td>undefined_poc_end_date</td>\n",
       "      <td>1</td>\n",
       "      <td>1</td>\n",
       "    </tr>\n",
       "    <tr>\n",
       "      <th>4</th>\n",
       "      <td>0010J00001mPCkm</td>\n",
       "      <td>unknown_profile</td>\n",
       "      <td>1</td>\n",
       "      <td>1</td>\n",
       "    </tr>\n",
       "  </tbody>\n",
       "</table>\n",
       "</div>"
      ],
      "text/plain": [
       "    pai_account_id                                      reason  critical_flag  \\\n",
       "0  0010J00001mPCkm  accounts_with_missing_usage_and_engagement              1   \n",
       "1  0010J00001mPCkm                          missing_birth_date              1   \n",
       "2  0010J00001mPCkm                  pai_is_deleted_by_dataprep              1   \n",
       "3  0010J00001mPCkm                      undefined_poc_end_date              1   \n",
       "4  0010J00001mPCkm                             unknown_profile              1   \n",
       "\n",
       "   removed_account  \n",
       "0                1  \n",
       "1                1  \n",
       "2                1  \n",
       "3                1  \n",
       "4                1  "
      ]
     },
     "execution_count": 44,
     "metadata": {},
     "output_type": "execute_result"
    }
   ],
   "source": [
    "new.head()"
   ]
  },
  {
   "cell_type": "code",
   "execution_count": 8,
   "metadata": {},
   "outputs": [],
   "source": [
    "from pandas.testing import assert_frame_equal"
   ]
  },
  {
   "cell_type": "code",
   "execution_count": 45,
   "metadata": {},
   "outputs": [],
   "source": [
    "new = new[~new.reason.str.contains('usage')]"
   ]
  },
  {
   "cell_type": "code",
   "execution_count": 52,
   "metadata": {},
   "outputs": [],
   "source": [
    "old = old.reset_index(drop=True)\n",
    "new = new.reset_index(drop=True)"
   ]
  },
  {
   "cell_type": "code",
   "execution_count": 54,
   "metadata": {},
   "outputs": [
    {
     "name": "stdout",
     "output_type": "stream",
     "text": [
      "(67, 4) (67, 4)\n"
     ]
    }
   ],
   "source": [
    "print(old.shape, new.shape)"
   ]
  },
  {
   "cell_type": "code",
   "execution_count": 48,
   "metadata": {},
   "outputs": [],
   "source": [
    "new1 = set(zip(new.pai_account_id, new.reason))\n",
    "old1 = set(zip(old.pai_account_id, old.reason))"
   ]
  },
  {
   "cell_type": "code",
   "execution_count": 53,
   "metadata": {},
   "outputs": [],
   "source": [
    "assert_frame_equal(old, new)"
   ]
  },
  {
   "cell_type": "code",
   "execution_count": 50,
   "metadata": {},
   "outputs": [],
   "source": [
    "old = old[(old.pai_account_id.isin(paying_accs)) & (old.critical_flag == 1)]\n",
    "new = new[(new.pai_account_id.isin(paying_accs)) & (new.critical_flag == 1)]"
   ]
  },
  {
   "cell_type": "code",
   "execution_count": 36,
   "metadata": {},
   "outputs": [
    {
     "data": {
      "text/plain": [
       "28"
      ]
     },
     "execution_count": 36,
     "metadata": {},
     "output_type": "execute_result"
    }
   ],
   "source": [
    "len(new1 - old1)"
   ]
  },
  {
   "cell_type": "code",
   "execution_count": 40,
   "metadata": {},
   "outputs": [
    {
     "data": {
      "text/plain": [
       "0"
      ]
     },
     "execution_count": 40,
     "metadata": {},
     "output_type": "execute_result"
    }
   ],
   "source": [
    "len(set([x[0] for x in list(new1 - old1)]).intersection(set([x[0] for x in list(old1 - new1)])))"
   ]
  },
  {
   "cell_type": "code",
   "execution_count": 35,
   "metadata": {},
   "outputs": [
    {
     "data": {
      "text/plain": [
       "28"
      ]
     },
     "execution_count": 35,
     "metadata": {},
     "output_type": "execute_result"
    }
   ],
   "source": [
    "len(old1 - new1)"
   ]
  },
  {
   "cell_type": "code",
   "execution_count": 21,
   "metadata": {},
   "outputs": [
    {
     "data": {
      "text/plain": [
       "{('001b000000NvScN', 'HAS_BILL_CREATED_AFTER_CHURN'),\n",
       " ('001b000000NvScN', 'account_churned_before_date'),\n",
       " ('001b000000nSb4H', 'HAS_BILL_CREATED_AFTER_CHURN'),\n",
       " ('001b000000nSb4H', 'account_churned_before_date'),\n",
       " ('001b000000nykEi', 'account_churned_before_date'),\n",
       " ('001b000000nzhwK', 'account_churned_before_date'),\n",
       " ('001b000000p17WR', 'account_churned_before_date'),\n",
       " ('001b000000qH3mf', 'HAS_BILL_CREATED_AFTER_CHURN'),\n",
       " ('001b000000qH3mf', 'account_churned_before_date'),\n",
       " ('001b000000qqWRT', 'HAS_BILL_CREATED_AFTER_CHURN'),\n",
       " ('001b000000qqWRT', 'account_churned_before_date'),\n",
       " ('001b000000qqlnz', 'HAS_BILL_CREATED_AFTER_CHURN'),\n",
       " ('001b000000qqlnz', 'account_churned_before_date'),\n",
       " ('001b000000rJH3K', 'HAS_BILL_CREATED_AFTER_CHURN'),\n",
       " ('001b000000rJH3K', 'POC_CHURN_DUE_TO_QUICK_PAYING_CHURN'),\n",
       " ('001b000000rJH3K', 'account_churned_before_date'),\n",
       " ('001b000000rJMQO', 'account_churned_before_date'),\n",
       " ('001b000000rJgbs', 'HAS_BILL_CREATED_AFTER_CHURN'),\n",
       " ('001b000000rJgbs', 'OPENED_TICKETS_AFTER_CHURN'),\n",
       " ('001b000000rJgbs', 'OPENED_TICKETS_AFTER_MOST_RECENT_ACTIVE_DATE'),\n",
       " ('001b000000rJgbs', 'POC_CHURN_DUE_TO_QUICK_PAYING_CHURN'),\n",
       " ('001b000000rJgbs', 'account_churned_before_date'),\n",
       " ('001b000000sCnli', 'account_churned_before_date'),\n",
       " ('001b000000yfXD3', 'account_churned_before_date'),\n",
       " ('001b0000015mZef', 'account_churned_before_date'),\n",
       " ('001b0000015nuhO', 'HAS_BILL_CREATED_AFTER_CHURN'),\n",
       " ('001b0000019wPKF', 'account_churned_before_date'),\n",
       " ('001b000003cUW1V', 'OPENED_TICKETS_AFTER_MOST_RECENT_ACTIVE_DATE')}"
      ]
     },
     "execution_count": 21,
     "metadata": {},
     "output_type": "execute_result"
    }
   ],
   "source": [
    "old1 - new1"
   ]
  },
  {
   "cell_type": "code",
   "execution_count": 20,
   "metadata": {},
   "outputs": [
    {
     "data": {
      "text/plain": [
       "{('0010J000021erHl', 'missing_birth_date'),\n",
       " ('0010J000021erHl', 'pai_is_deleted_by_dataprep'),\n",
       " ('0010J000021erHl', 'undefined_poc_end_date'),\n",
       " ('0010J000021erHl', 'unknown_profile'),\n",
       " ('0010J000021erTD', 'missing_birth_date'),\n",
       " ('0010J000021erTD', 'pai_is_deleted_by_dataprep'),\n",
       " ('0010J000021erTD', 'undefined_poc_end_date'),\n",
       " ('0010J000021erTD', 'unknown_profile'),\n",
       " ('0010J000021ern8', 'missing_birth_date'),\n",
       " ('0010J000021ern8', 'pai_is_deleted_by_dataprep'),\n",
       " ('0010J000021ern8', 'undefined_poc_end_date'),\n",
       " ('0010J000021ern8', 'unknown_profile'),\n",
       " ('0010J000021erzn', 'missing_birth_date'),\n",
       " ('0010J000021erzn', 'pai_is_deleted_by_dataprep'),\n",
       " ('0010J000021erzn', 'undefined_poc_end_date'),\n",
       " ('0010J000021erzn', 'unknown_profile'),\n",
       " ('0010J000021es3G', 'missing_birth_date'),\n",
       " ('0010J000021es3G', 'pai_is_deleted_by_dataprep'),\n",
       " ('0010J000021es3G', 'undefined_poc_end_date'),\n",
       " ('0010J000021es3G', 'unknown_profile'),\n",
       " ('0010J000021es6F', 'missing_birth_date'),\n",
       " ('0010J000021es6F', 'pai_is_deleted_by_dataprep'),\n",
       " ('0010J000021es6F', 'undefined_poc_end_date'),\n",
       " ('0010J000021es6F', 'unknown_profile'),\n",
       " ('0010J000021evmQ', 'missing_birth_date'),\n",
       " ('0010J000021evmQ', 'pai_is_deleted_by_dataprep'),\n",
       " ('0010J000021evmQ', 'undefined_poc_end_date'),\n",
       " ('0010J000021evmQ', 'unknown_profile')}"
      ]
     },
     "execution_count": 20,
     "metadata": {},
     "output_type": "execute_result"
    }
   ],
   "source": [
    "(new1) - (old1)"
   ]
  },
  {
   "cell_type": "code",
   "execution_count": 16,
   "metadata": {},
   "outputs": [
    {
     "ename": "AssertionError",
     "evalue": "DataFrame.iloc[:, 0] are different\n\nDataFrame.iloc[:, 0] values are different (17.59081 %)\n[left]:  [0010J00001mPCkm, 0010J00001mPCkm, 0010J00001mPCkm, 0010J00001mPCkm, 0010J00001mPClQ, 0010J00001mPClQ, 0010J00001mPClQ, 0010J00001mPClQ, 0010J00001mPCnq, 0010J00001mPCnq, 0010J00001mPCnq, 0010J00001mPCnq, 0010J00001mPCs7, 0010J00001mPCs7, 0010J00001mPCs7, 0010J00001mPCs7, 0010J00001mPCsC, 0010J00001mPCsC, 0010J00001mPCsC, 0010J00001mPCsC, 0010J00001mPCsH, 0010J00001mPCsH, 0010J00001mPCsH, 0010J00001mPCsH, 0010J00001mPCuS, 0010J00001mPCuS, 0010J00001mPCuS, 0010J00001mPCuS, 0010J00001mPCuw, 0010J00001mPCuw, 0010J00001mPCuw, 0010J00001mPCuw, 0010J00001mPCvL, 0010J00001mPCvL, 0010J00001mPCvL, 0010J00001mPCvL, 0010J00001oc3Ln, 0010J00001oc3Ln, 0010J00001oc3Ln, 0010J00001oc3Ln, 0010J00001oc3Ls, 0010J00001oc3Ls, 0010J00001oc3Ls, 0010J00001oc3Ls, 0010J00001oc4MN, 0010J00001oc4MN, 0010J00001oc4MN, 0010J00001oc4MN, 0010J00001oc4Mh, 0010J00001oc4Mh, 0010J00001oc4Mh, 0010J00001oc4Mh, 0010J00001oc4Mw, 0010J00001oc4Mw, 0010J00001oc4Mw, 0010J00001oc4Mw, 0010J00001oc4NV, 0010J00001oc4NV, 0010J00001oc4NV, 0010J00001oc4NV, 0010J00001oc4lS, 0010J00001oc4lS, 0010J00001oc4lS, 0010J00001oc4lS, 0010J00001oc4q3, 0010J00001oc4rV, 0010J00001oc4rV, 0010J00001oc4rV, 0010J00001oc4rV, 0010J00001oc4ra, 0010J00001oc4ra, 0010J00001oc4ra, 0010J00001oc4ra, 0010J00001oc4rf, 0010J00001oc4rf, 0010J00001oc4rf, 0010J00001oc4rf, 0010J00001oc4rk, 0010J00001oc4rk, 0010J00001oc4rk, 0010J00001oc4rk, 0010J00001oc4ru, 0010J00001oc4ru, 0010J00001oc4ru, 0010J00001oc4ru, 0010J00001oc4rz, 0010J00001oc4rz, 0010J00001oc4rz, 0010J00001oc4rz, 0010J00001oc4s4, 0010J00001oc4s4, 0010J00001oc4s4, 0010J00001oc4s4, 0010J00001oc4s9, 0010J00001oc4s9, 0010J00001oc4s9, 0010J00001oc4s9, 0010J00001oc4sJ, 0010J00001oc4sJ, 0010J00001oc4sJ, ...]\n[right]: [0010J00001mPCkm, 0010J00001mPCkm, 0010J00001mPCkm, 0010J00001mPCkm, 0010J00001mPClQ, 0010J00001mPClQ, 0010J00001mPClQ, 0010J00001mPClQ, 0010J00001mPCnq, 0010J00001mPCnq, 0010J00001mPCnq, 0010J00001mPCnq, 0010J00001mPCs7, 0010J00001mPCs7, 0010J00001mPCs7, 0010J00001mPCs7, 0010J00001mPCsC, 0010J00001mPCsC, 0010J00001mPCsC, 0010J00001mPCsC, 0010J00001mPCsH, 0010J00001mPCsH, 0010J00001mPCsH, 0010J00001mPCsH, 0010J00001mPCuS, 0010J00001mPCuS, 0010J00001mPCuS, 0010J00001mPCuS, 0010J00001mPCuw, 0010J00001mPCuw, 0010J00001mPCuw, 0010J00001mPCuw, 0010J00001mPCvL, 0010J00001mPCvL, 0010J00001mPCvL, 0010J00001mPCvL, 0010J00001oc3Ln, 0010J00001oc3Ln, 0010J00001oc3Ln, 0010J00001oc3Ln, 0010J00001oc3Ls, 0010J00001oc3Ls, 0010J00001oc3Ls, 0010J00001oc3Ls, 0010J00001oc4MN, 0010J00001oc4MN, 0010J00001oc4MN, 0010J00001oc4MN, 0010J00001oc4Mh, 0010J00001oc4Mh, 0010J00001oc4Mh, 0010J00001oc4Mh, 0010J00001oc4Mw, 0010J00001oc4Mw, 0010J00001oc4Mw, 0010J00001oc4Mw, 0010J00001oc4NV, 0010J00001oc4NV, 0010J00001oc4NV, 0010J00001oc4NV, 0010J00001oc4lS, 0010J00001oc4lS, 0010J00001oc4lS, 0010J00001oc4lS, 0010J00001oc4q3, 0010J00001oc4rV, 0010J00001oc4rV, 0010J00001oc4rV, 0010J00001oc4rV, 0010J00001oc4ra, 0010J00001oc4ra, 0010J00001oc4ra, 0010J00001oc4ra, 0010J00001oc4rf, 0010J00001oc4rf, 0010J00001oc4rf, 0010J00001oc4rf, 0010J00001oc4rk, 0010J00001oc4rk, 0010J00001oc4rk, 0010J00001oc4rk, 0010J00001oc4ru, 0010J00001oc4ru, 0010J00001oc4ru, 0010J00001oc4ru, 0010J00001oc4rz, 0010J00001oc4rz, 0010J00001oc4rz, 0010J00001oc4rz, 0010J00001oc4s4, 0010J00001oc4s4, 0010J00001oc4s4, 0010J00001oc4s4, 0010J00001oc4s9, 0010J00001oc4s9, 0010J00001oc4s9, 0010J00001oc4s9, 0010J00001oc4sJ, 0010J00001oc4sJ, 0010J00001oc4sJ, ...]",
     "output_type": "error",
     "traceback": [
      "\u001b[0;31m---------------------------------------------------------------------------\u001b[0m",
      "\u001b[0;31mAssertionError\u001b[0m                            Traceback (most recent call last)",
      "\u001b[0;32m<ipython-input-16-96bb67fc0700>\u001b[0m in \u001b[0;36m<module>\u001b[0;34m\u001b[0m\n\u001b[0;32m----> 1\u001b[0;31m \u001b[0massert_frame_equal\u001b[0m\u001b[0;34m(\u001b[0m\u001b[0mold\u001b[0m\u001b[0;34m,\u001b[0m \u001b[0mnew\u001b[0m\u001b[0;34m)\u001b[0m\u001b[0;34m\u001b[0m\u001b[0;34m\u001b[0m\u001b[0m\n\u001b[0m",
      "\u001b[0;32m~/miniconda3/lib/python3.7/site-packages/pandas/util/testing.py\u001b[0m in \u001b[0;36massert_frame_equal\u001b[0;34m(left, right, check_dtype, check_index_type, check_column_type, check_frame_type, check_less_precise, check_names, by_blocks, check_exact, check_datetimelike_compat, check_categorical, check_like, obj)\u001b[0m\n\u001b[1;32m   1500\u001b[0m                 \u001b[0mcheck_datetimelike_compat\u001b[0m\u001b[0;34m=\u001b[0m\u001b[0mcheck_datetimelike_compat\u001b[0m\u001b[0;34m,\u001b[0m\u001b[0;34m\u001b[0m\u001b[0;34m\u001b[0m\u001b[0m\n\u001b[1;32m   1501\u001b[0m                 \u001b[0mcheck_categorical\u001b[0m\u001b[0;34m=\u001b[0m\u001b[0mcheck_categorical\u001b[0m\u001b[0;34m,\u001b[0m\u001b[0;34m\u001b[0m\u001b[0;34m\u001b[0m\u001b[0m\n\u001b[0;32m-> 1502\u001b[0;31m                 obj='DataFrame.iloc[:, {idx}]'.format(idx=i))\n\u001b[0m\u001b[1;32m   1503\u001b[0m \u001b[0;34m\u001b[0m\u001b[0m\n\u001b[1;32m   1504\u001b[0m \u001b[0;34m\u001b[0m\u001b[0m\n",
      "\u001b[0;32m~/miniconda3/lib/python3.7/site-packages/pandas/util/testing.py\u001b[0m in \u001b[0;36massert_series_equal\u001b[0;34m(left, right, check_dtype, check_index_type, check_series_type, check_less_precise, check_names, check_exact, check_datetimelike_compat, check_categorical, obj)\u001b[0m\n\u001b[1;32m   1334\u001b[0m                                      \u001b[0mcheck_less_precise\u001b[0m\u001b[0;34m=\u001b[0m\u001b[0mcheck_less_precise\u001b[0m\u001b[0;34m,\u001b[0m\u001b[0;34m\u001b[0m\u001b[0;34m\u001b[0m\u001b[0m\n\u001b[1;32m   1335\u001b[0m                                      \u001b[0mcheck_dtype\u001b[0m\u001b[0;34m=\u001b[0m\u001b[0mcheck_dtype\u001b[0m\u001b[0;34m,\u001b[0m\u001b[0;34m\u001b[0m\u001b[0;34m\u001b[0m\u001b[0m\n\u001b[0;32m-> 1336\u001b[0;31m                                      obj='{obj}'.format(obj=obj))\n\u001b[0m\u001b[1;32m   1337\u001b[0m \u001b[0;34m\u001b[0m\u001b[0m\n\u001b[1;32m   1338\u001b[0m     \u001b[0;31m# metadata comparison\u001b[0m\u001b[0;34m\u001b[0m\u001b[0;34m\u001b[0m\u001b[0;34m\u001b[0m\u001b[0m\n",
      "\u001b[0;32mpandas/_libs/testing.pyx\u001b[0m in \u001b[0;36mpandas._libs.testing.assert_almost_equal\u001b[0;34m()\u001b[0m\n",
      "\u001b[0;32mpandas/_libs/testing.pyx\u001b[0m in \u001b[0;36mpandas._libs.testing.assert_almost_equal\u001b[0;34m()\u001b[0m\n",
      "\u001b[0;32m~/miniconda3/lib/python3.7/site-packages/pandas/util/testing.py\u001b[0m in \u001b[0;36mraise_assert_detail\u001b[0;34m(obj, message, left, right, diff)\u001b[0m\n\u001b[1;32m   1092\u001b[0m         \u001b[0mmsg\u001b[0m \u001b[0;34m+=\u001b[0m \u001b[0;34m\"\\n[diff]: {diff}\"\u001b[0m\u001b[0;34m.\u001b[0m\u001b[0mformat\u001b[0m\u001b[0;34m(\u001b[0m\u001b[0mdiff\u001b[0m\u001b[0;34m=\u001b[0m\u001b[0mdiff\u001b[0m\u001b[0;34m)\u001b[0m\u001b[0;34m\u001b[0m\u001b[0;34m\u001b[0m\u001b[0m\n\u001b[1;32m   1093\u001b[0m \u001b[0;34m\u001b[0m\u001b[0m\n\u001b[0;32m-> 1094\u001b[0;31m     \u001b[0;32mraise\u001b[0m \u001b[0mAssertionError\u001b[0m\u001b[0;34m(\u001b[0m\u001b[0mmsg\u001b[0m\u001b[0;34m)\u001b[0m\u001b[0;34m\u001b[0m\u001b[0;34m\u001b[0m\u001b[0m\n\u001b[0m\u001b[1;32m   1095\u001b[0m \u001b[0;34m\u001b[0m\u001b[0m\n\u001b[1;32m   1096\u001b[0m \u001b[0;34m\u001b[0m\u001b[0m\n",
      "\u001b[0;31mAssertionError\u001b[0m: DataFrame.iloc[:, 0] are different\n\nDataFrame.iloc[:, 0] values are different (17.59081 %)\n[left]:  [0010J00001mPCkm, 0010J00001mPCkm, 0010J00001mPCkm, 0010J00001mPCkm, 0010J00001mPClQ, 0010J00001mPClQ, 0010J00001mPClQ, 0010J00001mPClQ, 0010J00001mPCnq, 0010J00001mPCnq, 0010J00001mPCnq, 0010J00001mPCnq, 0010J00001mPCs7, 0010J00001mPCs7, 0010J00001mPCs7, 0010J00001mPCs7, 0010J00001mPCsC, 0010J00001mPCsC, 0010J00001mPCsC, 0010J00001mPCsC, 0010J00001mPCsH, 0010J00001mPCsH, 0010J00001mPCsH, 0010J00001mPCsH, 0010J00001mPCuS, 0010J00001mPCuS, 0010J00001mPCuS, 0010J00001mPCuS, 0010J00001mPCuw, 0010J00001mPCuw, 0010J00001mPCuw, 0010J00001mPCuw, 0010J00001mPCvL, 0010J00001mPCvL, 0010J00001mPCvL, 0010J00001mPCvL, 0010J00001oc3Ln, 0010J00001oc3Ln, 0010J00001oc3Ln, 0010J00001oc3Ln, 0010J00001oc3Ls, 0010J00001oc3Ls, 0010J00001oc3Ls, 0010J00001oc3Ls, 0010J00001oc4MN, 0010J00001oc4MN, 0010J00001oc4MN, 0010J00001oc4MN, 0010J00001oc4Mh, 0010J00001oc4Mh, 0010J00001oc4Mh, 0010J00001oc4Mh, 0010J00001oc4Mw, 0010J00001oc4Mw, 0010J00001oc4Mw, 0010J00001oc4Mw, 0010J00001oc4NV, 0010J00001oc4NV, 0010J00001oc4NV, 0010J00001oc4NV, 0010J00001oc4lS, 0010J00001oc4lS, 0010J00001oc4lS, 0010J00001oc4lS, 0010J00001oc4q3, 0010J00001oc4rV, 0010J00001oc4rV, 0010J00001oc4rV, 0010J00001oc4rV, 0010J00001oc4ra, 0010J00001oc4ra, 0010J00001oc4ra, 0010J00001oc4ra, 0010J00001oc4rf, 0010J00001oc4rf, 0010J00001oc4rf, 0010J00001oc4rf, 0010J00001oc4rk, 0010J00001oc4rk, 0010J00001oc4rk, 0010J00001oc4rk, 0010J00001oc4ru, 0010J00001oc4ru, 0010J00001oc4ru, 0010J00001oc4ru, 0010J00001oc4rz, 0010J00001oc4rz, 0010J00001oc4rz, 0010J00001oc4rz, 0010J00001oc4s4, 0010J00001oc4s4, 0010J00001oc4s4, 0010J00001oc4s4, 0010J00001oc4s9, 0010J00001oc4s9, 0010J00001oc4s9, 0010J00001oc4s9, 0010J00001oc4sJ, 0010J00001oc4sJ, 0010J00001oc4sJ, ...]\n[right]: [0010J00001mPCkm, 0010J00001mPCkm, 0010J00001mPCkm, 0010J00001mPCkm, 0010J00001mPClQ, 0010J00001mPClQ, 0010J00001mPClQ, 0010J00001mPClQ, 0010J00001mPCnq, 0010J00001mPCnq, 0010J00001mPCnq, 0010J00001mPCnq, 0010J00001mPCs7, 0010J00001mPCs7, 0010J00001mPCs7, 0010J00001mPCs7, 0010J00001mPCsC, 0010J00001mPCsC, 0010J00001mPCsC, 0010J00001mPCsC, 0010J00001mPCsH, 0010J00001mPCsH, 0010J00001mPCsH, 0010J00001mPCsH, 0010J00001mPCuS, 0010J00001mPCuS, 0010J00001mPCuS, 0010J00001mPCuS, 0010J00001mPCuw, 0010J00001mPCuw, 0010J00001mPCuw, 0010J00001mPCuw, 0010J00001mPCvL, 0010J00001mPCvL, 0010J00001mPCvL, 0010J00001mPCvL, 0010J00001oc3Ln, 0010J00001oc3Ln, 0010J00001oc3Ln, 0010J00001oc3Ln, 0010J00001oc3Ls, 0010J00001oc3Ls, 0010J00001oc3Ls, 0010J00001oc3Ls, 0010J00001oc4MN, 0010J00001oc4MN, 0010J00001oc4MN, 0010J00001oc4MN, 0010J00001oc4Mh, 0010J00001oc4Mh, 0010J00001oc4Mh, 0010J00001oc4Mh, 0010J00001oc4Mw, 0010J00001oc4Mw, 0010J00001oc4Mw, 0010J00001oc4Mw, 0010J00001oc4NV, 0010J00001oc4NV, 0010J00001oc4NV, 0010J00001oc4NV, 0010J00001oc4lS, 0010J00001oc4lS, 0010J00001oc4lS, 0010J00001oc4lS, 0010J00001oc4q3, 0010J00001oc4rV, 0010J00001oc4rV, 0010J00001oc4rV, 0010J00001oc4rV, 0010J00001oc4ra, 0010J00001oc4ra, 0010J00001oc4ra, 0010J00001oc4ra, 0010J00001oc4rf, 0010J00001oc4rf, 0010J00001oc4rf, 0010J00001oc4rf, 0010J00001oc4rk, 0010J00001oc4rk, 0010J00001oc4rk, 0010J00001oc4rk, 0010J00001oc4ru, 0010J00001oc4ru, 0010J00001oc4ru, 0010J00001oc4ru, 0010J00001oc4rz, 0010J00001oc4rz, 0010J00001oc4rz, 0010J00001oc4rz, 0010J00001oc4s4, 0010J00001oc4s4, 0010J00001oc4s4, 0010J00001oc4s4, 0010J00001oc4s9, 0010J00001oc4s9, 0010J00001oc4s9, 0010J00001oc4s9, 0010J00001oc4sJ, 0010J00001oc4sJ, 0010J00001oc4sJ, ...]"
     ]
    }
   ],
   "source": [
    "assert_frame_equal(old, new)"
   ]
  },
  {
   "cell_type": "code",
   "execution_count": null,
   "metadata": {},
   "outputs": [],
   "source": []
  },
  {
   "cell_type": "code",
   "execution_count": 30,
   "metadata": {},
   "outputs": [],
   "source": [
    "paying_accs = np.array(['001b000000qH8z9', '001b000000c5Oef', '001b000003xeKAI',\n",
    "       '001b000000XqAnZ', '001b00000067QDW', '001b000000VqZ2p',\n",
    "       '001b000000YzgLy', '0010J00001ooUjf', '001b000003kcVmx',\n",
    "       '001b000003wvjT4', '001b000003qo0V6', '0010J00001pG7pF',\n",
    "       '001b000003lKxcn', '001b000003sTQtk', '001b000003iTTS6',\n",
    "       '001b000003rcGtJ', '001b000003ODiXU', '001b000003s3ScV',\n",
    "       '001b000003ODKDn', '001b000000Ztyh2', '001b000003grgyD',\n",
    "       '0010J00001opa7S', '0010J00001opSZk', '001b000003griFK',\n",
    "       '001b000003qmWP0', '001b000003gqElA', '001b000003rbHuA',\n",
    "       '001b0000006AArd', '001b000003s3S4y', '001b000003nEKOq',\n",
    "       '0010J00001ooU2z', '001b000001EhVQF', '0010J00001osBe1',\n",
    "       '0010J00001pG2vr', '001b0000026fDLx', '001b000000yfFcC',\n",
    "       '0010J00001opUHM', '001b000000rHLNw', '001b000001EjK7y',\n",
    "       '001b000000Yze26', '001b000003UuaRn', '001b0000008cHQe',\n",
    "       '001b0000001xRes', '001b000000a8tXw', '001b000000GIMWV',\n",
    "       '001b000000GId8S', '001b0000001xvCR', '001b0000001xvCb',\n",
    "       '001b0000008cQm4', '001b0000008eb1E', '001b000000GIM7C',\n",
    "       '001b000000KpKLf', '001b000000bYsKx', '001b000000iAUIT',\n",
    "       '001b000000nRB0n', '0010J00001sr81X', '001b000003rc0pu',\n",
    "       '001b0000001xRfH', '001b000000EbrZ7', '001b000000I5WIl',\n",
    "       '001b000000PH1xJ', '001b000000RcS0U', '0010J00001spR4s',\n",
    "       '001b000000dEng9', '0010J00001spJdB', '0010J00001or2yM',\n",
    "       '001b000000j2GPo', '001b000000k3qP4', '001b000000m6oy0',\n",
    "       '0010J00001pFkEw', '0010J00001xx0Zv', '0010J00001pFQ4e',\n",
    "       '001b000003gspEo', '001b000003sTO7U', '001b0000001yGLf',\n",
    "       '001b00000068F2b', '001b0000006A5YE', '001b000000SgIcW',\n",
    "       '001b000000UXnxT', '001b000000a6p5D', '001b000000aS1kM',\n",
    "       '001b000000c59Dv', '0010J00001os9YZ', '001b000000kh1zR',\n",
    "       '001b000000m4fla', '001b000000c3fej', '0010J00001sq6eQ',\n",
    "       '001b000003oKchY', '001b0000007Vvoe', '0010J00001spvzw',\n",
    "       '001b000000dnTQh', '0010J00001sqGlJ', '001b0000001xnZc',\n",
    "       '001b000003iSDFu', '001b000000HkDDm', '0010J00001sqnWX',\n",
    "       '001b000000ei8Jf', '001b000003ydEjy', '001b000000RGrPf',\n",
    "       '001b000003UxdBb', '0010J00001sOm4D', '001b000000EcZOM',\n",
    "       '0010J00001oqpnf', '001b0000001xvIU', '001b0000001y00r',\n",
    "       '001b000003vmAZr', '0010J00001pFtOl', '001b000000Vr9Fq',\n",
    "       '001b000003ydcqU', '001b0000008cHQh', '001b000003lvB1b',\n",
    "       '001b000003nDnPE', '001b000000aSU9O', '0010J00001sriLY',\n",
    "       '001b000003mXjvO', '001b000000j4Ykx', '0010J00001yQjwS',\n",
    "       '0010J00001pFk2v', '001b000000a8YaG', '0010J00001sqXoG',\n",
    "       '001b0000005q3Jz', '001b000000Ywov7', '001b000000fTU6Q',\n",
    "       '001b000001EhSOT', '001b000000S94sv', '001b000000eiCtG',\n",
    "       '001b000000iB3RJ', '001b000000n1pvG', '001b00000069nht',\n",
    "       '001b000000I5W7J', '001b000000l8Y79', '001b000000WDp32',\n",
    "       '001b000000fUixp', '001b0000008bxv2', '001b000000oyZW1',\n",
    "       '001b000000c6Toi', '001b00000068PkN', '001b00000054P54',\n",
    "       '001b000000WB4BD', '001b000000bPork', '001b000000OiFZa',\n",
    "       '001b000000Qr9g2', '001b000000a63wN', '001b000000iBm8v',\n",
    "       '001b0000004Hx2O', '001b000000XoQOE', '001b000000dk7OM',\n",
    "       '001b000000aQadY', '001b000000m4ghe', '001b000000XoQzw',\n",
    "       '001b000000h4MRq', '001b0000006A70N', '001b000000amrli',\n",
    "       '001b000000m6Sh0', '001b000003qm4Ej', '001b000003iS79I',\n",
    "       '0010J00001ooV78', '001b000003xeI2C', '001b000003JQM0T',\n",
    "       '001b000003jz0Iu', '001b000003gs4A0', '001b000000sB52F',\n",
    "       '0010J00001oc8DF', '001b000003j4pGR', '001b000003oz7H2',\n",
    "       '001b000003wECi5', '0010J00001orC6W', '001b000003OFENz',\n",
    "       '001b000003xfj8m', '001b000003grxau', '001b000000NuiqD',\n",
    "       '001b000003Kt5v6', '001b000003mWoMu', '001b000003g83Jb',\n",
    "       '0010J00001oqsqw', '001b000002obMfB', '001b000003oIYFz',\n",
    "       '0010J00001oqgkS', '001b000003cUW1V', '001b000003keYTa',\n",
    "       '001b000003k02TI', '001b000003UuqM9', '001b000001UmRCe',\n",
    "       '0010J00001ooX0r', '001b000003jz9C7', '001b000003OF8w4',\n",
    "       '001b000003Yu0Bo', '001b000003jwjmh', '001b000003TOe7l',\n",
    "       '001b000003nhIbK', '001b000003Zsh5P', '001b000003s29Mp',\n",
    "       '001b000003gs1bU', '001b000003kcX4l', '001b000003kfNoN',\n",
    "       '001b000003QtXyT', '001b000003LfS6f', '001b000003wxIch',\n",
    "       '001b000003nCoYZ', '001b000003Kt5sv', '001b000003MdS6L',\n",
    "       '001b000003qCU53', '001b000003jywJ0', '001b000003WYolK',\n",
    "       '001b000003k01L8', '001b000003JrOY7', '001b000000c5VoN',\n",
    "       '001b000003tgOLb', '001b000003j3Z4i', '001b000003Ux5G4',\n",
    "       '001b000003kfzm0', '001b000003TOwxH', '001b000001pmytA',\n",
    "       '001b000003nfVdE', '001b000003WaPRk', '001b000001EhSr1',\n",
    "       '001b000003hWbBj', '001b000003J0tbY', '001b000002LQCqZ',\n",
    "       '001b000003iRxY9', '001b000003HcbYE', '0010J00001oc4O9',\n",
    "       '001b000003qmgV1', '001b000003oHav2', '001b0000026fR48',\n",
    "       '001b000003J0uAY', '001b000003jz4hs', '001b0000019w95b',\n",
    "       '001b000003iS1Se', '001b000003NHDh1', '001b000000l7vRw',\n",
    "       '001b000001pnFpg', '001b000003LhZDa', '001b000000U1ra9',\n",
    "       '001b000003sTTlV', '001b000003LeRL3', '0010J00001or0lk',\n",
    "       '001b000003Ux79B', '001b000003TOGvK', '001b000000picB2',\n",
    "       '001b000000o0wkA', '001b000003jzAxJ', '001b000000oTqNO',\n",
    "       '001b000003NIFnX', '001b000000p20V8', '001b000003Uwe4a',\n",
    "       '001b000003jz5St', '001b000003Ux5De', '001b000000p0n5d',\n",
    "       '001b000003MDkOz', '001b000003WZuhX', '001b000003J3zo2',\n",
    "       '001b000003mZ0Qi', '001b000000yf5jJ', '001b000003xfFjr',\n",
    "       '001b000000qJYm6', '001b000003rbzQ0', '001b000000qHw6M',\n",
    "       '001b000003mXdDB', '001b000003MeTdn', '001b0000003qQeJ',\n",
    "       '001b000003WXKiT', '001b000003hXSR9', '001b000003TPm7H',\n",
    "       '001b000003kciZU', '001b000003WZdAW', '001b000003YNCtz',\n",
    "       '001b000000yg8xT', '001b000001Ul3I0', '001b000003YqPpu',\n",
    "       '001b000003EgQai', '001b000003OH0jY', '001b000003kd0RZ',\n",
    "       '001b000003TOd4T', '001b000003WXyLJ', '001b000003GZ2GR',\n",
    "       '001b000003uCIsx', '001b000003TMYGH', '001b000003NHZxy',\n",
    "       '001b000003gt2QM', '001b000003HNgaU', '001b000003OGF51',\n",
    "       '001b000003JrO0d', '001b000001Eii7M', '001b000000PI3ba',\n",
    "       '001b000003alAon', '001b000003LhWev', '001b000003mWZi4',\n",
    "       '001b000002oYCgP', '001b000003Qt4uK', '001b000003nDnQR',\n",
    "       '001b000003j4HEO', '001b0000007VOae', '001b000003wwrrT',\n",
    "       '001b000003cYUc0', '001b000003NHAY5', '001b000003Zu2YC',\n",
    "       '001b000003oyztN', '001b0000026ecqJ', '001b000000qqlp2',\n",
    "       '001b000000l9byg', '001b000003Kjead', '001b000003NGgHE',\n",
    "       '001b000001EhBMH', '001b000003jzdhk', '001b0000015m5BU',\n",
    "       '001b000003NGTXq', '001b000003g8u3B', '001b0000015YK9H',\n",
    "       '001b000003Md545', '001b000001EiCdH', '001b000003Ns5UA',\n",
    "       '001b000000picBC', '001b000003fJa8p', '001b000000Vr1t8',\n",
    "       '001b000003ZuU1c', '001b0000015lxEE', '001b000003hWcJe',\n",
    "       '001b000003WYonV', '001b000003ODJxB', '001b000003nfsGl',\n",
    "       '001b000003TOJZH', '001b0000026gXNo', '001b000001SHFJv',\n",
    "       '001b000003HcVJD', '001b000000ehyKq', '001b000001Hi9uc',\n",
    "       '0010J00001oc8BY', '001b000000bQPWF', '001b000000ygN3O',\n",
    "       '001b000000XoteL', '001b000003OFcXW', '001b000003j7Rjo',\n",
    "       '001b000000qIoSd', '001b000001UmhjW', '001b000003qlz43',\n",
    "       '001b000003j4Ac0', '001b000003Kjbz0', '001b000001UmwdT',\n",
    "       '001b000003s28vP', '001b000001EjFz2', '001b000003oww3U',\n",
    "       '001b000003j7RxW'], dtype=object)"
   ]
  }
 ],
 "metadata": {
  "kernelspec": {
   "display_name": "Python 3",
   "language": "python",
   "name": "python3"
  },
  "language_info": {
   "codemirror_mode": {
    "name": "ipython",
    "version": 3
   },
   "file_extension": ".py",
   "mimetype": "text/x-python",
   "name": "python",
   "nbconvert_exporter": "python",
   "pygments_lexer": "ipython3",
   "version": "3.8.6"
  }
 },
 "nbformat": 4,
 "nbformat_minor": 2
}
