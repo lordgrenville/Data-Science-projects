{
 "cells": [
  {
   "cell_type": "code",
   "execution_count": 4,
   "metadata": {},
   "outputs": [],
   "source": [
    "import pandas as pd"
   ]
  },
  {
   "cell_type": "code",
   "execution_count": 5,
   "metadata": {},
   "outputs": [],
   "source": [
    "old_target = pd.read_csv('FEEDVISOR_pre_daily_collection_snapshot_cleaned_pai_snapshot_c1_d2019-01-01_target.csv')"
   ]
  },
  {
   "cell_type": "code",
   "execution_count": 6,
   "metadata": {},
   "outputs": [
    {
     "name": "stderr",
     "output_type": "stream",
     "text": [
      "/Users/joshfriedlander/miniconda3/lib/python3.7/site-packages/IPython/core/interactiveshell.py:3020: DtypeWarning: Columns (2,5,6,7,8,10,11) have mixed types. Specify dtype option on import or set low_memory=False.\n",
      "  interactivity=interactivity, compiler=compiler, result=result)\n"
     ]
    }
   ],
   "source": [
    "new_target = pd.read_csv('FEEDVISOR_pre_daily_collection_snapshot_pre_stitch_cleaned_target_NEW2019-01-09.csv')"
   ]
  },
  {
   "cell_type": "code",
   "execution_count": 7,
   "metadata": {},
   "outputs": [],
   "source": [
    "old_account = pd.read_csv('FEEDVISOR_pre_daily_collection_snapshot_cleaned_pai_snapshot_c1_d2019-01-01_account.csv')"
   ]
  },
  {
   "cell_type": "code",
   "execution_count": 8,
   "metadata": {},
   "outputs": [
    {
     "name": "stderr",
     "output_type": "stream",
     "text": [
      "/Users/joshfriedlander/miniconda3/lib/python3.7/site-packages/IPython/core/interactiveshell.py:3020: DtypeWarning: Columns (2,3,4,5,9,10,11,12,13,14,15,16,19,20,21,22,23,24,25,28,30,31) have mixed types. Specify dtype option on import or set low_memory=False.\n",
      "  interactivity=interactivity, compiler=compiler, result=result)\n"
     ]
    }
   ],
   "source": [
    "new_account = pd.read_csv('FEEDVISOR_pre_daily_collection_snapshot_pre_stitch_cleaned_account_NEW2019-01-09.csv')"
   ]
  },
  {
   "cell_type": "code",
   "execution_count": 12,
   "metadata": {},
   "outputs": [
    {
     "data": {
      "text/html": [
       "<div>\n",
       "<style scoped>\n",
       "    .dataframe tbody tr th:only-of-type {\n",
       "        vertical-align: middle;\n",
       "    }\n",
       "\n",
       "    .dataframe tbody tr th {\n",
       "        vertical-align: top;\n",
       "    }\n",
       "\n",
       "    .dataframe thead th {\n",
       "        text-align: right;\n",
       "    }\n",
       "</style>\n",
       "<table border=\"1\" class=\"dataframe\">\n",
       "  <thead>\n",
       "    <tr style=\"text-align: right;\">\n",
       "      <th></th>\n",
       "      <th>client_id</th>\n",
       "      <th>recipe_execution_date</th>\n",
       "      <th>pai_account_id</th>\n",
       "      <th>account_name</th>\n",
       "      <th>date</th>\n",
       "      <th>country</th>\n",
       "      <th>of_repricing_online_stores</th>\n",
       "      <th>account_currency_code</th>\n",
       "      <th>base_mrr</th>\n",
       "      <th>email</th>\n",
       "      <th>...</th>\n",
       "      <th>current_csm</th>\n",
       "      <th>last_bill_total_fee</th>\n",
       "      <th>last_bill_variable_fee</th>\n",
       "      <th>next_calculated_exit_point</th>\n",
       "      <th>package</th>\n",
       "      <th>price_trend</th>\n",
       "      <th>profit_trend</th>\n",
       "      <th>time_zone</th>\n",
       "      <th>totango_account_health</th>\n",
       "      <th>upsell_opportunity_package</th>\n",
       "    </tr>\n",
       "  </thead>\n",
       "  <tbody>\n",
       "    <tr>\n",
       "      <th>8612</th>\n",
       "      <td>1</td>\n",
       "      <td>2018-03-17</td>\n",
       "      <td>001b0000003T3TA</td>\n",
       "      <td>wirelessnow</td>\n",
       "      <td>2017-4-16</td>\n",
       "      <td>US</td>\n",
       "      <td>0</td>\n",
       "      <td>1</td>\n",
       "      <td>3500.0</td>\n",
       "      <td>d@dimex.net</td>\n",
       "      <td>...</td>\n",
       "      <td>NaN</td>\n",
       "      <td>NaN</td>\n",
       "      <td>NaN</td>\n",
       "      <td>2018-03-01</td>\n",
       "      <td>Enterprise</td>\n",
       "      <td>NaN</td>\n",
       "      <td>NaN</td>\n",
       "      <td>EST</td>\n",
       "      <td>NaN</td>\n",
       "      <td>NaN</td>\n",
       "    </tr>\n",
       "  </tbody>\n",
       "</table>\n",
       "<p>1 rows × 26 columns</p>\n",
       "</div>"
      ],
      "text/plain": [
       "      client_id recipe_execution_date   pai_account_id account_name  \\\n",
       "8612          1            2018-03-17  001b0000003T3TA  wirelessnow   \n",
       "\n",
       "           date country  of_repricing_online_stores  account_currency_code  \\\n",
       "8612  2017-4-16      US                           0                      1   \n",
       "\n",
       "      base_mrr        email            ...             current_csm  \\\n",
       "8612    3500.0  d@dimex.net            ...                     NaN   \n",
       "\n",
       "     last_bill_total_fee last_bill_variable_fee next_calculated_exit_point  \\\n",
       "8612                 NaN                    NaN                 2018-03-01   \n",
       "\n",
       "         package  price_trend profit_trend  time_zone  totango_account_health  \\\n",
       "8612  Enterprise          NaN          NaN        EST                     NaN   \n",
       "\n",
       "     upsell_opportunity_package  \n",
       "8612                        NaN  \n",
       "\n",
       "[1 rows x 26 columns]"
      ]
     },
     "execution_count": 12,
     "metadata": {},
     "output_type": "execute_result"
    }
   ],
   "source": [
    "old_account[(old_account.pai_account_id == '001b0000003T3TA') & (old_account.date == '2017-4-16')] "
   ]
  },
  {
   "cell_type": "code",
   "execution_count": 10,
   "metadata": {},
   "outputs": [
    {
     "data": {
      "text/html": [
       "<div>\n",
       "<style scoped>\n",
       "    .dataframe tbody tr th:only-of-type {\n",
       "        vertical-align: middle;\n",
       "    }\n",
       "\n",
       "    .dataframe tbody tr th {\n",
       "        vertical-align: top;\n",
       "    }\n",
       "\n",
       "    .dataframe thead th {\n",
       "        text-align: right;\n",
       "    }\n",
       "</style>\n",
       "<table border=\"1\" class=\"dataframe\">\n",
       "  <thead>\n",
       "    <tr style=\"text-align: right;\">\n",
       "      <th></th>\n",
       "      <th>client_id</th>\n",
       "      <th>recipe_execution_date</th>\n",
       "      <th>pai_account_id</th>\n",
       "      <th>account_name</th>\n",
       "      <th>date</th>\n",
       "      <th>country</th>\n",
       "      <th>of_repricing_online_stores</th>\n",
       "      <th>account_currency_code</th>\n",
       "      <th>base_mrr</th>\n",
       "      <th>email</th>\n",
       "      <th>...</th>\n",
       "      <th>profit_trend</th>\n",
       "      <th>time_zone</th>\n",
       "      <th>totango_account_health</th>\n",
       "      <th>upsell_opportunity_package</th>\n",
       "      <th>pai_is_deleted</th>\n",
       "      <th>x2nd_repricer_of_products_repriced</th>\n",
       "      <th>fba_sales_last_30_days</th>\n",
       "      <th>monthly_variable_cap</th>\n",
       "      <th>needed_touchpoints</th>\n",
       "      <th>subscription_suspended</th>\n",
       "    </tr>\n",
       "  </thead>\n",
       "  <tbody>\n",
       "    <tr>\n",
       "      <th>1288330</th>\n",
       "      <td>1</td>\n",
       "      <td>2019-01-09</td>\n",
       "      <td>001b0000003T3TA</td>\n",
       "      <td>wirelessnow</td>\n",
       "      <td>2017-04-16</td>\n",
       "      <td>NaN</td>\n",
       "      <td>0.0</td>\n",
       "      <td>1.0</td>\n",
       "      <td>3500.0</td>\n",
       "      <td>d@dimex.net</td>\n",
       "      <td>...</td>\n",
       "      <td>NaN</td>\n",
       "      <td>EST</td>\n",
       "      <td>NaN</td>\n",
       "      <td>NaN</td>\n",
       "      <td>0</td>\n",
       "      <td>NaN</td>\n",
       "      <td>NaN</td>\n",
       "      <td>NaN</td>\n",
       "      <td>NaN</td>\n",
       "      <td>0</td>\n",
       "    </tr>\n",
       "  </tbody>\n",
       "</table>\n",
       "<p>1 rows × 32 columns</p>\n",
       "</div>"
      ],
      "text/plain": [
       "         client_id recipe_execution_date   pai_account_id account_name  \\\n",
       "1288330          1            2019-01-09  001b0000003T3TA  wirelessnow   \n",
       "\n",
       "               date country  of_repricing_online_stores  \\\n",
       "1288330  2017-04-16     NaN                         0.0   \n",
       "\n",
       "         account_currency_code  base_mrr        email          ...            \\\n",
       "1288330                    1.0    3500.0  d@dimex.net          ...             \n",
       "\n",
       "        profit_trend time_zone totango_account_health  \\\n",
       "1288330          NaN       EST                    NaN   \n",
       "\n",
       "        upsell_opportunity_package pai_is_deleted  \\\n",
       "1288330                        NaN              0   \n",
       "\n",
       "        x2nd_repricer_of_products_repriced fba_sales_last_30_days  \\\n",
       "1288330                                NaN                    NaN   \n",
       "\n",
       "         monthly_variable_cap  needed_touchpoints subscription_suspended  \n",
       "1288330                   NaN                 NaN                      0  \n",
       "\n",
       "[1 rows x 32 columns]"
      ]
     },
     "execution_count": 10,
     "metadata": {},
     "output_type": "execute_result"
    }
   ],
   "source": [
    "new_account[(new_account.pai_account_id == '001b0000003T3TA') & (new_account.date == '2017-04-16')] "
   ]
  },
  {
   "cell_type": "code",
   "execution_count": null,
   "metadata": {},
   "outputs": [],
   "source": []
  },
  {
   "cell_type": "code",
   "execution_count": null,
   "metadata": {},
   "outputs": [],
   "source": []
  },
  {
   "cell_type": "code",
   "execution_count": 17,
   "metadata": {},
   "outputs": [],
   "source": [
    "df = old_target[old_target.pai_account_id.isin(pids)][['pai_account_id', 'churn_in_stage', 'churn_in_stage_paying', 'churn_in_stage_poc', 'stage', 'date']]"
   ]
  },
  {
   "cell_type": "code",
   "execution_count": 18,
   "metadata": {},
   "outputs": [
    {
     "data": {
      "text/html": [
       "<div>\n",
       "<style scoped>\n",
       "    .dataframe tbody tr th:only-of-type {\n",
       "        vertical-align: middle;\n",
       "    }\n",
       "\n",
       "    .dataframe tbody tr th {\n",
       "        vertical-align: top;\n",
       "    }\n",
       "\n",
       "    .dataframe thead th {\n",
       "        text-align: right;\n",
       "    }\n",
       "</style>\n",
       "<table border=\"1\" class=\"dataframe\">\n",
       "  <thead>\n",
       "    <tr style=\"text-align: right;\">\n",
       "      <th></th>\n",
       "      <th>pai_account_id</th>\n",
       "      <th>churn_in_stage</th>\n",
       "      <th>churn_in_stage_paying</th>\n",
       "      <th>churn_in_stage_poc</th>\n",
       "      <th>stage</th>\n",
       "      <th>date</th>\n",
       "    </tr>\n",
       "  </thead>\n",
       "  <tbody>\n",
       "    <tr>\n",
       "      <th>33425</th>\n",
       "      <td>001b000000FnoxB</td>\n",
       "      <td>0.0</td>\n",
       "      <td>0</td>\n",
       "      <td>0.0</td>\n",
       "      <td>poc</td>\n",
       "      <td>2017-10-8</td>\n",
       "    </tr>\n",
       "    <tr>\n",
       "      <th>33507</th>\n",
       "      <td>001b000000HD2rh</td>\n",
       "      <td>1.0</td>\n",
       "      <td>1</td>\n",
       "      <td>NaN</td>\n",
       "      <td>paying</td>\n",
       "      <td>2017-10-8</td>\n",
       "    </tr>\n",
       "    <tr>\n",
       "      <th>33636</th>\n",
       "      <td>001b0000019wSsQ</td>\n",
       "      <td>1.0</td>\n",
       "      <td>1</td>\n",
       "      <td>NaN</td>\n",
       "      <td>paying</td>\n",
       "      <td>2017-10-8</td>\n",
       "    </tr>\n",
       "  </tbody>\n",
       "</table>\n",
       "</div>"
      ],
      "text/plain": [
       "        pai_account_id  churn_in_stage  churn_in_stage_paying  \\\n",
       "33425  001b000000FnoxB             0.0                      0   \n",
       "33507  001b000000HD2rh             1.0                      1   \n",
       "33636  001b0000019wSsQ             1.0                      1   \n",
       "\n",
       "       churn_in_stage_poc   stage       date  \n",
       "33425                 0.0     poc  2017-10-8  \n",
       "33507                 NaN  paying  2017-10-8  \n",
       "33636                 NaN  paying  2017-10-8  "
      ]
     },
     "execution_count": 18,
     "metadata": {},
     "output_type": "execute_result"
    }
   ],
   "source": [
    "df[df.date == '2017-10-8']"
   ]
  },
  {
   "cell_type": "code",
   "execution_count": 19,
   "metadata": {},
   "outputs": [],
   "source": [
    "df2 = new_target[new_target.pai_account_id.isin(pids)][['pai_account_id', 'churn_in_stage', 'churn_in_stage_paying', 'churn_in_stage_poc', 'stage', 'date']]"
   ]
  },
  {
   "cell_type": "code",
   "execution_count": 21,
   "metadata": {},
   "outputs": [
    {
     "data": {
      "text/html": [
       "<div>\n",
       "<style scoped>\n",
       "    .dataframe tbody tr th:only-of-type {\n",
       "        vertical-align: middle;\n",
       "    }\n",
       "\n",
       "    .dataframe tbody tr th {\n",
       "        vertical-align: top;\n",
       "    }\n",
       "\n",
       "    .dataframe thead th {\n",
       "        text-align: right;\n",
       "    }\n",
       "</style>\n",
       "<table border=\"1\" class=\"dataframe\">\n",
       "  <thead>\n",
       "    <tr style=\"text-align: right;\">\n",
       "      <th></th>\n",
       "      <th>pai_account_id</th>\n",
       "      <th>churn_in_stage</th>\n",
       "      <th>churn_in_stage_paying</th>\n",
       "      <th>churn_in_stage_poc</th>\n",
       "      <th>stage</th>\n",
       "      <th>date</th>\n",
       "    </tr>\n",
       "  </thead>\n",
       "  <tbody>\n",
       "    <tr>\n",
       "      <th>911092</th>\n",
       "      <td>001b000000FnoxB</td>\n",
       "      <td>1.0</td>\n",
       "      <td>0</td>\n",
       "      <td>1.0</td>\n",
       "      <td>poc</td>\n",
       "      <td>2017-10-08</td>\n",
       "    </tr>\n",
       "    <tr>\n",
       "      <th>913857</th>\n",
       "      <td>001b000000HD2rh</td>\n",
       "      <td>1.0</td>\n",
       "      <td>1</td>\n",
       "      <td>NaN</td>\n",
       "      <td>paying</td>\n",
       "      <td>2017-10-08</td>\n",
       "    </tr>\n",
       "    <tr>\n",
       "      <th>914839</th>\n",
       "      <td>001b0000019wSsQ</td>\n",
       "      <td>1.0</td>\n",
       "      <td>1</td>\n",
       "      <td>NaN</td>\n",
       "      <td>paying</td>\n",
       "      <td>2017-10-08</td>\n",
       "    </tr>\n",
       "  </tbody>\n",
       "</table>\n",
       "</div>"
      ],
      "text/plain": [
       "         pai_account_id  churn_in_stage  churn_in_stage_paying  \\\n",
       "911092  001b000000FnoxB             1.0                      0   \n",
       "913857  001b000000HD2rh             1.0                      1   \n",
       "914839  001b0000019wSsQ             1.0                      1   \n",
       "\n",
       "        churn_in_stage_poc   stage        date  \n",
       "911092                 1.0     poc  2017-10-08  \n",
       "913857                 NaN  paying  2017-10-08  \n",
       "914839                 NaN  paying  2017-10-08  "
      ]
     },
     "execution_count": 21,
     "metadata": {},
     "output_type": "execute_result"
    }
   ],
   "source": [
    "df2[df2.date == '2017-10-08']"
   ]
  },
  {
   "cell_type": "code",
   "execution_count": null,
   "metadata": {},
   "outputs": [],
   "source": [
    "pai_account_id\tdate\tstage_old\tstage_new\n",
    "001b000000HD2rh\t2017-11-07\tpoc\tpaying\n",
    "001b000000HD2rh\t2017-11-13\tpoc\tpaying\n",
    "001b0000019wSsQ\t2017-12-09\tpoc\tpaying\n",
    "001b0000019wf5M\t2017-12-09\tpoc\tpaying\n",
    "001b0000019wfNp\t2017-12-09\tpoc\tpaying\n",
    "001b000001Eh9R9\t2017-12-09\tpoc\tpaying\n",
    "001b000001Eh9qL\t2017-12-09\tpoc\tpaying\n"
   ]
  },
  {
   "cell_type": "code",
   "execution_count": 27,
   "metadata": {},
   "outputs": [
    {
     "data": {
      "text/html": [
       "<div>\n",
       "<style scoped>\n",
       "    .dataframe tbody tr th:only-of-type {\n",
       "        vertical-align: middle;\n",
       "    }\n",
       "\n",
       "    .dataframe tbody tr th {\n",
       "        vertical-align: top;\n",
       "    }\n",
       "\n",
       "    .dataframe thead th {\n",
       "        text-align: right;\n",
       "    }\n",
       "</style>\n",
       "<table border=\"1\" class=\"dataframe\">\n",
       "  <thead>\n",
       "    <tr style=\"text-align: right;\">\n",
       "      <th></th>\n",
       "      <th>client_id</th>\n",
       "      <th>pai_account_id</th>\n",
       "      <th>recipe_execution_date</th>\n",
       "      <th>last_activity</th>\n",
       "      <th>date</th>\n",
       "      <th>churn_month</th>\n",
       "      <th>repricing_activated</th>\n",
       "      <th>profile</th>\n",
       "      <th>poc_end_date</th>\n",
       "      <th>churn_in_stage_poc</th>\n",
       "      <th>reached_poc_stage</th>\n",
       "      <th>stage</th>\n",
       "      <th>churn_in_stage_paying</th>\n",
       "      <th>churn_in_stage</th>\n",
       "      <th>account_birth_date</th>\n",
       "      <th>is_deleted</th>\n",
       "      <th>pai_is_deleted</th>\n",
       "    </tr>\n",
       "  </thead>\n",
       "  <tbody>\n",
       "    <tr>\n",
       "      <th>18021</th>\n",
       "      <td>1</td>\n",
       "      <td>001b000000HD2rh</td>\n",
       "      <td>2018-03-18</td>\n",
       "      <td>2017-7-19</td>\n",
       "      <td>2017-11-7</td>\n",
       "      <td>2016-1-1</td>\n",
       "      <td>0</td>\n",
       "      <td>smb</td>\n",
       "      <td>2015-09-04</td>\n",
       "      <td>0.0</td>\n",
       "      <td>1</td>\n",
       "      <td>poc</td>\n",
       "      <td>0</td>\n",
       "      <td>0.0</td>\n",
       "      <td>2015-6-4</td>\n",
       "      <td>False</td>\n",
       "      <td>0</td>\n",
       "    </tr>\n",
       "  </tbody>\n",
       "</table>\n",
       "</div>"
      ],
      "text/plain": [
       "       client_id   pai_account_id recipe_execution_date last_activity  \\\n",
       "18021          1  001b000000HD2rh            2018-03-18     2017-7-19   \n",
       "\n",
       "            date churn_month  repricing_activated profile poc_end_date  \\\n",
       "18021  2017-11-7    2016-1-1                    0     smb   2015-09-04   \n",
       "\n",
       "       churn_in_stage_poc  reached_poc_stage stage  churn_in_stage_paying  \\\n",
       "18021                 0.0                  1   poc                      0   \n",
       "\n",
       "       churn_in_stage account_birth_date  is_deleted  pai_is_deleted  \n",
       "18021             0.0           2015-6-4       False               0  "
      ]
     },
     "execution_count": 27,
     "metadata": {},
     "output_type": "execute_result"
    }
   ],
   "source": [
    "old_target[(old_target.pai_account_id == '001b000000HD2rh') & (old_target.date == '2017-11-7')]"
   ]
  },
  {
   "cell_type": "code",
   "execution_count": 29,
   "metadata": {},
   "outputs": [
    {
     "data": {
      "text/html": [
       "<div>\n",
       "<style scoped>\n",
       "    .dataframe tbody tr th:only-of-type {\n",
       "        vertical-align: middle;\n",
       "    }\n",
       "\n",
       "    .dataframe tbody tr th {\n",
       "        vertical-align: top;\n",
       "    }\n",
       "\n",
       "    .dataframe thead th {\n",
       "        text-align: right;\n",
       "    }\n",
       "</style>\n",
       "<table border=\"1\" class=\"dataframe\">\n",
       "  <thead>\n",
       "    <tr style=\"text-align: right;\">\n",
       "      <th></th>\n",
       "      <th>repricing_activated</th>\n",
       "      <th>client_id</th>\n",
       "      <th>pai_account_id</th>\n",
       "      <th>recipe_execution_date</th>\n",
       "      <th>pai_is_deleted</th>\n",
       "      <th>last_activity</th>\n",
       "      <th>poc_end_date</th>\n",
       "      <th>churn_month</th>\n",
       "      <th>profile</th>\n",
       "      <th>churn_in_stage_paying</th>\n",
       "      <th>account_birth_date</th>\n",
       "      <th>date</th>\n",
       "      <th>churn_in_stage_poc</th>\n",
       "      <th>reached_poc_stage</th>\n",
       "      <th>stage</th>\n",
       "      <th>churn_in_stage</th>\n",
       "    </tr>\n",
       "  </thead>\n",
       "  <tbody>\n",
       "    <tr>\n",
       "      <th>998145</th>\n",
       "      <td>0</td>\n",
       "      <td>1</td>\n",
       "      <td>001b000000HD2rh</td>\n",
       "      <td>2019-01-09</td>\n",
       "      <td>0</td>\n",
       "      <td>2017-7-19</td>\n",
       "      <td>2015-09-04</td>\n",
       "      <td>2016-01-01</td>\n",
       "      <td>smb</td>\n",
       "      <td>1</td>\n",
       "      <td>2015-06-04</td>\n",
       "      <td>2017-11-07</td>\n",
       "      <td>NaN</td>\n",
       "      <td>1</td>\n",
       "      <td>paying</td>\n",
       "      <td>1.0</td>\n",
       "    </tr>\n",
       "  </tbody>\n",
       "</table>\n",
       "</div>"
      ],
      "text/plain": [
       "        repricing_activated  client_id   pai_account_id recipe_execution_date  \\\n",
       "998145                    0          1  001b000000HD2rh            2019-01-09   \n",
       "\n",
       "        pai_is_deleted last_activity poc_end_date churn_month profile  \\\n",
       "998145               0     2017-7-19   2015-09-04  2016-01-01     smb   \n",
       "\n",
       "        churn_in_stage_paying account_birth_date        date  \\\n",
       "998145                      1         2015-06-04  2017-11-07   \n",
       "\n",
       "        churn_in_stage_poc  reached_poc_stage   stage  churn_in_stage  \n",
       "998145                 NaN                  1  paying             1.0  "
      ]
     },
     "execution_count": 29,
     "metadata": {},
     "output_type": "execute_result"
    }
   ],
   "source": [
    "new_target[(new_target.pai_account_id == '001b000000HD2rh') & (new_target.date == '2017-11-07')]"
   ]
  },
  {
   "cell_type": "code",
   "execution_count": null,
   "metadata": {},
   "outputs": [],
   "source": []
  }
 ],
 "metadata": {
  "kernelspec": {
   "display_name": "Python 3",
   "language": "python",
   "name": "python3"
  },
  "language_info": {
   "codemirror_mode": {
    "name": "ipython",
    "version": 3
   },
   "file_extension": ".py",
   "mimetype": "text/x-python",
   "name": "python",
   "nbconvert_exporter": "python",
   "pygments_lexer": "ipython3",
   "version": "3.8.6"
  }
 },
 "nbformat": 4,
 "nbformat_minor": 2
}
