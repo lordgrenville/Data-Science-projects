{
 "cells": [
  {
   "cell_type": "code",
   "execution_count": 1,
   "metadata": {},
   "outputs": [],
   "source": [
    "import pandas as pd\n",
    "import numpy as np\n",
    "import os"
   ]
  },
  {
   "cell_type": "code",
   "execution_count": 348,
   "metadata": {},
   "outputs": [],
   "source": [
    "def adapted_compare_two_dfs(input_df_1, input_df_2, dt_cols=[]):\n",
    "    df1, df2 = input_df_1.copy(), input_df_2.copy()\n",
    "#     df1, df2 = df1.drop(columns=dt_cols), df2.drop(columns=dt_cols)\n",
    "    return pd.testing.assert_frame_equal(df1, df2)"
   ]
  },
  {
   "cell_type": "code",
   "execution_count": 333,
   "metadata": {},
   "outputs": [],
   "source": [
    "old_files = os.listdir('old')\n",
    "new_files = os.listdir('new')\n",
    "old2 = os.listdir('old2')"
   ]
  },
  {
   "cell_type": "markdown",
   "metadata": {},
   "source": [
    "Correct order: contact, target, account, billing, usage, engagement, support"
   ]
  },
  {
   "cell_type": "code",
   "execution_count": 334,
   "metadata": {},
   "outputs": [],
   "source": [
    "order_old2 = [3,2,1,5,6,4,0]\n",
    "old2 = [old2[i] for i in order_old2]\n",
    "order_old = [2,6,3,0,1,5,4]\n",
    "order_new = [3,2,1,5,6,4,0]\n",
    "old_files = [old_files[i] for i in order_old]\n",
    "new_files = [new_files[i] for i in order_new]"
   ]
  },
  {
   "cell_type": "code",
   "execution_count": 339,
   "metadata": {
    "collapsed": true
   },
   "outputs": [
    {
     "name": "stderr",
     "output_type": "stream",
     "text": [
      "/Users/joshfriedlander/miniconda3/lib/python3.7/site-packages/IPython/core/interactiveshell.py:3185: DtypeWarning: Columns (19) have mixed types. Specify dtype option on import or set low_memory=False.\n",
      "  if (yield from self.run_code(code, result)):\n"
     ]
    }
   ],
   "source": [
    "old_dfs2 = {i:pd.read_csv('old2/' + i, ) for i in old2}\n",
    "# old_dfs = {i:pd.read_csv('old/' + i, ) for i in old_files}\n",
    "new_dfs = {i:pd.read_csv('new/' + i) for i in new_files}"
   ]
  },
  {
   "cell_type": "code",
   "execution_count": 349,
   "metadata": {
    "collapsed": true
   },
   "outputs": [
    {
     "name": "stdout",
     "output_type": "stream",
     "text": [
      "cleaned_pai_snapshot_c3_d2018-08-08_contact.csv cleaned_pai_snapshot_c3_d2018-08-08_contact.csv\n",
      "True\n",
      "cleaned_pai_snapshot_c3_d2018-08-08_target.csv cleaned_pai_snapshot_c3_d2018-08-08_target.csv\n",
      "True\n",
      "cleaned_pai_snapshot_c3_d2018-08-08_account.csv cleaned_pai_snapshot_c3_d2018-08-08_account.csv\n",
      "True\n",
      "cleaned_pai_snapshot_c3_d2018-08-08_billing.csv cleaned_pai_snapshot_c3_d2018-08-08_billing.csv\n",
      "True\n",
      "cleaned_pai_snapshot_c3_d2018-08-08_usage.csv cleaned_pai_snapshot_c3_d2018-08-08_usage.csv\n",
      "True\n",
      "cleaned_pai_snapshot_c3_d2018-08-08_engagement.csv cleaned_pai_snapshot_c3_d2018-08-08_engagement.csv\n",
      "True\n",
      "cleaned_pai_snapshot_c3_d2018-08-08_support.csv cleaned_pai_snapshot_c3_d2018-08-08_support.csv\n",
      "True\n"
     ]
    }
   ],
   "source": [
    "for i,_ in enumerate(old2):\n",
    "    print(old2[i], new_files[i])\n",
    "    df1 = old_dfs2[old2[i]]\n",
    "    df2 = new_dfs[new_files[i]]\n",
    "    print(df1.equals(df2))\n",
    "    if df1.shape != df2.shape:\n",
    "        print('Shape not equal')\n",
    "        print(df1.shape, df2.shape)"
   ]
  },
  {
   "cell_type": "code",
   "execution_count": 340,
   "metadata": {},
   "outputs": [],
   "source": [
    "dt_field = {0:['recipe_execution_date'], \n",
    "            1:['date', 'recipe_execution_date', 'poc_end_date', 'account_birth_date', 'Churned Date'],\n",
    "            2:['recipe_execution_date'],\n",
    "            3:['created_date', 'recipe_execution_date'],\n",
    "            4:['recipe_execution_date', 'date'],\n",
    "            5:['recipe_execution_date', 'SampleDate'],\n",
    "            6:['recipe_execution_date', 'date', 'ticket_solved_time']\n",
    "           }"
   ]
  },
  {
   "cell_type": "code",
   "execution_count": 347,
   "metadata": {},
   "outputs": [
    {
     "name": "stdout",
     "output_type": "stream",
     "text": [
      "Comparing cleaned_pai_snapshot_c3_d2018-08-08_contact.csv\n",
      "All good\n",
      "Comparing cleaned_pai_snapshot_c3_d2018-08-08_target.csv\n",
      "All good\n",
      "Comparing cleaned_pai_snapshot_c3_d2018-08-08_account.csv\n",
      "All good\n",
      "Comparing cleaned_pai_snapshot_c3_d2018-08-08_billing.csv\n",
      "All good\n",
      "Comparing cleaned_pai_snapshot_c3_d2018-08-08_usage.csv\n",
      "All good\n",
      "Comparing cleaned_pai_snapshot_c3_d2018-08-08_engagement.csv\n",
      "All good\n",
      "Comparing cleaned_pai_snapshot_c3_d2018-08-08_support.csv\n",
      "All good\n"
     ]
    }
   ],
   "source": [
    "for num in range(7):\n",
    "    print('Comparing {}'.format(old2[num]))\n",
    "    in1, in2 = old_dfs2[old2[num]], new_dfs[new_files[num]]\n",
    "    try:\n",
    "        adapted_compare_two_dfs(in1, in2, dt_field[num])\n",
    "        print('All good')\n",
    "    except AssertionError as e:\n",
    "        print(e)"
   ]
  },
  {
   "cell_type": "code",
   "execution_count": 56,
   "metadata": {},
   "outputs": [],
   "source": [
    "def compare_two_dfs(input_df_1, input_df_2):\n",
    "    df_1, df_2 = input_df_1.copy(), input_df_2.copy()\n",
    "    ne_stacked = (df_1 != df_2).stack()\n",
    "    changed = ne_stacked[ne_stacked]\n",
    "    changed.index.names = ['id', 'col']\n",
    "    difference_locations = np.where(df_1 != df_2)\n",
    "\n",
    "    changed_from = df_1.values[difference_locations]\n",
    "    changed_to = df_2.values[difference_locations]\n",
    "    df = pd.DataFrame({'from': changed_from, 'to': changed_to}, index=changed.index)\n",
    "    return df"
   ]
  }
 ],
 "metadata": {
  "kernelspec": {
   "display_name": "Python 3",
   "language": "python",
   "name": "python3"
  },
  "language_info": {
   "codemirror_mode": {
    "name": "ipython",
    "version": 3
   },
   "file_extension": ".py",
   "mimetype": "text/x-python",
   "name": "python",
   "nbconvert_exporter": "python",
   "pygments_lexer": "ipython3",
   "version": "3.7.1"
  }
 },
 "nbformat": 4,
 "nbformat_minor": 2
}
