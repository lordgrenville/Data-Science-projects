{
 "cells": [
  {
   "cell_type": "markdown",
   "metadata": {},
   "source": [
    "## imports"
   ]
  },
  {
   "cell_type": "code",
   "execution_count": 1,
   "metadata": {},
   "outputs": [],
   "source": [
    "import pandas as pd\n",
    "import numpy as np"
   ]
  },
  {
   "cell_type": "code",
   "execution_count": 2,
   "metadata": {},
   "outputs": [],
   "source": [
    "import matplotlib.pyplot as plt\n",
    "import seaborn as sns; sns.set()\n",
    "%matplotlib inline"
   ]
  },
  {
   "cell_type": "code",
   "execution_count": 3,
   "metadata": {},
   "outputs": [],
   "source": [
    "pd.set_option('display.max_rows', 700, 'display.max_columns', 99)"
   ]
  },
  {
   "cell_type": "markdown",
   "metadata": {},
   "source": [
    "## Content"
   ]
  },
  {
   "cell_type": "code",
   "execution_count": 7,
   "metadata": {},
   "outputs": [],
   "source": [
    "proc_usage = pd.read_csv('processed_pai_snapshot_c8_d2019-10-07_usage.csv')\n",
    "proc_account = pd.read_csv('processed_pai_snapshot_c8_d2019-10-07_account.csv')\n",
    "proc_cs = pd.read_csv('processed_pai_snapshot_c8_d2019-10-07_cs.csv')"
   ]
  },
  {
   "cell_type": "code",
   "execution_count": 33,
   "metadata": {},
   "outputs": [],
   "source": [
    "proc_target = pd.read_csv('processed_pai_snapshot_c8_d2019-10-07_target.csv')"
   ]
  },
  {
   "cell_type": "code",
   "execution_count": 34,
   "metadata": {},
   "outputs": [],
   "source": [
    "proc_target.date = pd.to_datetime(proc_target.date)"
   ]
  },
  {
   "cell_type": "code",
   "execution_count": 35,
   "metadata": {},
   "outputs": [],
   "source": [
    "proc_usage.date = pd.to_datetime(proc_usage.date)"
   ]
  },
  {
   "cell_type": "code",
   "execution_count": 36,
   "metadata": {},
   "outputs": [],
   "source": [
    "proc_cs.date = pd.to_datetime(proc_cs.date)"
   ]
  },
  {
   "cell_type": "code",
   "execution_count": 37,
   "metadata": {},
   "outputs": [],
   "source": [
    "proc_account.date = pd.to_datetime(proc_account.date)"
   ]
  },
  {
   "cell_type": "code",
   "execution_count": 38,
   "metadata": {},
   "outputs": [
    {
     "data": {
      "text/plain": [
       "(Timestamp('2019-09-30 00:00:00'),\n",
       " Timestamp('2019-10-07 00:00:00'),\n",
       " Timestamp('2019-10-04 00:00:00'),\n",
       " Timestamp('2019-10-07 00:00:00'))"
      ]
     },
     "execution_count": 38,
     "metadata": {},
     "output_type": "execute_result"
    }
   ],
   "source": [
    "proc_target.date.max(), proc_account.date.max(), proc_cs.date.max(), proc_usage.date.max()"
   ]
  },
  {
   "cell_type": "code",
   "execution_count": 39,
   "metadata": {},
   "outputs": [],
   "source": [
    "a = None"
   ]
  },
  {
   "cell_type": "code",
   "execution_count": 40,
   "metadata": {},
   "outputs": [],
   "source": [
    "a"
   ]
  },
  {
   "cell_type": "code",
   "execution_count": 49,
   "metadata": {},
   "outputs": [],
   "source": [
    "li = [4,5]"
   ]
  },
  {
   "cell_type": "code",
   "execution_count": 42,
   "metadata": {},
   "outputs": [],
   "source": [
    "li.append(a)"
   ]
  },
  {
   "cell_type": "code",
   "execution_count": 44,
   "metadata": {},
   "outputs": [
    {
     "data": {
      "text/plain": [
       "[4, 5, None]"
      ]
     },
     "execution_count": 44,
     "metadata": {},
     "output_type": "execute_result"
    }
   ],
   "source": [
    "li"
   ]
  },
  {
   "cell_type": "code",
   "execution_count": 45,
   "metadata": {},
   "outputs": [],
   "source": [
    "if a is None:\n",
    "    li.append(a)"
   ]
  },
  {
   "cell_type": "code",
   "execution_count": 46,
   "metadata": {},
   "outputs": [
    {
     "data": {
      "text/plain": [
       "[4, 5, None, None]"
      ]
     },
     "execution_count": 46,
     "metadata": {},
     "output_type": "execute_result"
    }
   ],
   "source": [
    "li"
   ]
  },
  {
   "cell_type": "code",
   "execution_count": 47,
   "metadata": {},
   "outputs": [],
   "source": [
    "li.append(None)"
   ]
  },
  {
   "cell_type": "code",
   "execution_count": 50,
   "metadata": {},
   "outputs": [],
   "source": [
    "li.append(42 if a is not None else None)"
   ]
  },
  {
   "cell_type": "code",
   "execution_count": 51,
   "metadata": {},
   "outputs": [
    {
     "data": {
      "text/plain": [
       "[4, 5, None]"
      ]
     },
     "execution_count": 51,
     "metadata": {},
     "output_type": "execute_result"
    }
   ],
   "source": [
    "li"
   ]
  },
  {
   "cell_type": "code",
   "execution_count": 26,
   "metadata": {},
   "outputs": [],
   "source": [
    "proc_usage.date = pd.to_datetime(df.date)"
   ]
  },
  {
   "cell_type": "code",
   "execution_count": 29,
   "metadata": {},
   "outputs": [
    {
     "data": {
      "text/plain": [
       "305852"
      ]
     },
     "execution_count": 29,
     "metadata": {},
     "output_type": "execute_result"
    }
   ],
   "source": [
    "len(proc_usage.groupby(['pai_account_id', 'date']).size())"
   ]
  },
  {
   "cell_type": "code",
   "execution_count": 8,
   "metadata": {},
   "outputs": [
    {
     "data": {
      "text/html": [
       "<div>\n",
       "<style scoped>\n",
       "    .dataframe tbody tr th:only-of-type {\n",
       "        vertical-align: middle;\n",
       "    }\n",
       "\n",
       "    .dataframe tbody tr th {\n",
       "        vertical-align: top;\n",
       "    }\n",
       "\n",
       "    .dataframe thead th {\n",
       "        text-align: right;\n",
       "    }\n",
       "</style>\n",
       "<table border=\"1\" class=\"dataframe\">\n",
       "  <thead>\n",
       "    <tr style=\"text-align: right;\">\n",
       "      <th></th>\n",
       "      <th>activity_type</th>\n",
       "      <th>client_id</th>\n",
       "      <th>contact_id</th>\n",
       "      <th>created_date_timestamp</th>\n",
       "      <th>date</th>\n",
       "      <th>ownerid</th>\n",
       "      <th>pai_account_id</th>\n",
       "      <th>profile</th>\n",
       "      <th>stage</th>\n",
       "    </tr>\n",
       "  </thead>\n",
       "  <tbody>\n",
       "    <tr>\n",
       "      <th>0</th>\n",
       "      <td>NaN</td>\n",
       "      <td>8</td>\n",
       "      <td>0034000001Is7F0</td>\n",
       "      <td>NaN</td>\n",
       "      <td>2015-12-14</td>\n",
       "      <td>005400000034KzT</td>\n",
       "      <td>0014000000ZXsku</td>\n",
       "      <td>smb</td>\n",
       "      <td>paying</td>\n",
       "    </tr>\n",
       "    <tr>\n",
       "      <th>1</th>\n",
       "      <td>NaN</td>\n",
       "      <td>8</td>\n",
       "      <td>0034000001lejeS</td>\n",
       "      <td>NaN</td>\n",
       "      <td>2016-02-08</td>\n",
       "      <td>00540000002U8VM</td>\n",
       "      <td>0014000000c9aFG</td>\n",
       "      <td>NaN</td>\n",
       "      <td>NaN</td>\n",
       "    </tr>\n",
       "    <tr>\n",
       "      <th>2</th>\n",
       "      <td>NaN</td>\n",
       "      <td>8</td>\n",
       "      <td>0034000001jOrV5</td>\n",
       "      <td>NaN</td>\n",
       "      <td>2016-04-26</td>\n",
       "      <td>00540000001dWkt</td>\n",
       "      <td>0014000000ZXsku</td>\n",
       "      <td>smb</td>\n",
       "      <td>paying</td>\n",
       "    </tr>\n",
       "    <tr>\n",
       "      <th>3</th>\n",
       "      <td>NaN</td>\n",
       "      <td>8</td>\n",
       "      <td>0034000001nXqu8</td>\n",
       "      <td>NaN</td>\n",
       "      <td>2016-04-26</td>\n",
       "      <td>00540000001dWkt</td>\n",
       "      <td>0014000000ZXsku</td>\n",
       "      <td>smb</td>\n",
       "      <td>paying</td>\n",
       "    </tr>\n",
       "    <tr>\n",
       "      <th>4</th>\n",
       "      <td>NaN</td>\n",
       "      <td>8</td>\n",
       "      <td>0034000001RjSI5</td>\n",
       "      <td>NaN</td>\n",
       "      <td>2016-07-18</td>\n",
       "      <td>00540000002U8VM</td>\n",
       "      <td>00140000012olDq</td>\n",
       "      <td>smb</td>\n",
       "      <td>paying</td>\n",
       "    </tr>\n",
       "  </tbody>\n",
       "</table>\n",
       "</div>"
      ],
      "text/plain": [
       "  activity_type  client_id       contact_id  created_date_timestamp  \\\n",
       "0           NaN          8  0034000001Is7F0                     NaN   \n",
       "1           NaN          8  0034000001lejeS                     NaN   \n",
       "2           NaN          8  0034000001jOrV5                     NaN   \n",
       "3           NaN          8  0034000001nXqu8                     NaN   \n",
       "4           NaN          8  0034000001RjSI5                     NaN   \n",
       "\n",
       "         date          ownerid   pai_account_id profile   stage  \n",
       "0  2015-12-14  005400000034KzT  0014000000ZXsku     smb  paying  \n",
       "1  2016-02-08  00540000002U8VM  0014000000c9aFG     NaN     NaN  \n",
       "2  2016-04-26  00540000001dWkt  0014000000ZXsku     smb  paying  \n",
       "3  2016-04-26  00540000001dWkt  0014000000ZXsku     smb  paying  \n",
       "4  2016-07-18  00540000002U8VM  00140000012olDq     smb  paying  "
      ]
     },
     "execution_count": 8,
     "metadata": {},
     "output_type": "execute_result"
    }
   ],
   "source": [
    "proc_cs.head()"
   ]
  },
  {
   "cell_type": "code",
   "execution_count": 32,
   "metadata": {},
   "outputs": [
    {
     "data": {
      "text/plain": [
       "Series([], Name: created_date_timestamp, dtype: int64)"
      ]
     },
     "execution_count": 32,
     "metadata": {},
     "output_type": "execute_result"
    }
   ],
   "source": [
    "proc_cs.created_date_timestamp.value_counts()"
   ]
  },
  {
   "cell_type": "code",
   "execution_count": 19,
   "metadata": {},
   "outputs": [],
   "source": [
    "df.account_birth_date = pd.to_datetime(df.account_birth_date)\n",
    "df.date = pd.to_datetime(df.date)"
   ]
  },
  {
   "cell_type": "code",
   "execution_count": null,
   "metadata": {},
   "outputs": [],
   "source": []
  },
  {
   "cell_type": "code",
   "execution_count": 9,
   "metadata": {},
   "outputs": [
    {
     "data": {
      "text/html": [
       "<div>\n",
       "<style scoped>\n",
       "    .dataframe tbody tr th:only-of-type {\n",
       "        vertical-align: middle;\n",
       "    }\n",
       "\n",
       "    .dataframe tbody tr th {\n",
       "        vertical-align: top;\n",
       "    }\n",
       "\n",
       "    .dataframe thead th {\n",
       "        text-align: right;\n",
       "    }\n",
       "</style>\n",
       "<table border=\"1\" class=\"dataframe\">\n",
       "  <thead>\n",
       "    <tr style=\"text-align: right;\">\n",
       "      <th></th>\n",
       "      <th>account_birth_date</th>\n",
       "      <th>account_name</th>\n",
       "      <th>client_id</th>\n",
       "      <th>country</th>\n",
       "      <th>current_csm</th>\n",
       "      <th>date</th>\n",
       "      <th>next_calculated_exit_point</th>\n",
       "      <th>package</th>\n",
       "      <th>pai_account_id</th>\n",
       "      <th>profile</th>\n",
       "      <th>stage</th>\n",
       "      <th>stage_start_date</th>\n",
       "    </tr>\n",
       "  </thead>\n",
       "  <tbody>\n",
       "    <tr>\n",
       "      <th>0</th>\n",
       "      <td>2019-01-07</td>\n",
       "      <td>Cintas</td>\n",
       "      <td>8.0</td>\n",
       "      <td>Central</td>\n",
       "      <td>NaN</td>\n",
       "      <td>2019-01-07</td>\n",
       "      <td>NaN</td>\n",
       "      <td>NaN</td>\n",
       "      <td>0011W00001r8kzj</td>\n",
       "      <td>smb</td>\n",
       "      <td>paying</td>\n",
       "      <td>2019-01-07</td>\n",
       "    </tr>\n",
       "    <tr>\n",
       "      <th>1</th>\n",
       "      <td>2019-01-07</td>\n",
       "      <td>Cintas</td>\n",
       "      <td>8.0</td>\n",
       "      <td>Central</td>\n",
       "      <td>NaN</td>\n",
       "      <td>2019-01-08</td>\n",
       "      <td>NaN</td>\n",
       "      <td>NaN</td>\n",
       "      <td>0011W00001r8kzj</td>\n",
       "      <td>smb</td>\n",
       "      <td>paying</td>\n",
       "      <td>2019-01-07</td>\n",
       "    </tr>\n",
       "    <tr>\n",
       "      <th>2</th>\n",
       "      <td>2019-01-07</td>\n",
       "      <td>Cintas</td>\n",
       "      <td>8.0</td>\n",
       "      <td>Central</td>\n",
       "      <td>NaN</td>\n",
       "      <td>2019-01-09</td>\n",
       "      <td>NaN</td>\n",
       "      <td>NaN</td>\n",
       "      <td>0011W00001r8kzj</td>\n",
       "      <td>smb</td>\n",
       "      <td>paying</td>\n",
       "      <td>2019-01-07</td>\n",
       "    </tr>\n",
       "    <tr>\n",
       "      <th>3</th>\n",
       "      <td>2019-01-07</td>\n",
       "      <td>Cintas</td>\n",
       "      <td>8.0</td>\n",
       "      <td>Central</td>\n",
       "      <td>NaN</td>\n",
       "      <td>2019-01-10</td>\n",
       "      <td>NaN</td>\n",
       "      <td>NaN</td>\n",
       "      <td>0011W00001r8kzj</td>\n",
       "      <td>smb</td>\n",
       "      <td>paying</td>\n",
       "      <td>2019-01-07</td>\n",
       "    </tr>\n",
       "    <tr>\n",
       "      <th>4</th>\n",
       "      <td>2019-01-07</td>\n",
       "      <td>Cintas</td>\n",
       "      <td>8.0</td>\n",
       "      <td>Central</td>\n",
       "      <td>NaN</td>\n",
       "      <td>2019-01-11</td>\n",
       "      <td>NaN</td>\n",
       "      <td>NaN</td>\n",
       "      <td>0011W00001r8kzj</td>\n",
       "      <td>smb</td>\n",
       "      <td>paying</td>\n",
       "      <td>2019-01-07</td>\n",
       "    </tr>\n",
       "  </tbody>\n",
       "</table>\n",
       "</div>"
      ],
      "text/plain": [
       "  account_birth_date account_name  client_id  country current_csm        date  \\\n",
       "0         2019-01-07       Cintas        8.0  Central         NaN  2019-01-07   \n",
       "1         2019-01-07       Cintas        8.0  Central         NaN  2019-01-08   \n",
       "2         2019-01-07       Cintas        8.0  Central         NaN  2019-01-09   \n",
       "3         2019-01-07       Cintas        8.0  Central         NaN  2019-01-10   \n",
       "4         2019-01-07       Cintas        8.0  Central         NaN  2019-01-11   \n",
       "\n",
       "   next_calculated_exit_point package   pai_account_id profile   stage  \\\n",
       "0                         NaN     NaN  0011W00001r8kzj     smb  paying   \n",
       "1                         NaN     NaN  0011W00001r8kzj     smb  paying   \n",
       "2                         NaN     NaN  0011W00001r8kzj     smb  paying   \n",
       "3                         NaN     NaN  0011W00001r8kzj     smb  paying   \n",
       "4                         NaN     NaN  0011W00001r8kzj     smb  paying   \n",
       "\n",
       "  stage_start_date  \n",
       "0       2019-01-07  \n",
       "1       2019-01-07  \n",
       "2       2019-01-07  \n",
       "3       2019-01-07  \n",
       "4       2019-01-07  "
      ]
     },
     "execution_count": 9,
     "metadata": {},
     "output_type": "execute_result"
    }
   ],
   "source": [
    "proc_account.head()"
   ]
  },
  {
   "cell_type": "code",
   "execution_count": 18,
   "metadata": {},
   "outputs": [
    {
     "data": {
      "text/plain": [
       "date                          2837\n",
       "account_name                   351\n",
       "pai_account_id                 350\n",
       "stage_start_date               140\n",
       "account_birth_date             137\n",
       "package                         35\n",
       "current_csm                     18\n",
       "country                          5\n",
       "stage                            2\n",
       "profile                          1\n",
       "client_id                        1\n",
       "next_calculated_exit_point       0\n",
       "dtype: int64"
      ]
     },
     "execution_count": 18,
     "metadata": {},
     "output_type": "execute_result"
    }
   ],
   "source": [
    "proc_account.nunique().sort_values(ascending=False)"
   ]
  },
  {
   "cell_type": "code",
   "execution_count": 5,
   "metadata": {},
   "outputs": [
    {
     "data": {
      "text/html": [
       "<div>\n",
       "<style scoped>\n",
       "    .dataframe tbody tr th:only-of-type {\n",
       "        vertical-align: middle;\n",
       "    }\n",
       "\n",
       "    .dataframe tbody tr th {\n",
       "        vertical-align: top;\n",
       "    }\n",
       "\n",
       "    .dataframe thead th {\n",
       "        text-align: right;\n",
       "    }\n",
       "</style>\n",
       "<table border=\"1\" class=\"dataframe\">\n",
       "  <thead>\n",
       "    <tr style=\"text-align: right;\">\n",
       "      <th></th>\n",
       "      <th>client_id</th>\n",
       "      <th>date</th>\n",
       "      <th>has_usage_data_today</th>\n",
       "      <th>pai_account_id</th>\n",
       "      <th>profile</th>\n",
       "      <th>stage</th>\n",
       "    </tr>\n",
       "  </thead>\n",
       "  <tbody>\n",
       "    <tr>\n",
       "      <th>0</th>\n",
       "      <td>8</td>\n",
       "      <td>2019-01-07</td>\n",
       "      <td>0.0</td>\n",
       "      <td>0011W00001r8kzj</td>\n",
       "      <td>smb</td>\n",
       "      <td>paying</td>\n",
       "    </tr>\n",
       "    <tr>\n",
       "      <th>1</th>\n",
       "      <td>8</td>\n",
       "      <td>2019-01-08</td>\n",
       "      <td>0.0</td>\n",
       "      <td>0011W00001r8kzj</td>\n",
       "      <td>smb</td>\n",
       "      <td>paying</td>\n",
       "    </tr>\n",
       "    <tr>\n",
       "      <th>2</th>\n",
       "      <td>8</td>\n",
       "      <td>2019-01-09</td>\n",
       "      <td>0.0</td>\n",
       "      <td>0011W00001r8kzj</td>\n",
       "      <td>smb</td>\n",
       "      <td>paying</td>\n",
       "    </tr>\n",
       "    <tr>\n",
       "      <th>3</th>\n",
       "      <td>8</td>\n",
       "      <td>2019-01-10</td>\n",
       "      <td>0.0</td>\n",
       "      <td>0011W00001r8kzj</td>\n",
       "      <td>smb</td>\n",
       "      <td>paying</td>\n",
       "    </tr>\n",
       "    <tr>\n",
       "      <th>4</th>\n",
       "      <td>8</td>\n",
       "      <td>2019-01-11</td>\n",
       "      <td>0.0</td>\n",
       "      <td>0011W00001r8kzj</td>\n",
       "      <td>smb</td>\n",
       "      <td>paying</td>\n",
       "    </tr>\n",
       "  </tbody>\n",
       "</table>\n",
       "</div>"
      ],
      "text/plain": [
       "   client_id        date  has_usage_data_today   pai_account_id profile  \\\n",
       "0          8  2019-01-07                   0.0  0011W00001r8kzj     smb   \n",
       "1          8  2019-01-08                   0.0  0011W00001r8kzj     smb   \n",
       "2          8  2019-01-09                   0.0  0011W00001r8kzj     smb   \n",
       "3          8  2019-01-10                   0.0  0011W00001r8kzj     smb   \n",
       "4          8  2019-01-11                   0.0  0011W00001r8kzj     smb   \n",
       "\n",
       "    stage  \n",
       "0  paying  \n",
       "1  paying  \n",
       "2  paying  \n",
       "3  paying  \n",
       "4  paying  "
      ]
     },
     "execution_count": 5,
     "metadata": {},
     "output_type": "execute_result"
    }
   ],
   "source": [
    "proc_usage.head()"
   ]
  },
  {
   "cell_type": "code",
   "execution_count": 6,
   "metadata": {},
   "outputs": [
    {
     "data": {
      "text/plain": [
       "0.0    325310\n",
       "1.0     18604\n",
       "Name: has_usage_data_today, dtype: int64"
      ]
     },
     "execution_count": 6,
     "metadata": {},
     "output_type": "execute_result"
    }
   ],
   "source": [
    "proc_usage.has_usage_data_today.value_counts()"
   ]
  },
  {
   "cell_type": "code",
   "execution_count": 170,
   "metadata": {},
   "outputs": [
    {
     "data": {
      "text/plain": [
       "array([nan,  0.,  1.])"
      ]
     },
     "execution_count": 170,
     "metadata": {},
     "output_type": "execute_result"
    }
   ],
   "source": [
    "proc_usage.is_sub_account.unique()"
   ]
  },
  {
   "cell_type": "code",
   "execution_count": 10,
   "metadata": {},
   "outputs": [],
   "source": [
    "df = proc_account.copy()"
   ]
  },
  {
   "cell_type": "markdown",
   "metadata": {},
   "source": [
    "##### Percentage 0 or NaN"
   ]
  },
  {
   "cell_type": "code",
   "execution_count": 11,
   "metadata": {},
   "outputs": [
    {
     "data": {
      "text/plain": [
       "Series([], dtype: float64)"
      ]
     },
     "execution_count": 11,
     "metadata": {},
     "output_type": "execute_result"
    }
   ],
   "source": [
    "zeros = ((df == 0).sum() * 100 / len(df)).sort_values(ascending=False)\n",
    "zeros[zeros > 0]"
   ]
  },
  {
   "cell_type": "code",
   "execution_count": 12,
   "metadata": {},
   "outputs": [
    {
     "data": {
      "text/plain": [
       "next_calculated_exit_point    100.000000\n",
       "current_csm                    47.586205\n",
       "package                        42.645166\n",
       "country                         4.451517\n",
       "dtype: float64"
      ]
     },
     "execution_count": 12,
     "metadata": {},
     "output_type": "execute_result"
    }
   ],
   "source": [
    "nulls = (df.isnull().sum() * 100 / len(df)).sort_values(ascending=False)\n",
    "nulls[nulls > 0]"
   ]
  },
  {
   "cell_type": "code",
   "execution_count": 13,
   "metadata": {},
   "outputs": [
    {
     "data": {
      "text/plain": [
       "date                          2837\n",
       "account_name                   351\n",
       "pai_account_id                 350\n",
       "stage_start_date               140\n",
       "account_birth_date             137\n",
       "package                         35\n",
       "current_csm                     18\n",
       "country                          5\n",
       "stage                            2\n",
       "profile                          1\n",
       "client_id                        1\n",
       "next_calculated_exit_point       0\n",
       "dtype: int64"
      ]
     },
     "execution_count": 13,
     "metadata": {},
     "output_type": "execute_result"
    }
   ],
   "source": [
    "df.nunique().sort_values(ascending=False)"
   ]
  },
  {
   "cell_type": "code",
   "execution_count": 177,
   "metadata": {},
   "outputs": [],
   "source": [
    "cat_features = ['api_access_enabled', 'is_sub_account', 'query_api_enabled', 'query_status', \n",
    "                's3_configuration_enabled', 'sso_configuration_enabled', 'sub_exception_type_key']"
   ]
  },
  {
   "cell_type": "code",
   "execution_count": 174,
   "metadata": {},
   "outputs": [],
   "source": [
    "old_name = ('is_sub_account', 'IsSubAccount')"
   ]
  },
  {
   "cell_type": "code",
   "execution_count": 133,
   "metadata": {},
   "outputs": [],
   "source": [
    "features = ['max_query_time',\n",
    " 'num_of_queries',\n",
    " 'avg_query_time',\n",
    " 'daily_gb_archived',\n",
    " 'daily_gb_by_plan',\n",
    " 'daily_gb_indexed_all_clusters',\n",
    " 'daily_gb_indexed_with_sub_accounts',\n",
    " 'daily_gb_received',\n",
    " 'daily_gb_recived_with_sub_accounts',\n",
    " 'daily_num_of_active_users',\n",
    " 'daily_num_of_doc_dropped',\n",
    " 'daily_num_of_failed_queries',\n",
    " 'daily_num_of_incoming_logs',\n",
    " 'daily_num_of_lags_latencies',\n",
    " 'daily_num_of_success_searches',\n",
    " 'daily_num_of_times_logs_suspended_archiving',\n",
    " 'daily_num_of_times_logs_suspended_indexing',\n",
    " 'daily_parent_remaining_gb',\n",
    " 'total_gb_used',\n",
    " 'total_num_of_alert_endpoint',\n",
    " 'total_num_of_alerts_on_agg_defined',\n",
    " 'total_num_of_dataparsing_defined',\n",
    " 'total_num_of_optimizers_defined',\n",
    " 'total_num_of_saved_searches',\n",
    " 'total_num_of_sub_accounts',\n",
    " 'total_num_of_timeless_accounts',\n",
    " 'total_num_of_tokens_defined',\n",
    " 'total_num_of_users',\n",
    " 'total_num_of_visualizations',\n",
    " 'total_number_of_elk_apps',\n",
    " 'total_number_of_shards']"
   ]
  },
  {
   "cell_type": "code",
   "execution_count": 160,
   "metadata": {},
   "outputs": [],
   "source": [
    "old_name = ('total_num_of_dashboards', 'TotalNumOfDashboards')"
   ]
  },
  {
   "cell_type": "code",
   "execution_count": 14,
   "metadata": {},
   "outputs": [
    {
     "data": {
      "image/png": "[encoded data removed]",
      "text/plain": [
       "<Figure size 1080x144 with 1 Axes>"
      ]
     },
     "metadata": {
      "needs_background": "light"
     },
     "output_type": "display_data"
    }
   ],
   "source": [
    "(df.isnull().sum() / len(df) * 100).plot(kind='bar', figsize=(15,2), title='Percentage of NaNs');"
   ]
  },
  {
   "cell_type": "markdown",
   "metadata": {},
   "source": [
    "Plot of 'noise' in numeric columns - non-zero/null values:"
   ]
  },
  {
   "cell_type": "code",
   "execution_count": 15,
   "metadata": {
    "scrolled": false
   },
   "outputs": [
    {
     "data": {
      "image/png": "[encoded data removed]",
      "text/plain": [
       "<Figure size 1440x2160 with 27 Axes>"
      ]
     },
     "metadata": {
      "needs_background": "light"
     },
     "output_type": "display_data"
    }
   ],
   "source": [
    "df.select_dtypes(include=['int', 'float']).plot(subplots=True, layout=(9,3), figsize=(20, 30));"
   ]
  },
  {
   "cell_type": "markdown",
   "metadata": {},
   "source": [
    "`Date_added` is usually (but not always) `date - 1`"
   ]
  },
  {
   "cell_type": "code",
   "execution_count": 255,
   "metadata": {},
   "outputs": [
    {
     "data": {
      "text/plain": [
       "0.21143029531056212"
      ]
     },
     "execution_count": 255,
     "metadata": {},
     "output_type": "execute_result"
    }
   ],
   "source": [
    "diff = (processed.date - processed.date_added).dt.days\n",
    "(diff != 1.0).sum() / len(diff)"
   ]
  },
  {
   "cell_type": "markdown",
   "metadata": {},
   "source": [
    "`Created_timestamp` is exactly the same as date"
   ]
  },
  {
   "cell_type": "code",
   "execution_count": 318,
   "metadata": {},
   "outputs": [],
   "source": [
    "nulls = (pd.isnull(usage) / len(usage)).sum().sort_values(ascending=False).to_dict()\n",
    "zeros = ((usage == 0) / len(usage)).sum().sort_values(ascending=False).to_dict()"
   ]
  },
  {
   "cell_type": "code",
   "execution_count": null,
   "metadata": {},
   "outputs": [],
   "source": [
    "usage = pd.read_csv('usage.csv')\n",
    "usage = usage.sort_values(by=['pai_account_id', 'date'])"
   ]
  },
  {
   "cell_type": "markdown",
   "metadata": {},
   "source": [
    "numeric, few nans, lots of variance"
   ]
  },
  {
   "cell_type": "code",
   "execution_count": 16,
   "metadata": {},
   "outputs": [
    {
     "data": {
      "text/html": [
       "<div>\n",
       "<style scoped>\n",
       "    .dataframe tbody tr th:only-of-type {\n",
       "        vertical-align: middle;\n",
       "    }\n",
       "\n",
       "    .dataframe tbody tr th {\n",
       "        vertical-align: top;\n",
       "    }\n",
       "\n",
       "    .dataframe thead th {\n",
       "        text-align: right;\n",
       "    }\n",
       "</style>\n",
       "<table border=\"1\" class=\"dataframe\">\n",
       "  <thead>\n",
       "    <tr style=\"text-align: right;\">\n",
       "      <th></th>\n",
       "      <th>client_id</th>\n",
       "      <th>next_calculated_exit_point</th>\n",
       "    </tr>\n",
       "  </thead>\n",
       "  <tbody>\n",
       "    <tr>\n",
       "      <th>mean</th>\n",
       "      <td>8.0</td>\n",
       "      <td>NaN</td>\n",
       "    </tr>\n",
       "    <tr>\n",
       "      <th>min</th>\n",
       "      <td>8.0</td>\n",
       "      <td>NaN</td>\n",
       "    </tr>\n",
       "    <tr>\n",
       "      <th>max</th>\n",
       "      <td>8.0</td>\n",
       "      <td>NaN</td>\n",
       "    </tr>\n",
       "  </tbody>\n",
       "</table>\n",
       "</div>"
      ],
      "text/plain": [
       "      client_id  next_calculated_exit_point\n",
       "mean        8.0                         NaN\n",
       "min         8.0                         NaN\n",
       "max         8.0                         NaN"
      ]
     },
     "execution_count": 16,
     "metadata": {},
     "output_type": "execute_result"
    }
   ],
   "source": [
    "df.describe()[df.describe().index.isin(['min', 'max', 'mean'])]"
   ]
  },
  {
   "cell_type": "code",
   "execution_count": 302,
   "metadata": {},
   "outputs": [],
   "source": [
    "df = df.sort_values(by=['pai_account_id', 'date'])"
   ]
  },
  {
   "cell_type": "code",
   "execution_count": 303,
   "metadata": {},
   "outputs": [],
   "source": [
    "df = move_columns_to_front(df, ['pai_account_id', 'date'])"
   ]
  },
  {
   "cell_type": "code",
   "execution_count": 304,
   "metadata": {},
   "outputs": [],
   "source": [
    "df.date = pd.to_datetime(df.date)"
   ]
  },
  {
   "cell_type": "code",
   "execution_count": 236,
   "metadata": {},
   "outputs": [
    {
     "data": {
      "text/plain": [
       "Closed    11057\n",
       "Name: Conversation status, dtype: int64"
      ]
     },
     "execution_count": 236,
     "metadata": {},
     "output_type": "execute_result"
    }
   ],
   "source": [
    "df['Conversation status'].value_counts()"
   ]
  },
  {
   "cell_type": "code",
   "execution_count": 235,
   "metadata": {},
   "outputs": [
    {
     "data": {
      "text/plain": [
       "no     6144\n",
       "yes    4913\n",
       "Name: Conversation rating requested, dtype: int64"
      ]
     },
     "execution_count": 235,
     "metadata": {},
     "output_type": "execute_result"
    }
   ],
   "source": [
    "df['Conversation rating requested'].value_counts()"
   ]
  },
  {
   "cell_type": "code",
   "execution_count": 233,
   "metadata": {},
   "outputs": [
    {
     "data": {
      "text/plain": [
       "Desktop    10393\n",
       "Unknown      604\n",
       "Email         60\n",
       "Name: Channel, dtype: int64"
      ]
     },
     "execution_count": 233,
     "metadata": {},
     "output_type": "execute_result"
    }
   ],
   "source": [
    "df.Channel.value_counts()"
   ]
  },
  {
   "cell_type": "code",
   "execution_count": 237,
   "metadata": {},
   "outputs": [
    {
     "data": {
      "text/plain": [
       "User    11055\n",
       "Lead        2\n",
       "Name: Type, dtype: int64"
      ]
     },
     "execution_count": 237,
     "metadata": {},
     "output_type": "execute_result"
    }
   ],
   "source": [
    "df.Type.value_counts()"
   ]
  },
  {
   "cell_type": "code",
   "execution_count": 239,
   "metadata": {},
   "outputs": [
    {
     "data": {
      "text/plain": [
       "2    1076\n",
       "3    1065\n",
       "4     997\n",
       "5     873\n",
       "6     769\n",
       "Name: Teammate replies, dtype: int64"
      ]
     },
     "execution_count": 239,
     "metadata": {},
     "output_type": "execute_result"
    }
   ],
   "source": [
    "df['Teammate replies'].value_counts().head()"
   ]
  },
  {
   "cell_type": "code",
   "execution_count": 248,
   "metadata": {},
   "outputs": [
    {
     "data": {
      "image/png": "[encoded data removed]",
      "text/plain": [
       "<Figure size 432x288 with 1 Axes>"
      ]
     },
     "metadata": {
      "needs_background": "light"
     },
     "output_type": "display_data"
    }
   ],
   "source": [
    "df.Closed.hist();"
   ]
  },
  {
   "cell_type": "code",
   "execution_count": 240,
   "metadata": {},
   "outputs": [
    {
     "data": {
      "text/plain": [
       "0     9945\n",
       "1      808\n",
       "2      113\n",
       "3      105\n",
       "7       32\n",
       "10      32\n",
       "5       11\n",
       "4       11\n",
       "Name: Reopened, dtype: int64"
      ]
     },
     "execution_count": 240,
     "metadata": {},
     "output_type": "execute_result"
    }
   ],
   "source": [
    "df.Reopened.value_counts()"
   ]
  },
  {
   "cell_type": "code",
   "execution_count": 242,
   "metadata": {},
   "outputs": [
    {
     "data": {
      "text/plain": [
       "Inbound     10453\n",
       "Outbound      604\n",
       "Name: Inbound/Outbound, dtype: int64"
      ]
     },
     "execution_count": 242,
     "metadata": {},
     "output_type": "execute_result"
    }
   ],
   "source": [
    "df['Inbound/Outbound'].value_counts()"
   ]
  },
  {
   "cell_type": "code",
   "execution_count": 244,
   "metadata": {},
   "outputs": [
    {
     "data": {
      "text/plain": [
       "Israel            3562\n",
       "United States     2749\n",
       "India             1591\n",
       "United Kingdom     961\n",
       "Slovenia           418\n",
       "Name: location, dtype: int64"
      ]
     },
     "execution_count": 244,
     "metadata": {},
     "output_type": "execute_result"
    }
   ],
   "source": [
    "df.location.value_counts().head()"
   ]
  },
  {
   "cell_type": "code",
   "execution_count": 247,
   "metadata": {},
   "outputs": [
    {
     "data": {
      "text/plain": [
       "Manual message          339\n",
       "Visitor auto message    263\n",
       "User auto message         2\n",
       "Name: Source, dtype: int64"
      ]
     },
     "execution_count": 247,
     "metadata": {},
     "output_type": "execute_result"
    }
   ],
   "source": [
    "df.Source.value_counts()"
   ]
  },
  {
   "cell_type": "markdown",
   "metadata": {},
   "source": [
    "Notes<br>\n",
    "Channel + Type are very one-sided, Reopened is 89% 0s, source is 94.5% NaN<br>\n",
    "What are closed values?\n",
    "Teammate replies - sum?"
   ]
  },
  {
   "cell_type": "code",
   "execution_count": 259,
   "metadata": {},
   "outputs": [
    {
     "data": {
      "text/html": [
       "<div>\n",
       "<style scoped>\n",
       "    .dataframe tbody tr th:only-of-type {\n",
       "        vertical-align: middle;\n",
       "    }\n",
       "\n",
       "    .dataframe tbody tr th {\n",
       "        vertical-align: top;\n",
       "    }\n",
       "\n",
       "    .dataframe thead th {\n",
       "        text-align: right;\n",
       "    }\n",
       "</style>\n",
       "<table border=\"1\" class=\"dataframe\">\n",
       "  <thead>\n",
       "    <tr style=\"text-align: right;\">\n",
       "      <th></th>\n",
       "      <th>pai_account_id</th>\n",
       "      <th>date</th>\n",
       "      <th>Channel</th>\n",
       "      <th>client_id</th>\n",
       "      <th>Closed</th>\n",
       "      <th>Conversation rating requested</th>\n",
       "      <th>Conversation status</th>\n",
       "      <th>Inbound/Outbound</th>\n",
       "      <th>last_modified_date</th>\n",
       "      <th>location</th>\n",
       "      <th>profile</th>\n",
       "      <th>Reopened</th>\n",
       "      <th>Source</th>\n",
       "      <th>stage</th>\n",
       "      <th>Teammate replies</th>\n",
       "      <th>Conversation ID</th>\n",
       "      <th>ticket_open_time</th>\n",
       "      <th>ticket_solved_time</th>\n",
       "      <th>Time to first reply (seconds)</th>\n",
       "      <th>Time to last close (seconds)</th>\n",
       "      <th>Type</th>\n",
       "    </tr>\n",
       "  </thead>\n",
       "  <tbody>\n",
       "  </tbody>\n",
       "</table>\n",
       "</div>"
      ],
      "text/plain": [
       "Empty DataFrame\n",
       "Columns: [pai_account_id, date, Channel, client_id, Closed, Conversation rating requested, Conversation status, Inbound/Outbound, last_modified_date, location, profile, Reopened, Source, stage, Teammate replies, Conversation ID, ticket_open_time, ticket_solved_time, Time to first reply (seconds), Time to last close (seconds), Type]\n",
       "Index: []"
      ]
     },
     "execution_count": 259,
     "metadata": {},
     "output_type": "execute_result"
    }
   ],
   "source": [
    "df.query(\"pai_account_id=='0011r00001kSV2X'\")"
   ]
  },
  {
   "cell_type": "code",
   "execution_count": 263,
   "metadata": {},
   "outputs": [],
   "source": [
    "matrix = pd.read_csv('fe_matrix_and_target_c7_paying-all_d2019-05-27.csv')"
   ]
  },
  {
   "cell_type": "code",
   "execution_count": 273,
   "metadata": {},
   "outputs": [
    {
     "data": {
      "text/plain": [
       "TeammateRepliesFe                              False\n",
       "ClosedFe                                       False\n",
       "TicketsOpenedFe                                False\n",
       "TicketsOpenedFe.conv_rating_requested.no       False\n",
       "TicketsOpenedFe.conv_rating_requested.yes      False\n",
       "TicketsOpenedFe.inbound_outbound.Inbound       False\n",
       "TicketsOpenedFe.inbound_outbound.Outbound      False\n",
       "TicketsOpenedAndClosedFe                       False\n",
       "TicketsOpenedAndClosedInSpecialTimeWindowFe    False\n",
       "TicketsOpenedInSpecialTimeWindowFe             False\n",
       "dtype: bool"
      ]
     },
     "execution_count": 273,
     "metadata": {},
     "output_type": "execute_result"
    }
   ],
   "source": [
    "(matrix.iloc[:, 4:-4] == '0').any()"
   ]
  },
  {
   "cell_type": "code",
   "execution_count": 278,
   "metadata": {},
   "outputs": [],
   "source": [
    "df.ticket_open_time = pd.to_datetime(df.ticket_open_time)\n",
    "df.ticket_solved_time = pd.to_datetime(df.ticket_solved_time)"
   ]
  },
  {
   "cell_type": "code",
   "execution_count": 280,
   "metadata": {},
   "outputs": [
    {
     "data": {
      "text/plain": [
       "('2018-01-01', '2018-12-31')"
      ]
     },
     "execution_count": 280,
     "metadata": {},
     "output_type": "execute_result"
    }
   ],
   "source": [
    "df.date.min(), df.date.max()"
   ]
  },
  {
   "cell_type": "code",
   "execution_count": 277,
   "metadata": {},
   "outputs": [
    {
     "data": {
      "text/html": [
       "<div>\n",
       "<style scoped>\n",
       "    .dataframe tbody tr th:only-of-type {\n",
       "        vertical-align: middle;\n",
       "    }\n",
       "\n",
       "    .dataframe tbody tr th {\n",
       "        vertical-align: top;\n",
       "    }\n",
       "\n",
       "    .dataframe thead th {\n",
       "        text-align: right;\n",
       "    }\n",
       "</style>\n",
       "<table border=\"1\" class=\"dataframe\">\n",
       "  <thead>\n",
       "    <tr style=\"text-align: right;\">\n",
       "      <th></th>\n",
       "      <th>channel</th>\n",
       "      <th>client_id</th>\n",
       "      <th>closed</th>\n",
       "      <th>conv_rating_requested</th>\n",
       "      <th>conv_status</th>\n",
       "      <th>date</th>\n",
       "      <th>inbound_outbound</th>\n",
       "      <th>last_modified_date</th>\n",
       "      <th>pai_account_id</th>\n",
       "      <th>profile</th>\n",
       "      <th>reopened</th>\n",
       "      <th>stage</th>\n",
       "      <th>teammate-replies</th>\n",
       "      <th>conv_id</th>\n",
       "      <th>ticket_open_time</th>\n",
       "      <th>ticket_solved_time</th>\n",
       "      <th>time_to_first_reply</th>\n",
       "      <th>time_to_last_close</th>\n",
       "      <th>type</th>\n",
       "    </tr>\n",
       "  </thead>\n",
       "  <tbody>\n",
       "    <tr>\n",
       "      <th>0</th>\n",
       "      <td>Desktop</td>\n",
       "      <td>7</td>\n",
       "      <td>2</td>\n",
       "      <td>no</td>\n",
       "      <td>Closed</td>\n",
       "      <td>2018-01-16</td>\n",
       "      <td>Inbound</td>\n",
       "      <td>2018-01-17 09:38:36</td>\n",
       "      <td>0011r00001l1P78</td>\n",
       "      <td>smb</td>\n",
       "      <td>0</td>\n",
       "      <td>paying</td>\n",
       "      <td>9</td>\n",
       "      <td>14110455732</td>\n",
       "      <td>2018-01-16 15:41:55</td>\n",
       "      <td>2018-01-17 09:38:36</td>\n",
       "      <td>29.0</td>\n",
       "      <td>64601.0</td>\n",
       "      <td>User</td>\n",
       "    </tr>\n",
       "    <tr>\n",
       "      <th>1</th>\n",
       "      <td>Desktop</td>\n",
       "      <td>7</td>\n",
       "      <td>2</td>\n",
       "      <td>no</td>\n",
       "      <td>Closed</td>\n",
       "      <td>2018-01-17</td>\n",
       "      <td>Inbound</td>\n",
       "      <td>2018-01-17 09:02:42</td>\n",
       "      <td>0011r00001l1P78</td>\n",
       "      <td>smb</td>\n",
       "      <td>0</td>\n",
       "      <td>paying</td>\n",
       "      <td>21</td>\n",
       "      <td>14118686726</td>\n",
       "      <td>2018-01-17 04:35:49</td>\n",
       "      <td>2018-01-17 09:02:42</td>\n",
       "      <td>60.0</td>\n",
       "      <td>15633.0</td>\n",
       "      <td>User</td>\n",
       "    </tr>\n",
       "    <tr>\n",
       "      <th>2</th>\n",
       "      <td>Desktop</td>\n",
       "      <td>7</td>\n",
       "      <td>3</td>\n",
       "      <td>no</td>\n",
       "      <td>Closed</td>\n",
       "      <td>2018-01-30</td>\n",
       "      <td>Inbound</td>\n",
       "      <td>2018-01-30 11:11:36</td>\n",
       "      <td>0011r00001l1P78</td>\n",
       "      <td>smb</td>\n",
       "      <td>1</td>\n",
       "      <td>paying</td>\n",
       "      <td>2</td>\n",
       "      <td>14357886923</td>\n",
       "      <td>2018-01-30 10:06:52</td>\n",
       "      <td>2018-01-30 11:11:36</td>\n",
       "      <td>254.0</td>\n",
       "      <td>3884.0</td>\n",
       "      <td>User</td>\n",
       "    </tr>\n",
       "    <tr>\n",
       "      <th>3</th>\n",
       "      <td>Desktop</td>\n",
       "      <td>7</td>\n",
       "      <td>1</td>\n",
       "      <td>no</td>\n",
       "      <td>Closed</td>\n",
       "      <td>2018-02-04</td>\n",
       "      <td>Inbound</td>\n",
       "      <td>2018-02-04 09:51:57</td>\n",
       "      <td>0011r00001l1P78</td>\n",
       "      <td>smb</td>\n",
       "      <td>0</td>\n",
       "      <td>paying</td>\n",
       "      <td>3</td>\n",
       "      <td>14443768114</td>\n",
       "      <td>2018-02-04 09:17:37</td>\n",
       "      <td>2018-02-04 09:51:57</td>\n",
       "      <td>80.0</td>\n",
       "      <td>1784.0</td>\n",
       "      <td>User</td>\n",
       "    </tr>\n",
       "    <tr>\n",
       "      <th>4</th>\n",
       "      <td>Desktop</td>\n",
       "      <td>7</td>\n",
       "      <td>4</td>\n",
       "      <td>no</td>\n",
       "      <td>Closed</td>\n",
       "      <td>2018-02-05</td>\n",
       "      <td>Inbound</td>\n",
       "      <td>2018-04-17 08:08:02</td>\n",
       "      <td>0011r00001l1P78</td>\n",
       "      <td>smb</td>\n",
       "      <td>2</td>\n",
       "      <td>paying</td>\n",
       "      <td>5</td>\n",
       "      <td>14454359899</td>\n",
       "      <td>2018-02-05 03:42:09</td>\n",
       "      <td>2018-04-17 08:08:02</td>\n",
       "      <td>327.0</td>\n",
       "      <td>6146753.0</td>\n",
       "      <td>User</td>\n",
       "    </tr>\n",
       "    <tr>\n",
       "      <th>5</th>\n",
       "      <td>Desktop</td>\n",
       "      <td>7</td>\n",
       "      <td>1</td>\n",
       "      <td>no</td>\n",
       "      <td>Closed</td>\n",
       "      <td>2018-04-26</td>\n",
       "      <td>Inbound</td>\n",
       "      <td>2018-04-26 07:20:01</td>\n",
       "      <td>0011r00001l1P78</td>\n",
       "      <td>smb</td>\n",
       "      <td>0</td>\n",
       "      <td>paying</td>\n",
       "      <td>2</td>\n",
       "      <td>15987416549</td>\n",
       "      <td>2018-04-26 07:03:48</td>\n",
       "      <td>2018-04-26 07:20:01</td>\n",
       "      <td>96.0</td>\n",
       "      <td>972.0</td>\n",
       "      <td>User</td>\n",
       "    </tr>\n",
       "    <tr>\n",
       "      <th>6</th>\n",
       "      <td>Unknown</td>\n",
       "      <td>7</td>\n",
       "      <td>2</td>\n",
       "      <td>no</td>\n",
       "      <td>Closed</td>\n",
       "      <td>2018-02-28</td>\n",
       "      <td>Outbound</td>\n",
       "      <td>2018-02-28 07:29:39</td>\n",
       "      <td>0011r00001l1Tjh</td>\n",
       "      <td>smb</td>\n",
       "      <td>0</td>\n",
       "      <td>paying</td>\n",
       "      <td>4</td>\n",
       "      <td>14904118932</td>\n",
       "      <td>2018-02-28 02:37:23</td>\n",
       "      <td>2018-02-28 07:29:39</td>\n",
       "      <td>779.0</td>\n",
       "      <td>2366.0</td>\n",
       "      <td>User</td>\n",
       "    </tr>\n",
       "    <tr>\n",
       "      <th>7</th>\n",
       "      <td>Unknown</td>\n",
       "      <td>7</td>\n",
       "      <td>2</td>\n",
       "      <td>no</td>\n",
       "      <td>Closed</td>\n",
       "      <td>2018-02-28</td>\n",
       "      <td>Outbound</td>\n",
       "      <td>2018-02-28 07:29:39</td>\n",
       "      <td>0011r00001l1Tjh</td>\n",
       "      <td>smb</td>\n",
       "      <td>0</td>\n",
       "      <td>paying</td>\n",
       "      <td>4</td>\n",
       "      <td>14904118932</td>\n",
       "      <td>2018-02-28 02:37:23</td>\n",
       "      <td>2018-02-28 07:29:39</td>\n",
       "      <td>779.0</td>\n",
       "      <td>2366.0</td>\n",
       "      <td>User</td>\n",
       "    </tr>\n",
       "    <tr>\n",
       "      <th>8</th>\n",
       "      <td>Unknown</td>\n",
       "      <td>7</td>\n",
       "      <td>2</td>\n",
       "      <td>no</td>\n",
       "      <td>Closed</td>\n",
       "      <td>2018-02-28</td>\n",
       "      <td>Outbound</td>\n",
       "      <td>2018-02-28 07:29:39</td>\n",
       "      <td>0011r00001l1Tjh</td>\n",
       "      <td>smb</td>\n",
       "      <td>0</td>\n",
       "      <td>paying</td>\n",
       "      <td>4</td>\n",
       "      <td>14904118932</td>\n",
       "      <td>2018-02-28 02:37:23</td>\n",
       "      <td>2018-02-28 07:29:39</td>\n",
       "      <td>779.0</td>\n",
       "      <td>2366.0</td>\n",
       "      <td>User</td>\n",
       "    </tr>\n",
       "    <tr>\n",
       "      <th>9</th>\n",
       "      <td>Unknown</td>\n",
       "      <td>7</td>\n",
       "      <td>2</td>\n",
       "      <td>no</td>\n",
       "      <td>Closed</td>\n",
       "      <td>2018-02-28</td>\n",
       "      <td>Outbound</td>\n",
       "      <td>2018-02-28 07:29:39</td>\n",
       "      <td>0011r00001l1Tjh</td>\n",
       "      <td>smb</td>\n",
       "      <td>0</td>\n",
       "      <td>paying</td>\n",
       "      <td>4</td>\n",
       "      <td>14904118932</td>\n",
       "      <td>2018-02-28 02:37:23</td>\n",
       "      <td>2018-02-28 07:29:39</td>\n",
       "      <td>779.0</td>\n",
       "      <td>2366.0</td>\n",
       "      <td>User</td>\n",
       "    </tr>\n",
       "    <tr>\n",
       "      <th>10</th>\n",
       "      <td>Unknown</td>\n",
       "      <td>7</td>\n",
       "      <td>2</td>\n",
       "      <td>no</td>\n",
       "      <td>Closed</td>\n",
       "      <td>2018-02-28</td>\n",
       "      <td>Outbound</td>\n",
       "      <td>2018-02-28 07:29:39</td>\n",
       "      <td>0011r00001l1Tjh</td>\n",
       "      <td>smb</td>\n",
       "      <td>0</td>\n",
       "      <td>paying</td>\n",
       "      <td>4</td>\n",
       "      <td>14904118932</td>\n",
       "      <td>2018-02-28 02:37:23</td>\n",
       "      <td>2018-02-28 07:29:39</td>\n",
       "      <td>779.0</td>\n",
       "      <td>2366.0</td>\n",
       "      <td>User</td>\n",
       "    </tr>\n",
       "    <tr>\n",
       "      <th>11</th>\n",
       "      <td>Unknown</td>\n",
       "      <td>7</td>\n",
       "      <td>2</td>\n",
       "      <td>no</td>\n",
       "      <td>Closed</td>\n",
       "      <td>2018-02-28</td>\n",
       "      <td>Outbound</td>\n",
       "      <td>2018-02-28 07:29:39</td>\n",
       "      <td>0011r00001l1Tjh</td>\n",
       "      <td>smb</td>\n",
       "      <td>0</td>\n",
       "      <td>paying</td>\n",
       "      <td>4</td>\n",
       "      <td>14904118932</td>\n",
       "      <td>2018-02-28 02:37:23</td>\n",
       "      <td>2018-02-28 07:29:39</td>\n",
       "      <td>779.0</td>\n",
       "      <td>2366.0</td>\n",
       "      <td>User</td>\n",
       "    </tr>\n",
       "    <tr>\n",
       "      <th>12</th>\n",
       "      <td>Unknown</td>\n",
       "      <td>7</td>\n",
       "      <td>2</td>\n",
       "      <td>no</td>\n",
       "      <td>Closed</td>\n",
       "      <td>2018-02-28</td>\n",
       "      <td>Outbound</td>\n",
       "      <td>2018-02-28 07:29:39</td>\n",
       "      <td>0011r00001l1Tjh</td>\n",
       "      <td>smb</td>\n",
       "      <td>0</td>\n",
       "      <td>paying</td>\n",
       "      <td>4</td>\n",
       "      <td>14904118932</td>\n",
       "      <td>2018-02-28 02:37:23</td>\n",
       "      <td>2018-02-28 07:29:39</td>\n",
       "      <td>779.0</td>\n",
       "      <td>2366.0</td>\n",
       "      <td>User</td>\n",
       "    </tr>\n",
       "    <tr>\n",
       "      <th>13</th>\n",
       "      <td>Unknown</td>\n",
       "      <td>7</td>\n",
       "      <td>2</td>\n",
       "      <td>no</td>\n",
       "      <td>Closed</td>\n",
       "      <td>2018-02-28</td>\n",
       "      <td>Outbound</td>\n",
       "      <td>2018-02-28 07:29:39</td>\n",
       "      <td>0011r00001l1Tjh</td>\n",
       "      <td>smb</td>\n",
       "      <td>0</td>\n",
       "      <td>paying</td>\n",
       "      <td>4</td>\n",
       "      <td>14904118932</td>\n",
       "      <td>2018-02-28 02:37:23</td>\n",
       "      <td>2018-02-28 07:29:39</td>\n",
       "      <td>779.0</td>\n",
       "      <td>2366.0</td>\n",
       "      <td>User</td>\n",
       "    </tr>\n",
       "    <tr>\n",
       "      <th>14</th>\n",
       "      <td>Unknown</td>\n",
       "      <td>7</td>\n",
       "      <td>2</td>\n",
       "      <td>no</td>\n",
       "      <td>Closed</td>\n",
       "      <td>2018-02-28</td>\n",
       "      <td>Outbound</td>\n",
       "      <td>2018-02-28 07:29:39</td>\n",
       "      <td>0011r00001l1Tjh</td>\n",
       "      <td>smb</td>\n",
       "      <td>0</td>\n",
       "      <td>paying</td>\n",
       "      <td>4</td>\n",
       "      <td>14904118932</td>\n",
       "      <td>2018-02-28 02:37:23</td>\n",
       "      <td>2018-02-28 07:29:39</td>\n",
       "      <td>779.0</td>\n",
       "      <td>2366.0</td>\n",
       "      <td>User</td>\n",
       "    </tr>\n",
       "    <tr>\n",
       "      <th>15</th>\n",
       "      <td>Unknown</td>\n",
       "      <td>7</td>\n",
       "      <td>2</td>\n",
       "      <td>no</td>\n",
       "      <td>Closed</td>\n",
       "      <td>2018-02-28</td>\n",
       "      <td>Outbound</td>\n",
       "      <td>2018-02-28 07:29:39</td>\n",
       "      <td>0011r00001l1Tjh</td>\n",
       "      <td>smb</td>\n",
       "      <td>0</td>\n",
       "      <td>paying</td>\n",
       "      <td>4</td>\n",
       "      <td>14904118932</td>\n",
       "      <td>2018-02-28 02:37:23</td>\n",
       "      <td>2018-02-28 07:29:39</td>\n",
       "      <td>779.0</td>\n",
       "      <td>2366.0</td>\n",
       "      <td>User</td>\n",
       "    </tr>\n",
       "    <tr>\n",
       "      <th>16</th>\n",
       "      <td>Unknown</td>\n",
       "      <td>7</td>\n",
       "      <td>2</td>\n",
       "      <td>no</td>\n",
       "      <td>Closed</td>\n",
       "      <td>2018-02-28</td>\n",
       "      <td>Outbound</td>\n",
       "      <td>2018-02-28 07:29:39</td>\n",
       "      <td>0011r00001l1Tjh</td>\n",
       "      <td>smb</td>\n",
       "      <td>0</td>\n",
       "      <td>paying</td>\n",
       "      <td>4</td>\n",
       "      <td>14904118932</td>\n",
       "      <td>2018-02-28 02:37:23</td>\n",
       "      <td>2018-02-28 07:29:39</td>\n",
       "      <td>779.0</td>\n",
       "      <td>2366.0</td>\n",
       "      <td>User</td>\n",
       "    </tr>\n",
       "    <tr>\n",
       "      <th>17</th>\n",
       "      <td>Unknown</td>\n",
       "      <td>7</td>\n",
       "      <td>2</td>\n",
       "      <td>no</td>\n",
       "      <td>Closed</td>\n",
       "      <td>2018-02-28</td>\n",
       "      <td>Outbound</td>\n",
       "      <td>2018-02-28 07:29:39</td>\n",
       "      <td>0011r00001l1Tjh</td>\n",
       "      <td>smb</td>\n",
       "      <td>0</td>\n",
       "      <td>paying</td>\n",
       "      <td>4</td>\n",
       "      <td>14904118932</td>\n",
       "      <td>2018-02-28 02:37:23</td>\n",
       "      <td>2018-02-28 07:29:39</td>\n",
       "      <td>779.0</td>\n",
       "      <td>2366.0</td>\n",
       "      <td>User</td>\n",
       "    </tr>\n",
       "    <tr>\n",
       "      <th>18</th>\n",
       "      <td>Unknown</td>\n",
       "      <td>7</td>\n",
       "      <td>2</td>\n",
       "      <td>no</td>\n",
       "      <td>Closed</td>\n",
       "      <td>2018-02-28</td>\n",
       "      <td>Outbound</td>\n",
       "      <td>2018-02-28 07:29:39</td>\n",
       "      <td>0011r00001l1Tjh</td>\n",
       "      <td>smb</td>\n",
       "      <td>0</td>\n",
       "      <td>paying</td>\n",
       "      <td>4</td>\n",
       "      <td>14904118932</td>\n",
       "      <td>2018-02-28 02:37:23</td>\n",
       "      <td>2018-02-28 07:29:39</td>\n",
       "      <td>779.0</td>\n",
       "      <td>2366.0</td>\n",
       "      <td>User</td>\n",
       "    </tr>\n",
       "    <tr>\n",
       "      <th>19</th>\n",
       "      <td>Unknown</td>\n",
       "      <td>7</td>\n",
       "      <td>2</td>\n",
       "      <td>no</td>\n",
       "      <td>Closed</td>\n",
       "      <td>2018-02-28</td>\n",
       "      <td>Outbound</td>\n",
       "      <td>2018-02-28 07:29:39</td>\n",
       "      <td>0011r00001l1Tjh</td>\n",
       "      <td>smb</td>\n",
       "      <td>0</td>\n",
       "      <td>paying</td>\n",
       "      <td>4</td>\n",
       "      <td>14904118932</td>\n",
       "      <td>2018-02-28 02:37:23</td>\n",
       "      <td>2018-02-28 07:29:39</td>\n",
       "      <td>779.0</td>\n",
       "      <td>2366.0</td>\n",
       "      <td>User</td>\n",
       "    </tr>\n",
       "  </tbody>\n",
       "</table>\n",
       "</div>"
      ],
      "text/plain": [
       "    channel  client_id  closed conv_rating_requested conv_status        date  \\\n",
       "0   Desktop          7       2                    no      Closed  2018-01-16   \n",
       "1   Desktop          7       2                    no      Closed  2018-01-17   \n",
       "2   Desktop          7       3                    no      Closed  2018-01-30   \n",
       "3   Desktop          7       1                    no      Closed  2018-02-04   \n",
       "4   Desktop          7       4                    no      Closed  2018-02-05   \n",
       "5   Desktop          7       1                    no      Closed  2018-04-26   \n",
       "6   Unknown          7       2                    no      Closed  2018-02-28   \n",
       "7   Unknown          7       2                    no      Closed  2018-02-28   \n",
       "8   Unknown          7       2                    no      Closed  2018-02-28   \n",
       "9   Unknown          7       2                    no      Closed  2018-02-28   \n",
       "10  Unknown          7       2                    no      Closed  2018-02-28   \n",
       "11  Unknown          7       2                    no      Closed  2018-02-28   \n",
       "12  Unknown          7       2                    no      Closed  2018-02-28   \n",
       "13  Unknown          7       2                    no      Closed  2018-02-28   \n",
       "14  Unknown          7       2                    no      Closed  2018-02-28   \n",
       "15  Unknown          7       2                    no      Closed  2018-02-28   \n",
       "16  Unknown          7       2                    no      Closed  2018-02-28   \n",
       "17  Unknown          7       2                    no      Closed  2018-02-28   \n",
       "18  Unknown          7       2                    no      Closed  2018-02-28   \n",
       "19  Unknown          7       2                    no      Closed  2018-02-28   \n",
       "\n",
       "   inbound_outbound   last_modified_date   pai_account_id profile  reopened  \\\n",
       "0           Inbound  2018-01-17 09:38:36  0011r00001l1P78     smb         0   \n",
       "1           Inbound  2018-01-17 09:02:42  0011r00001l1P78     smb         0   \n",
       "2           Inbound  2018-01-30 11:11:36  0011r00001l1P78     smb         1   \n",
       "3           Inbound  2018-02-04 09:51:57  0011r00001l1P78     smb         0   \n",
       "4           Inbound  2018-04-17 08:08:02  0011r00001l1P78     smb         2   \n",
       "5           Inbound  2018-04-26 07:20:01  0011r00001l1P78     smb         0   \n",
       "6          Outbound  2018-02-28 07:29:39  0011r00001l1Tjh     smb         0   \n",
       "7          Outbound  2018-02-28 07:29:39  0011r00001l1Tjh     smb         0   \n",
       "8          Outbound  2018-02-28 07:29:39  0011r00001l1Tjh     smb         0   \n",
       "9          Outbound  2018-02-28 07:29:39  0011r00001l1Tjh     smb         0   \n",
       "10         Outbound  2018-02-28 07:29:39  0011r00001l1Tjh     smb         0   \n",
       "11         Outbound  2018-02-28 07:29:39  0011r00001l1Tjh     smb         0   \n",
       "12         Outbound  2018-02-28 07:29:39  0011r00001l1Tjh     smb         0   \n",
       "13         Outbound  2018-02-28 07:29:39  0011r00001l1Tjh     smb         0   \n",
       "14         Outbound  2018-02-28 07:29:39  0011r00001l1Tjh     smb         0   \n",
       "15         Outbound  2018-02-28 07:29:39  0011r00001l1Tjh     smb         0   \n",
       "16         Outbound  2018-02-28 07:29:39  0011r00001l1Tjh     smb         0   \n",
       "17         Outbound  2018-02-28 07:29:39  0011r00001l1Tjh     smb         0   \n",
       "18         Outbound  2018-02-28 07:29:39  0011r00001l1Tjh     smb         0   \n",
       "19         Outbound  2018-02-28 07:29:39  0011r00001l1Tjh     smb         0   \n",
       "\n",
       "     stage  teammate-replies      conv_id     ticket_open_time  \\\n",
       "0   paying                 9  14110455732  2018-01-16 15:41:55   \n",
       "1   paying                21  14118686726  2018-01-17 04:35:49   \n",
       "2   paying                 2  14357886923  2018-01-30 10:06:52   \n",
       "3   paying                 3  14443768114  2018-02-04 09:17:37   \n",
       "4   paying                 5  14454359899  2018-02-05 03:42:09   \n",
       "5   paying                 2  15987416549  2018-04-26 07:03:48   \n",
       "6   paying                 4  14904118932  2018-02-28 02:37:23   \n",
       "7   paying                 4  14904118932  2018-02-28 02:37:23   \n",
       "8   paying                 4  14904118932  2018-02-28 02:37:23   \n",
       "9   paying                 4  14904118932  2018-02-28 02:37:23   \n",
       "10  paying                 4  14904118932  2018-02-28 02:37:23   \n",
       "11  paying                 4  14904118932  2018-02-28 02:37:23   \n",
       "12  paying                 4  14904118932  2018-02-28 02:37:23   \n",
       "13  paying                 4  14904118932  2018-02-28 02:37:23   \n",
       "14  paying                 4  14904118932  2018-02-28 02:37:23   \n",
       "15  paying                 4  14904118932  2018-02-28 02:37:23   \n",
       "16  paying                 4  14904118932  2018-02-28 02:37:23   \n",
       "17  paying                 4  14904118932  2018-02-28 02:37:23   \n",
       "18  paying                 4  14904118932  2018-02-28 02:37:23   \n",
       "19  paying                 4  14904118932  2018-02-28 02:37:23   \n",
       "\n",
       "     ticket_solved_time  time_to_first_reply  time_to_last_close  type  \n",
       "0   2018-01-17 09:38:36                 29.0             64601.0  User  \n",
       "1   2018-01-17 09:02:42                 60.0             15633.0  User  \n",
       "2   2018-01-30 11:11:36                254.0              3884.0  User  \n",
       "3   2018-02-04 09:51:57                 80.0              1784.0  User  \n",
       "4   2018-04-17 08:08:02                327.0           6146753.0  User  \n",
       "5   2018-04-26 07:20:01                 96.0               972.0  User  \n",
       "6   2018-02-28 07:29:39                779.0              2366.0  User  \n",
       "7   2018-02-28 07:29:39                779.0              2366.0  User  \n",
       "8   2018-02-28 07:29:39                779.0              2366.0  User  \n",
       "9   2018-02-28 07:29:39                779.0              2366.0  User  \n",
       "10  2018-02-28 07:29:39                779.0              2366.0  User  \n",
       "11  2018-02-28 07:29:39                779.0              2366.0  User  \n",
       "12  2018-02-28 07:29:39                779.0              2366.0  User  \n",
       "13  2018-02-28 07:29:39                779.0              2366.0  User  \n",
       "14  2018-02-28 07:29:39                779.0              2366.0  User  \n",
       "15  2018-02-28 07:29:39                779.0              2366.0  User  \n",
       "16  2018-02-28 07:29:39                779.0              2366.0  User  \n",
       "17  2018-02-28 07:29:39                779.0              2366.0  User  \n",
       "18  2018-02-28 07:29:39                779.0              2366.0  User  \n",
       "19  2018-02-28 07:29:39                779.0              2366.0  User  "
      ]
     },
     "execution_count": 277,
     "metadata": {},
     "output_type": "execute_result"
    }
   ],
   "source": [
    "df.head(20)"
   ]
  },
  {
   "cell_type": "code",
   "execution_count": 250,
   "metadata": {},
   "outputs": [
    {
     "data": {
      "text/plain": [
       "1     52504\n",
       "2     16696\n",
       "3      5910\n",
       "4      2991\n",
       "0      1665\n",
       "5      1517\n",
       "6       696\n",
       "7       366\n",
       "8       182\n",
       "10      151\n",
       "9        88\n",
       "13       82\n",
       "16       82\n",
       "12       79\n",
       "11       70\n",
       "14       33\n",
       "19       33\n",
       "32       32\n",
       "20       25\n",
       "24        5\n",
       "27        4\n",
       "15        3\n",
       "37        3\n",
       "17        1\n",
       "18        1\n",
       "22        1\n",
       "31        1\n",
       "Name: Closed, dtype: int64"
      ]
     },
     "execution_count": 250,
     "metadata": {},
     "output_type": "execute_result"
    }
   ],
   "source": [
    "support.Closed.value_counts()"
   ]
  },
  {
   "cell_type": "code",
   "execution_count": 212,
   "metadata": {
    "scrolled": true
   },
   "outputs": [
    {
     "data": {
      "text/plain": [
       "Source                           94.537397\n",
       "location                          5.607308\n",
       "Time to first reply (seconds)     3.346296\n",
       "Time to last close (seconds)      1.157638\n",
       "dtype: float64"
      ]
     },
     "execution_count": 212,
     "metadata": {},
     "output_type": "execute_result"
    }
   ],
   "source": [
    "nulls = (df.isnull().sum() * 100 / len(df)).sort_values(ascending=False)\n",
    "nulls[nulls > 0]"
   ]
  },
  {
   "cell_type": "code",
   "execution_count": 32,
   "metadata": {},
   "outputs": [
    {
     "name": "stderr",
     "output_type": "stream",
     "text": [
      "/Users/joshfriedlander/miniconda3/lib/python3.7/site-packages/IPython/core/interactiveshell.py:3020: DtypeWarning: Columns (10,29,46) have mixed types. Specify dtype option on import or set low_memory=False.\n",
      "  interactivity=interactivity, compiler=compiler, result=result)\n"
     ]
    }
   ],
   "source": [
    "old_usage = pd.read_csv('APPSFLYER_cleaned_usage_APPSFLYER.csv')\n",
    "old_usage = old_usage.sort_values(by=['date'])\n",
    "old_usage = old_usage[sorted(list(old_usage))]"
   ]
  }
 ],
 "metadata": {
  "kernelspec": {
   "display_name": "Python 3",
   "language": "python",
   "name": "python3"
  },
  "language_info": {
   "codemirror_mode": {
    "name": "ipython",
    "version": 3
   },
   "file_extension": ".py",
   "mimetype": "text/x-python",
   "name": "python",
   "nbconvert_exporter": "python",
   "pygments_lexer": "ipython3",
   "version": "3.6.8"
  }
 },
 "nbformat": 4,
 "nbformat_minor": 2
}
