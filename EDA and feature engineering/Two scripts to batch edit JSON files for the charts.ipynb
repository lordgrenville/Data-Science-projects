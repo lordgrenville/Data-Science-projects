{
 "cells": [
  {
   "cell_type": "markdown",
   "metadata": {},
   "source": [
    "## Two scripts to batch edit JSON files for the charts"
   ]
  },
  {
   "cell_type": "markdown",
   "metadata": {},
   "source": [
    "This one edits them as json, replacing renewal date if it's in the year 2261"
   ]
  },
  {
   "cell_type": "code",
   "execution_count": 151,
   "metadata": {},
   "outputs": [],
   "source": [
    "import json\n",
    "\n",
    "filename = 'prediction_json_c7_d2018-12-30'\n",
    "x = json.loads(open(filename + '.txt').read())\n",
    "\n",
    "for acc in x['accounts']:\n",
    "    if acc['nextRenewal']['renewalDate'][0] == 2261:\n",
    "        acc['nextRenewal']['renewalDate'] = [2019] + acc['startDate'][1:]\n",
    "with open(filename + '.json', 'w') as f:\n",
    "    json.dump(x, f)"
   ]
  },
  {
   "cell_type": "markdown",
   "metadata": {},
   "source": [
    "This reads in a 2 column csv into a dict and replaces values accordingly"
   ]
  },
  {
   "cell_type": "code",
   "execution_count": 2,
   "metadata": {},
   "outputs": [],
   "source": [
    "import pandas as pd\n",
    "from glob import glob"
   ]
  },
  {
   "cell_type": "code",
   "execution_count": 98,
   "metadata": {},
   "outputs": [],
   "source": [
    "base = 'temp_transfer_logz_2019-06-17_c7_recovery/visualizations/'\n",
    "files = [x for x in glob(base + '*.txt')]\n",
    "repl = pd.read_csv('mydict.csv', header=None)\n",
    "vals = dict(zip(repl[0], repl[1]))\n",
    "vals = {k:(vals[k].strip(), v) for k,v in dict(zip(vals.keys(), range(len(vals.keys())))).items()}\n",
    "\n",
    "# added values\n",
    "vals['Daily GB Indexed (30d)'] = ('Daily GB Indexed (30d)', 182)\n",
    "vals['Total GB in the last 30 days, Per Recent Fee Paid'] = ('Total GB in the last 30 days, Per Recent Fee Paid', 183)\n",
    "vals['Total GB in the last 30 days, indexed Per Average Fee Paid'] = ('Total GB in the last 30 days, indexed Per Average Fee Paid', 184)\n",
    "vals['Number of employees'] = ('Number of Employees', 185)\n",
    "vals['Number of packages'] = ('Number of Packages', 186)"
   ]
  },
  {
   "cell_type": "code",
   "execution_count": 99,
   "metadata": {},
   "outputs": [
    {
     "data": {
      "text/plain": [
       "'{\"title\": \"Percentile10Fe(Imputed)\", \"lab'"
      ]
     },
     "execution_count": 99,
     "metadata": {},
     "output_type": "execute_result"
    }
   ],
   "source": [
    "original = ['account_visualizations_c7_id_0011r00001oozwD_d2018-12-30_JSON_orig.txt']\n",
    "s = open(original[0]).read()\n",
    "n = s.index('Percentile')\n",
    "s[n - 11: n + 30]"
   ]
  },
  {
   "cell_type": "code",
   "execution_count": 91,
   "metadata": {},
   "outputs": [],
   "source": [
    "test = [base + 'account_visualizations_c7_id_0011r00001oozwD_d2018-12-30_JSON.txt']\n",
    "s = open(test[0]).read()\n",
    "n = s.index('Total GB in the last 30 days, Per Recent Fee Paid')\n",
    "print(s[n - 51: n + 70])"
   ]
  },
  {
   "cell_type": "code",
   "execution_count": 102,
   "metadata": {},
   "outputs": [],
   "source": [
    "for f in test:\n",
    "    with open(f, 'r') as file:\n",
    "        filedata = file.read()\n",
    "    for k in vals.keys():\n",
    "        filedata = filedata.replace(f'''\"title\": \"{k}(Imputed)''', f'''\"baseFeature\": \"{str(vals[k][1])}\", \"title\": \"{vals[k][0]}''')\n",
    "    with open(f, 'w') as file:\n",
    "        file.write(filedata)"
   ]
  }
 ],
 "metadata": {
  "kernelspec": {
   "display_name": "Python 3",
   "language": "python",
   "name": "python3"
  },
  "language_info": {
   "codemirror_mode": {
    "name": "ipython",
    "version": 3
   },
   "file_extension": ".py",
   "mimetype": "text/x-python",
   "name": "python",
   "nbconvert_exporter": "python",
   "pygments_lexer": "ipython3",
   "version": "3.8.6"
  },
  "pycharm": {
   "stem_cell": {
    "cell_type": "raw",
    "metadata": {
     "collapsed": false
    },
    "source": []
   }
  }
 },
 "nbformat": 4,
 "nbformat_minor": 2
}
