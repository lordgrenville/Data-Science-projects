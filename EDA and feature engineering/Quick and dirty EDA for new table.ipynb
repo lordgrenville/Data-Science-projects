{
 "cells": [
  {
   "cell_type": "markdown",
   "metadata": {
    "ein.tags": "worksheet-0",
    "slideshow": {
     "slide_type": "-"
    }
   },
   "source": [
    "# imports"
   ]
  },
  {
   "cell_type": "code",
   "execution_count": 1,
   "metadata": {
    "autoscroll": false,
    "ein.hycell": false,
    "ein.tags": "worksheet-0",
    "slideshow": {
     "slide_type": "-"
    }
   },
   "outputs": [],
   "source": [
    "import numpy as np\n",
    "import pandas as pd\n",
    "import matplotlib.pyplot as plt\n",
    "%matplotlib inline"
   ]
  },
  {
   "cell_type": "code",
   "execution_count": 2,
   "metadata": {
    "autoscroll": false,
    "ein.hycell": false,
    "ein.tags": "worksheet-0",
    "slideshow": {
     "slide_type": "-"
    }
   },
   "outputs": [
    {
     "data": {
      "text/plain": [
       "'0.23.4'"
      ]
     },
     "execution_count": 2,
     "metadata": {},
     "output_type": "execute_result"
    }
   ],
   "source": [
    "pd.__version__"
   ]
  },
  {
   "cell_type": "code",
   "execution_count": 3,
   "metadata": {
    "autoscroll": false,
    "ein.hycell": false,
    "ein.tags": "worksheet-0",
    "slideshow": {
     "slide_type": "-"
    }
   },
   "outputs": [],
   "source": [
    "pd.set_option('display.max_rows', 500)\n",
    "pd.set_option('display.max_columns', 500)"
   ]
  },
  {
   "cell_type": "code",
   "execution_count": 4,
   "metadata": {
    "autoscroll": false,
    "ein.hycell": false,
    "ein.tags": "worksheet-0",
    "slideshow": {
     "slide_type": "-"
    }
   },
   "outputs": [
    {
     "ename": "FileNotFoundError",
     "evalue": "File b'../utils/FEEDVISOR_cleaned_usage2_FEEDVISOR.csv' does not exist",
     "output_type": "error",
     "traceback": [
      "\u001b[0;31m---------------------------------------------------------------------------\u001b[0m",
      "\u001b[0;31mFileNotFoundError\u001b[0m                         Traceback (most recent call last)",
      "\u001b[0;32m<ipython-input-4-777be7d3e9c6>\u001b[0m in \u001b[0;36m<module>\u001b[0;34m\u001b[0m\n\u001b[0;32m----> 1\u001b[0;31m \u001b[0mdf\u001b[0m \u001b[0;34m=\u001b[0m \u001b[0mpd\u001b[0m\u001b[0;34m.\u001b[0m\u001b[0mread_csv\u001b[0m\u001b[0;34m(\u001b[0m\u001b[0;34m'../utils/FEEDVISOR_cleaned_usage2_FEEDVISOR.csv'\u001b[0m\u001b[0;34m)\u001b[0m\u001b[0;34m\u001b[0m\u001b[0;34m\u001b[0m\u001b[0m\n\u001b[0m",
      "\u001b[0;32m~/miniconda3/envs/old_pandas/lib/python3.6/site-packages/pandas/io/parsers.py\u001b[0m in \u001b[0;36mparser_f\u001b[0;34m(filepath_or_buffer, sep, delimiter, header, names, index_col, usecols, squeeze, prefix, mangle_dupe_cols, dtype, engine, converters, true_values, false_values, skipinitialspace, skiprows, nrows, na_values, keep_default_na, na_filter, verbose, skip_blank_lines, parse_dates, infer_datetime_format, keep_date_col, date_parser, dayfirst, iterator, chunksize, compression, thousands, decimal, lineterminator, quotechar, quoting, escapechar, comment, encoding, dialect, tupleize_cols, error_bad_lines, warn_bad_lines, skipfooter, doublequote, delim_whitespace, low_memory, memory_map, float_precision)\u001b[0m\n\u001b[1;32m    676\u001b[0m                     skip_blank_lines=skip_blank_lines)\n\u001b[1;32m    677\u001b[0m \u001b[0;34m\u001b[0m\u001b[0m\n\u001b[0;32m--> 678\u001b[0;31m         \u001b[0;32mreturn\u001b[0m \u001b[0m_read\u001b[0m\u001b[0;34m(\u001b[0m\u001b[0mfilepath_or_buffer\u001b[0m\u001b[0;34m,\u001b[0m \u001b[0mkwds\u001b[0m\u001b[0;34m)\u001b[0m\u001b[0;34m\u001b[0m\u001b[0;34m\u001b[0m\u001b[0m\n\u001b[0m\u001b[1;32m    679\u001b[0m \u001b[0;34m\u001b[0m\u001b[0m\n\u001b[1;32m    680\u001b[0m     \u001b[0mparser_f\u001b[0m\u001b[0;34m.\u001b[0m\u001b[0m__name__\u001b[0m \u001b[0;34m=\u001b[0m \u001b[0mname\u001b[0m\u001b[0;34m\u001b[0m\u001b[0;34m\u001b[0m\u001b[0m\n",
      "\u001b[0;32m~/miniconda3/envs/old_pandas/lib/python3.6/site-packages/pandas/io/parsers.py\u001b[0m in \u001b[0;36m_read\u001b[0;34m(filepath_or_buffer, kwds)\u001b[0m\n\u001b[1;32m    438\u001b[0m \u001b[0;34m\u001b[0m\u001b[0m\n\u001b[1;32m    439\u001b[0m     \u001b[0;31m# Create the parser.\u001b[0m\u001b[0;34m\u001b[0m\u001b[0;34m\u001b[0m\u001b[0;34m\u001b[0m\u001b[0m\n\u001b[0;32m--> 440\u001b[0;31m     \u001b[0mparser\u001b[0m \u001b[0;34m=\u001b[0m \u001b[0mTextFileReader\u001b[0m\u001b[0;34m(\u001b[0m\u001b[0mfilepath_or_buffer\u001b[0m\u001b[0;34m,\u001b[0m \u001b[0;34m**\u001b[0m\u001b[0mkwds\u001b[0m\u001b[0;34m)\u001b[0m\u001b[0;34m\u001b[0m\u001b[0;34m\u001b[0m\u001b[0m\n\u001b[0m\u001b[1;32m    441\u001b[0m \u001b[0;34m\u001b[0m\u001b[0m\n\u001b[1;32m    442\u001b[0m     \u001b[0;32mif\u001b[0m \u001b[0mchunksize\u001b[0m \u001b[0;32mor\u001b[0m \u001b[0miterator\u001b[0m\u001b[0;34m:\u001b[0m\u001b[0;34m\u001b[0m\u001b[0;34m\u001b[0m\u001b[0m\n",
      "\u001b[0;32m~/miniconda3/envs/old_pandas/lib/python3.6/site-packages/pandas/io/parsers.py\u001b[0m in \u001b[0;36m__init__\u001b[0;34m(self, f, engine, **kwds)\u001b[0m\n\u001b[1;32m    785\u001b[0m             \u001b[0mself\u001b[0m\u001b[0;34m.\u001b[0m\u001b[0moptions\u001b[0m\u001b[0;34m[\u001b[0m\u001b[0;34m'has_index_names'\u001b[0m\u001b[0;34m]\u001b[0m \u001b[0;34m=\u001b[0m \u001b[0mkwds\u001b[0m\u001b[0;34m[\u001b[0m\u001b[0;34m'has_index_names'\u001b[0m\u001b[0;34m]\u001b[0m\u001b[0;34m\u001b[0m\u001b[0;34m\u001b[0m\u001b[0m\n\u001b[1;32m    786\u001b[0m \u001b[0;34m\u001b[0m\u001b[0m\n\u001b[0;32m--> 787\u001b[0;31m         \u001b[0mself\u001b[0m\u001b[0;34m.\u001b[0m\u001b[0m_make_engine\u001b[0m\u001b[0;34m(\u001b[0m\u001b[0mself\u001b[0m\u001b[0;34m.\u001b[0m\u001b[0mengine\u001b[0m\u001b[0;34m)\u001b[0m\u001b[0;34m\u001b[0m\u001b[0;34m\u001b[0m\u001b[0m\n\u001b[0m\u001b[1;32m    788\u001b[0m \u001b[0;34m\u001b[0m\u001b[0m\n\u001b[1;32m    789\u001b[0m     \u001b[0;32mdef\u001b[0m \u001b[0mclose\u001b[0m\u001b[0;34m(\u001b[0m\u001b[0mself\u001b[0m\u001b[0;34m)\u001b[0m\u001b[0;34m:\u001b[0m\u001b[0;34m\u001b[0m\u001b[0;34m\u001b[0m\u001b[0m\n",
      "\u001b[0;32m~/miniconda3/envs/old_pandas/lib/python3.6/site-packages/pandas/io/parsers.py\u001b[0m in \u001b[0;36m_make_engine\u001b[0;34m(self, engine)\u001b[0m\n\u001b[1;32m   1012\u001b[0m     \u001b[0;32mdef\u001b[0m \u001b[0m_make_engine\u001b[0m\u001b[0;34m(\u001b[0m\u001b[0mself\u001b[0m\u001b[0;34m,\u001b[0m \u001b[0mengine\u001b[0m\u001b[0;34m=\u001b[0m\u001b[0;34m'c'\u001b[0m\u001b[0;34m)\u001b[0m\u001b[0;34m:\u001b[0m\u001b[0;34m\u001b[0m\u001b[0;34m\u001b[0m\u001b[0m\n\u001b[1;32m   1013\u001b[0m         \u001b[0;32mif\u001b[0m \u001b[0mengine\u001b[0m \u001b[0;34m==\u001b[0m \u001b[0;34m'c'\u001b[0m\u001b[0;34m:\u001b[0m\u001b[0;34m\u001b[0m\u001b[0;34m\u001b[0m\u001b[0m\n\u001b[0;32m-> 1014\u001b[0;31m             \u001b[0mself\u001b[0m\u001b[0;34m.\u001b[0m\u001b[0m_engine\u001b[0m \u001b[0;34m=\u001b[0m \u001b[0mCParserWrapper\u001b[0m\u001b[0;34m(\u001b[0m\u001b[0mself\u001b[0m\u001b[0;34m.\u001b[0m\u001b[0mf\u001b[0m\u001b[0;34m,\u001b[0m \u001b[0;34m**\u001b[0m\u001b[0mself\u001b[0m\u001b[0;34m.\u001b[0m\u001b[0moptions\u001b[0m\u001b[0;34m)\u001b[0m\u001b[0;34m\u001b[0m\u001b[0;34m\u001b[0m\u001b[0m\n\u001b[0m\u001b[1;32m   1015\u001b[0m         \u001b[0;32melse\u001b[0m\u001b[0;34m:\u001b[0m\u001b[0;34m\u001b[0m\u001b[0;34m\u001b[0m\u001b[0m\n\u001b[1;32m   1016\u001b[0m             \u001b[0;32mif\u001b[0m \u001b[0mengine\u001b[0m \u001b[0;34m==\u001b[0m \u001b[0;34m'python'\u001b[0m\u001b[0;34m:\u001b[0m\u001b[0;34m\u001b[0m\u001b[0;34m\u001b[0m\u001b[0m\n",
      "\u001b[0;32m~/miniconda3/envs/old_pandas/lib/python3.6/site-packages/pandas/io/parsers.py\u001b[0m in \u001b[0;36m__init__\u001b[0;34m(self, src, **kwds)\u001b[0m\n\u001b[1;32m   1706\u001b[0m         \u001b[0mkwds\u001b[0m\u001b[0;34m[\u001b[0m\u001b[0;34m'usecols'\u001b[0m\u001b[0;34m]\u001b[0m \u001b[0;34m=\u001b[0m \u001b[0mself\u001b[0m\u001b[0;34m.\u001b[0m\u001b[0musecols\u001b[0m\u001b[0;34m\u001b[0m\u001b[0;34m\u001b[0m\u001b[0m\n\u001b[1;32m   1707\u001b[0m \u001b[0;34m\u001b[0m\u001b[0m\n\u001b[0;32m-> 1708\u001b[0;31m         \u001b[0mself\u001b[0m\u001b[0;34m.\u001b[0m\u001b[0m_reader\u001b[0m \u001b[0;34m=\u001b[0m \u001b[0mparsers\u001b[0m\u001b[0;34m.\u001b[0m\u001b[0mTextReader\u001b[0m\u001b[0;34m(\u001b[0m\u001b[0msrc\u001b[0m\u001b[0;34m,\u001b[0m \u001b[0;34m**\u001b[0m\u001b[0mkwds\u001b[0m\u001b[0;34m)\u001b[0m\u001b[0;34m\u001b[0m\u001b[0;34m\u001b[0m\u001b[0m\n\u001b[0m\u001b[1;32m   1709\u001b[0m \u001b[0;34m\u001b[0m\u001b[0m\n\u001b[1;32m   1710\u001b[0m         \u001b[0mpassed_names\u001b[0m \u001b[0;34m=\u001b[0m \u001b[0mself\u001b[0m\u001b[0;34m.\u001b[0m\u001b[0mnames\u001b[0m \u001b[0;32mis\u001b[0m \u001b[0;32mNone\u001b[0m\u001b[0;34m\u001b[0m\u001b[0;34m\u001b[0m\u001b[0m\n",
      "\u001b[0;32mpandas/_libs/parsers.pyx\u001b[0m in \u001b[0;36mpandas._libs.parsers.TextReader.__cinit__\u001b[0;34m()\u001b[0m\n",
      "\u001b[0;32mpandas/_libs/parsers.pyx\u001b[0m in \u001b[0;36mpandas._libs.parsers.TextReader._setup_parser_source\u001b[0;34m()\u001b[0m\n",
      "\u001b[0;31mFileNotFoundError\u001b[0m: File b'../utils/FEEDVISOR_cleaned_usage2_FEEDVISOR.csv' does not exist"
     ]
    }
   ],
   "source": [
    "df = pd.read_csv('../utils/FEEDVISOR_cleaned_usage2_FEEDVISOR.csv')"
   ]
  },
  {
   "cell_type": "code",
   "execution_count": 5,
   "metadata": {
    "autoscroll": false,
    "ein.hycell": false,
    "ein.tags": "worksheet-0",
    "slideshow": {
     "slide_type": "-"
    }
   },
   "outputs": [
    {
     "data": {
      "text/html": [
       "<div>\n",
       "<style scoped>\n",
       "    .dataframe tbody tr th:only-of-type {\n",
       "        vertical-align: middle;\n",
       "    }\n",
       "\n",
       "    .dataframe tbody tr th {\n",
       "        vertical-align: top;\n",
       "    }\n",
       "\n",
       "    .dataframe thead th {\n",
       "        text-align: right;\n",
       "    }\n",
       "</style>\n",
       "<table border=\"1\" class=\"dataframe\">\n",
       "  <thead>\n",
       "    <tr style=\"text-align: right;\">\n",
       "      <th></th>\n",
       "      <th>recipe_execution_date</th>\n",
       "      <th>client_id</th>\n",
       "      <th>managed_ad_spend_last_30</th>\n",
       "      <th>back_office_id</th>\n",
       "      <th>total_ad_spend_last_30_currency</th>\n",
       "      <th>managed_ad_spend_last_30_usd</th>\n",
       "      <th>total_ad_spend_last_30_usd</th>\n",
       "      <th>id</th>\n",
       "      <th>lastmodifieddate</th>\n",
       "      <th>marketplace</th>\n",
       "      <th>online_store</th>\n",
       "      <th>managed_ad_spend_last_30_currency</th>\n",
       "      <th>Dsm_ACCOUNT_ID</th>\n",
       "      <th>current_number_of_campaigns</th>\n",
       "      <th>total_ad_spend_last_30</th>\n",
       "      <th>created_date_timestamp</th>\n",
       "      <th>date</th>\n",
       "    </tr>\n",
       "  </thead>\n",
       "  <tbody>\n",
       "    <tr>\n",
       "      <th>0</th>\n",
       "      <td>2019-09-04</td>\n",
       "      <td>1</td>\n",
       "      <td>21.67</td>\n",
       "      <td>3618</td>\n",
       "      <td>NaN</td>\n",
       "      <td>21.67</td>\n",
       "      <td>18750.53</td>\n",
       "      <td>a2D0J000001mqR6UAI</td>\n",
       "      <td>2019-04-16T20:13:08Z</td>\n",
       "      <td>AMAZON</td>\n",
       "      <td>a0Kb000000D8crKEAR</td>\n",
       "      <td>NaN</td>\n",
       "      <td>001b000003kd0RZ</td>\n",
       "      <td>611</td>\n",
       "      <td>18750.53</td>\n",
       "      <td>2019-04-16T20:13:08Z</td>\n",
       "      <td>2019-04-16</td>\n",
       "    </tr>\n",
       "    <tr>\n",
       "      <th>1</th>\n",
       "      <td>2019-09-04</td>\n",
       "      <td>1</td>\n",
       "      <td>979.16</td>\n",
       "      <td>3604</td>\n",
       "      <td>NaN</td>\n",
       "      <td>979.16</td>\n",
       "      <td>48550.32</td>\n",
       "      <td>a2D0J000001mqR9UAI</td>\n",
       "      <td>2019-04-16T20:13:08Z</td>\n",
       "      <td>AMAZON</td>\n",
       "      <td>a0Kb000000D8bpoEAB</td>\n",
       "      <td>NaN</td>\n",
       "      <td>001b000003kd0RZ</td>\n",
       "      <td>1442</td>\n",
       "      <td>48550.32</td>\n",
       "      <td>2019-04-16T20:13:08Z</td>\n",
       "      <td>2019-04-16</td>\n",
       "    </tr>\n",
       "    <tr>\n",
       "      <th>2</th>\n",
       "      <td>2019-09-04</td>\n",
       "      <td>1</td>\n",
       "      <td>295.40</td>\n",
       "      <td>3534</td>\n",
       "      <td>NaN</td>\n",
       "      <td>295.40</td>\n",
       "      <td>1500.58</td>\n",
       "      <td>a2D0J000001mqRLUAY</td>\n",
       "      <td>2019-04-16T20:13:08Z</td>\n",
       "      <td>AMAZON_UK</td>\n",
       "      <td>a0Kb000000CduP6EAJ</td>\n",
       "      <td>NaN</td>\n",
       "      <td>001b000003nfsGl</td>\n",
       "      <td>49</td>\n",
       "      <td>1500.58</td>\n",
       "      <td>2019-04-16T20:13:08Z</td>\n",
       "      <td>2019-04-16</td>\n",
       "    </tr>\n",
       "    <tr>\n",
       "      <th>3</th>\n",
       "      <td>2019-09-04</td>\n",
       "      <td>1</td>\n",
       "      <td>7457.45</td>\n",
       "      <td>3259</td>\n",
       "      <td>NaN</td>\n",
       "      <td>7457.45</td>\n",
       "      <td>25204.33</td>\n",
       "      <td>a2D0J000001mqRlUAI</td>\n",
       "      <td>2019-04-16T20:13:08Z</td>\n",
       "      <td>AMAZON</td>\n",
       "      <td>a0Kb000000C404OEAR</td>\n",
       "      <td>NaN</td>\n",
       "      <td>001b000003NHDh1</td>\n",
       "      <td>270</td>\n",
       "      <td>25204.33</td>\n",
       "      <td>2019-04-16T20:13:08Z</td>\n",
       "      <td>2019-04-16</td>\n",
       "    </tr>\n",
       "    <tr>\n",
       "      <th>4</th>\n",
       "      <td>2019-09-04</td>\n",
       "      <td>1</td>\n",
       "      <td>5491.03</td>\n",
       "      <td>3234</td>\n",
       "      <td>NaN</td>\n",
       "      <td>5491.03</td>\n",
       "      <td>16506.34</td>\n",
       "      <td>a2D0J000001mqRnUAI</td>\n",
       "      <td>2019-04-16T20:13:08Z</td>\n",
       "      <td>AMAZON</td>\n",
       "      <td>a0Kb000000C3BzBEAV</td>\n",
       "      <td>NaN</td>\n",
       "      <td>001b000001EhSOT</td>\n",
       "      <td>468</td>\n",
       "      <td>16506.34</td>\n",
       "      <td>2019-04-16T20:13:08Z</td>\n",
       "      <td>2019-04-16</td>\n",
       "    </tr>\n",
       "  </tbody>\n",
       "</table>\n",
       "</div>"
      ],
      "text/plain": [
       "  recipe_execution_date  client_id  managed_ad_spend_last_30  back_office_id  \\\n",
       "0            2019-09-04          1                     21.67            3618   \n",
       "1            2019-09-04          1                    979.16            3604   \n",
       "2            2019-09-04          1                    295.40            3534   \n",
       "3            2019-09-04          1                   7457.45            3259   \n",
       "4            2019-09-04          1                   5491.03            3234   \n",
       "\n",
       "   total_ad_spend_last_30_currency  managed_ad_spend_last_30_usd  \\\n",
       "0                              NaN                         21.67   \n",
       "1                              NaN                        979.16   \n",
       "2                              NaN                        295.40   \n",
       "3                              NaN                       7457.45   \n",
       "4                              NaN                       5491.03   \n",
       "\n",
       "   total_ad_spend_last_30_usd                  id      lastmodifieddate  \\\n",
       "0                    18750.53  a2D0J000001mqR6UAI  2019-04-16T20:13:08Z   \n",
       "1                    48550.32  a2D0J000001mqR9UAI  2019-04-16T20:13:08Z   \n",
       "2                     1500.58  a2D0J000001mqRLUAY  2019-04-16T20:13:08Z   \n",
       "3                    25204.33  a2D0J000001mqRlUAI  2019-04-16T20:13:08Z   \n",
       "4                    16506.34  a2D0J000001mqRnUAI  2019-04-16T20:13:08Z   \n",
       "\n",
       "  marketplace        online_store  managed_ad_spend_last_30_currency  \\\n",
       "0      AMAZON  a0Kb000000D8crKEAR                                NaN   \n",
       "1      AMAZON  a0Kb000000D8bpoEAB                                NaN   \n",
       "2   AMAZON_UK  a0Kb000000CduP6EAJ                                NaN   \n",
       "3      AMAZON  a0Kb000000C404OEAR                                NaN   \n",
       "4      AMAZON  a0Kb000000C3BzBEAV                                NaN   \n",
       "\n",
       "    Dsm_ACCOUNT_ID  current_number_of_campaigns  total_ad_spend_last_30  \\\n",
       "0  001b000003kd0RZ                          611                18750.53   \n",
       "1  001b000003kd0RZ                         1442                48550.32   \n",
       "2  001b000003nfsGl                           49                 1500.58   \n",
       "3  001b000003NHDh1                          270                25204.33   \n",
       "4  001b000001EhSOT                          468                16506.34   \n",
       "\n",
       "  created_date_timestamp        date  \n",
       "0   2019-04-16T20:13:08Z  2019-04-16  \n",
       "1   2019-04-16T20:13:08Z  2019-04-16  \n",
       "2   2019-04-16T20:13:08Z  2019-04-16  \n",
       "3   2019-04-16T20:13:08Z  2019-04-16  \n",
       "4   2019-04-16T20:13:08Z  2019-04-16  "
      ]
     },
     "execution_count": 5,
     "metadata": {},
     "output_type": "execute_result"
    }
   ],
   "source": [
    "df.head()"
   ]
  },
  {
   "cell_type": "code",
   "execution_count": 6,
   "metadata": {
    "autoscroll": false,
    "ein.hycell": false,
    "ein.tags": "worksheet-0",
    "slideshow": {
     "slide_type": "-"
    }
   },
   "outputs": [
    {
     "data": {
      "text/plain": [
       "recipe_execution_date                 object\n",
       "client_id                              int64\n",
       "managed_ad_spend_last_30             float64\n",
       "back_office_id                         int64\n",
       "total_ad_spend_last_30_currency      float64\n",
       "managed_ad_spend_last_30_usd         float64\n",
       "total_ad_spend_last_30_usd           float64\n",
       "id                                    object\n",
       "lastmodifieddate                      object\n",
       "marketplace                           object\n",
       "online_store                          object\n",
       "managed_ad_spend_last_30_currency    float64\n",
       "Dsm_ACCOUNT_ID                        object\n",
       "current_number_of_campaigns            int64\n",
       "total_ad_spend_last_30               float64\n",
       "created_date_timestamp                object\n",
       "date                                  object\n",
       "dtype: object"
      ]
     },
     "execution_count": 6,
     "metadata": {},
     "output_type": "execute_result"
    }
   ],
   "source": [
    "df.dtypes"
   ]
  },
  {
   "cell_type": "code",
   "execution_count": 7,
   "metadata": {
    "autoscroll": false,
    "ein.hycell": false,
    "ein.tags": "worksheet-0",
    "slideshow": {
     "slide_type": "-"
    }
   },
   "outputs": [
    {
     "data": {
      "text/plain": [
       "(37072, 17)"
      ]
     },
     "execution_count": 7,
     "metadata": {},
     "output_type": "execute_result"
    }
   ],
   "source": [
    "df.shape"
   ]
  },
  {
   "cell_type": "code",
   "execution_count": 8,
   "metadata": {
    "autoscroll": false,
    "ein.hycell": false,
    "ein.tags": "worksheet-0",
    "slideshow": {
     "slide_type": "-"
    }
   },
   "outputs": [],
   "source": [
    "tmp = df[~df.duplicated()].copy()"
   ]
  },
  {
   "cell_type": "code",
   "execution_count": 9,
   "metadata": {
    "autoscroll": false,
    "ein.hycell": false,
    "ein.tags": "worksheet-0",
    "slideshow": {
     "slide_type": "-"
    }
   },
   "outputs": [
    {
     "data": {
      "text/plain": [
       "(34912, 17)"
      ]
     },
     "execution_count": 9,
     "metadata": {},
     "output_type": "execute_result"
    }
   ],
   "source": [
    "tmp.shape"
   ]
  },
  {
   "cell_type": "code",
   "execution_count": 18,
   "metadata": {
    "autoscroll": false,
    "ein.hycell": false,
    "ein.tags": "worksheet-0",
    "slideshow": {
     "slide_type": "-"
    }
   },
   "outputs": [
    {
     "data": {
      "text/plain": [
       "(33036, 13)"
      ]
     },
     "execution_count": 18,
     "metadata": {},
     "output_type": "execute_result"
    }
   ],
   "source": [
    "tmp.shape"
   ]
  },
  {
   "cell_type": "code",
   "execution_count": 7,
   "metadata": {
    "autoscroll": false,
    "ein.hycell": false,
    "ein.tags": "worksheet-0",
    "slideshow": {
     "slide_type": "-"
    }
   },
   "outputs": [],
   "source": [
    "df.date = pd.to_datetime(df.date)"
   ]
  },
  {
   "cell_type": "code",
   "execution_count": 8,
   "metadata": {
    "autoscroll": false,
    "ein.hycell": false,
    "ein.tags": "worksheet-0",
    "slideshow": {
     "slide_type": "-"
    }
   },
   "outputs": [
    {
     "data": {
      "text/plain": [
       "(18976, 37072)"
      ]
     },
     "execution_count": 8,
     "metadata": {},
     "output_type": "execute_result"
    }
   ],
   "source": [
    "len(set(zip(df.Dsm_ACCOUNT_ID, df.date))), len(list(zip(df.Dsm_ACCOUNT_ID, df.date)))"
   ]
  },
  {
   "cell_type": "code",
   "execution_count": 9,
   "metadata": {
    "autoscroll": false,
    "ein.hycell": false,
    "ein.tags": "worksheet-0",
    "slideshow": {
     "slide_type": "-"
    }
   },
   "outputs": [
    {
     "data": {
      "text/html": [
       "<div>\n",
       "<style scoped>\n",
       "    .dataframe tbody tr th:only-of-type {\n",
       "        vertical-align: middle;\n",
       "    }\n",
       "\n",
       "    .dataframe tbody tr th {\n",
       "        vertical-align: top;\n",
       "    }\n",
       "\n",
       "    .dataframe thead th {\n",
       "        text-align: right;\n",
       "    }\n",
       "</style>\n",
       "<table border=\"1\" class=\"dataframe\">\n",
       "  <thead>\n",
       "    <tr style=\"text-align: right;\">\n",
       "      <th></th>\n",
       "      <th>type</th>\n",
       "      <th>uniques</th>\n",
       "      <th>NaN_%</th>\n",
       "      <th>zero_%</th>\n",
       "    </tr>\n",
       "  </thead>\n",
       "  <tbody>\n",
       "    <tr>\n",
       "      <th>date</th>\n",
       "      <td>datetime64[ns]</td>\n",
       "      <td>128</td>\n",
       "      <td>0.0</td>\n",
       "      <td>0.0</td>\n",
       "    </tr>\n",
       "    <tr>\n",
       "      <th>client_id</th>\n",
       "      <td>int64</td>\n",
       "      <td>1</td>\n",
       "      <td>0.0</td>\n",
       "      <td>0.0</td>\n",
       "    </tr>\n",
       "    <tr>\n",
       "      <th>back_office_id</th>\n",
       "      <td>int64</td>\n",
       "      <td>319</td>\n",
       "      <td>0.0</td>\n",
       "      <td>0.0</td>\n",
       "    </tr>\n",
       "    <tr>\n",
       "      <th>current_number_of_campaigns</th>\n",
       "      <td>int64</td>\n",
       "      <td>1030</td>\n",
       "      <td>0.0</td>\n",
       "      <td>0.0</td>\n",
       "    </tr>\n",
       "    <tr>\n",
       "      <th>managed_ad_spend_last_30</th>\n",
       "      <td>float64</td>\n",
       "      <td>9424</td>\n",
       "      <td>0.0</td>\n",
       "      <td>71.0</td>\n",
       "    </tr>\n",
       "    <tr>\n",
       "      <th>total_ad_spend_last_30_currency</th>\n",
       "      <td>float64</td>\n",
       "      <td>11546</td>\n",
       "      <td>52.4</td>\n",
       "      <td>8.2</td>\n",
       "    </tr>\n",
       "    <tr>\n",
       "      <th>managed_ad_spend_last_30_usd</th>\n",
       "      <td>float64</td>\n",
       "      <td>9426</td>\n",
       "      <td>0.0</td>\n",
       "      <td>71.0</td>\n",
       "    </tr>\n",
       "    <tr>\n",
       "      <th>total_ad_spend_last_30_usd</th>\n",
       "      <td>float64</td>\n",
       "      <td>26432</td>\n",
       "      <td>0.0</td>\n",
       "      <td>17.6</td>\n",
       "    </tr>\n",
       "    <tr>\n",
       "      <th>total_ad_spend_last_30</th>\n",
       "      <td>float64</td>\n",
       "      <td>26462</td>\n",
       "      <td>0.0</td>\n",
       "      <td>17.6</td>\n",
       "    </tr>\n",
       "    <tr>\n",
       "      <th>managed_ad_spend_last_30_currency</th>\n",
       "      <td>float64</td>\n",
       "      <td>4513</td>\n",
       "      <td>52.4</td>\n",
       "      <td>32.6</td>\n",
       "    </tr>\n",
       "    <tr>\n",
       "      <th>Dsm_ACCOUNT_ID</th>\n",
       "      <td>object</td>\n",
       "      <td>185</td>\n",
       "      <td>0.0</td>\n",
       "      <td>0.0</td>\n",
       "    </tr>\n",
       "    <tr>\n",
       "      <th>recipe_execution_date</th>\n",
       "      <td>object</td>\n",
       "      <td>1</td>\n",
       "      <td>0.0</td>\n",
       "      <td>0.0</td>\n",
       "    </tr>\n",
       "    <tr>\n",
       "      <th>marketplace</th>\n",
       "      <td>object</td>\n",
       "      <td>8</td>\n",
       "      <td>0.0</td>\n",
       "      <td>0.0</td>\n",
       "    </tr>\n",
       "    <tr>\n",
       "      <th>created_date_timestamp</th>\n",
       "      <td>object</td>\n",
       "      <td>270</td>\n",
       "      <td>0.0</td>\n",
       "      <td>0.0</td>\n",
       "    </tr>\n",
       "    <tr>\n",
       "      <th>id</th>\n",
       "      <td>object</td>\n",
       "      <td>34912</td>\n",
       "      <td>0.0</td>\n",
       "      <td>0.0</td>\n",
       "    </tr>\n",
       "    <tr>\n",
       "      <th>online_store</th>\n",
       "      <td>object</td>\n",
       "      <td>319</td>\n",
       "      <td>0.0</td>\n",
       "      <td>0.0</td>\n",
       "    </tr>\n",
       "    <tr>\n",
       "      <th>lastmodifieddate</th>\n",
       "      <td>object</td>\n",
       "      <td>269</td>\n",
       "      <td>0.0</td>\n",
       "      <td>0.0</td>\n",
       "    </tr>\n",
       "  </tbody>\n",
       "</table>\n",
       "</div>"
      ],
      "text/plain": [
       "                                             type  uniques  NaN_%  zero_%\n",
       "date                               datetime64[ns]      128    0.0     0.0\n",
       "client_id                                   int64        1    0.0     0.0\n",
       "back_office_id                              int64      319    0.0     0.0\n",
       "current_number_of_campaigns                 int64     1030    0.0     0.0\n",
       "managed_ad_spend_last_30                  float64     9424    0.0    71.0\n",
       "total_ad_spend_last_30_currency           float64    11546   52.4     8.2\n",
       "managed_ad_spend_last_30_usd              float64     9426    0.0    71.0\n",
       "total_ad_spend_last_30_usd                float64    26432    0.0    17.6\n",
       "total_ad_spend_last_30                    float64    26462    0.0    17.6\n",
       "managed_ad_spend_last_30_currency         float64     4513   52.4    32.6\n",
       "Dsm_ACCOUNT_ID                             object      185    0.0     0.0\n",
       "recipe_execution_date                      object        1    0.0     0.0\n",
       "marketplace                                object        8    0.0     0.0\n",
       "created_date_timestamp                     object      270    0.0     0.0\n",
       "id                                         object    34912    0.0     0.0\n",
       "online_store                               object      319    0.0     0.0\n",
       "lastmodifieddate                           object      269    0.0     0.0"
      ]
     },
     "execution_count": 9,
     "metadata": {},
     "output_type": "execute_result"
    }
   ],
   "source": [
    "x = pd.concat([df.dtypes, df.nunique()], axis=1)\n",
    "x.columns=['type', 'uniques']\n",
    "x['NaN_%'] = (df.isna().sum() / len(df) * 100).round(1)\n",
    "x['zero_%'] = ((df == 0).sum() / len(df) * 100).round(1)\n",
    "x.sort_values(by='type')"
   ]
  },
  {
   "cell_type": "code",
   "execution_count": 12,
   "metadata": {
    "autoscroll": false,
    "ein.hycell": false,
    "ein.tags": "worksheet-0",
    "slideshow": {
     "slide_type": "-"
    }
   },
   "outputs": [
    {
     "data": {
      "text/plain": [
       "['recipe_execution_date',\n",
       " 'client_id',\n",
       " 'managed_ad_spend_last_30',\n",
       " 'back_office_id',\n",
       " 'total_ad_spend_last_30_currency',\n",
       " 'managed_ad_spend_last_30_usd',\n",
       " 'total_ad_spend_last_30_usd',\n",
       " 'id',\n",
       " 'lastmodifieddate',\n",
       " 'marketplace',\n",
       " 'online_store',\n",
       " 'managed_ad_spend_last_30_currency',\n",
       " 'Dsm_ACCOUNT_ID',\n",
       " 'current_number_of_campaigns',\n",
       " 'total_ad_spend_last_30',\n",
       " 'created_date_timestamp',\n",
       " 'date']"
      ]
     },
     "execution_count": 12,
     "metadata": {},
     "output_type": "execute_result"
    }
   ],
   "source": [
    "list(df)"
   ]
  },
  {
   "cell_type": "code",
   "execution_count": 19,
   "metadata": {
    "autoscroll": false,
    "ein.hycell": false,
    "ein.tags": "worksheet-0",
    "slideshow": {
     "slide_type": "-"
    }
   },
   "outputs": [
    {
     "data": {
      "text/plain": [
       "True"
      ]
     },
     "execution_count": 19,
     "metadata": {},
     "output_type": "execute_result"
    }
   ],
   "source": [
    "(df.groupby(['Dsm_ACCOUNT_ID', 'date', 'online_store', 'id', 'back_office_id']).size() > 1).sum() > 0"
   ]
  },
  {
   "cell_type": "code",
   "execution_count": 20,
   "metadata": {
    "autoscroll": false,
    "ein.hycell": false,
    "ein.tags": "worksheet-0",
    "slideshow": {
     "slide_type": "-"
    }
   },
   "outputs": [
    {
     "name": "stderr",
     "output_type": "stream",
     "text": [
      "/Users/joshfriedlander/miniconda3/envs/old_pandas/lib/python3.6/site-packages/matplotlib/colors.py:504: RuntimeWarning: invalid value encountered in less\n",
      "  xa[xa < 0] = -1\n"
     ]
    },
    {
     "data": {
      "text/html": [
       "<style  type=\"text/css\" >\n",
       "    #T_12e58d18_d319_11e9_8689_6c96cfdafb0frow0_col0 {\n",
       "            background-color:  #3b4cc0;\n",
       "        }    #T_12e58d18_d319_11e9_8689_6c96cfdafb0frow0_col1 {\n",
       "            background-color:  #3b4cc0;\n",
       "        }    #T_12e58d18_d319_11e9_8689_6c96cfdafb0frow0_col2 {\n",
       "            background-color:  #3b4cc0;\n",
       "        }    #T_12e58d18_d319_11e9_8689_6c96cfdafb0frow0_col3 {\n",
       "            background-color:  #3b4cc0;\n",
       "        }    #T_12e58d18_d319_11e9_8689_6c96cfdafb0frow0_col4 {\n",
       "            background-color:  #3b4cc0;\n",
       "        }    #T_12e58d18_d319_11e9_8689_6c96cfdafb0frow0_col5 {\n",
       "            background-color:  #3b4cc0;\n",
       "        }    #T_12e58d18_d319_11e9_8689_6c96cfdafb0frow0_col6 {\n",
       "            background-color:  #3b4cc0;\n",
       "        }    #T_12e58d18_d319_11e9_8689_6c96cfdafb0frow0_col7 {\n",
       "            background-color:  #3b4cc0;\n",
       "        }    #T_12e58d18_d319_11e9_8689_6c96cfdafb0frow0_col8 {\n",
       "            background-color:  #3b4cc0;\n",
       "        }    #T_12e58d18_d319_11e9_8689_6c96cfdafb0frow1_col0 {\n",
       "            background-color:  #3b4cc0;\n",
       "        }    #T_12e58d18_d319_11e9_8689_6c96cfdafb0frow1_col1 {\n",
       "            background-color:  #b40426;\n",
       "        }    #T_12e58d18_d319_11e9_8689_6c96cfdafb0frow1_col2 {\n",
       "            background-color:  #4f69d9;\n",
       "        }    #T_12e58d18_d319_11e9_8689_6c96cfdafb0frow1_col3 {\n",
       "            background-color:  #7b9ff9;\n",
       "        }    #T_12e58d18_d319_11e9_8689_6c96cfdafb0frow1_col4 {\n",
       "            background-color:  #b40426;\n",
       "        }    #T_12e58d18_d319_11e9_8689_6c96cfdafb0frow1_col5 {\n",
       "            background-color:  #8fb1fe;\n",
       "        }    #T_12e58d18_d319_11e9_8689_6c96cfdafb0frow1_col6 {\n",
       "            background-color:  #b40426;\n",
       "        }    #T_12e58d18_d319_11e9_8689_6c96cfdafb0frow1_col7 {\n",
       "            background-color:  #485fd1;\n",
       "        }    #T_12e58d18_d319_11e9_8689_6c96cfdafb0frow1_col8 {\n",
       "            background-color:  #8fb1fe;\n",
       "        }    #T_12e58d18_d319_11e9_8689_6c96cfdafb0frow2_col0 {\n",
       "            background-color:  #3b4cc0;\n",
       "        }    #T_12e58d18_d319_11e9_8689_6c96cfdafb0frow2_col1 {\n",
       "            background-color:  #4055c8;\n",
       "        }    #T_12e58d18_d319_11e9_8689_6c96cfdafb0frow2_col2 {\n",
       "            background-color:  #b40426;\n",
       "        }    #T_12e58d18_d319_11e9_8689_6c96cfdafb0frow2_col3 {\n",
       "            background-color:  #3b4cc0;\n",
       "        }    #T_12e58d18_d319_11e9_8689_6c96cfdafb0frow2_col4 {\n",
       "            background-color:  #4055c8;\n",
       "        }    #T_12e58d18_d319_11e9_8689_6c96cfdafb0frow2_col5 {\n",
       "            background-color:  #3b4cc0;\n",
       "        }    #T_12e58d18_d319_11e9_8689_6c96cfdafb0frow2_col6 {\n",
       "            background-color:  #3b4cc0;\n",
       "        }    #T_12e58d18_d319_11e9_8689_6c96cfdafb0frow2_col7 {\n",
       "            background-color:  #4c66d6;\n",
       "        }    #T_12e58d18_d319_11e9_8689_6c96cfdafb0frow2_col8 {\n",
       "            background-color:  #3b4cc0;\n",
       "        }    #T_12e58d18_d319_11e9_8689_6c96cfdafb0frow3_col0 {\n",
       "            background-color:  #3b4cc0;\n",
       "        }    #T_12e58d18_d319_11e9_8689_6c96cfdafb0frow3_col1 {\n",
       "            background-color:  #6c8ff1;\n",
       "        }    #T_12e58d18_d319_11e9_8689_6c96cfdafb0frow3_col2 {\n",
       "            background-color:  #3b4cc0;\n",
       "        }    #T_12e58d18_d319_11e9_8689_6c96cfdafb0frow3_col3 {\n",
       "            background-color:  #b40426;\n",
       "        }    #T_12e58d18_d319_11e9_8689_6c96cfdafb0frow3_col4 {\n",
       "            background-color:  #6c8ff1;\n",
       "        }    #T_12e58d18_d319_11e9_8689_6c96cfdafb0frow3_col5 {\n",
       "            background-color:  #b40426;\n",
       "        }    #T_12e58d18_d319_11e9_8689_6c96cfdafb0frow3_col6 {\n",
       "            background-color:  #7295f4;\n",
       "        }    #T_12e58d18_d319_11e9_8689_6c96cfdafb0frow3_col7 {\n",
       "            background-color:  #3b4cc0;\n",
       "        }    #T_12e58d18_d319_11e9_8689_6c96cfdafb0frow3_col8 {\n",
       "            background-color:  #b40426;\n",
       "        }    #T_12e58d18_d319_11e9_8689_6c96cfdafb0frow4_col0 {\n",
       "            background-color:  #3b4cc0;\n",
       "        }    #T_12e58d18_d319_11e9_8689_6c96cfdafb0frow4_col1 {\n",
       "            background-color:  #b40426;\n",
       "        }    #T_12e58d18_d319_11e9_8689_6c96cfdafb0frow4_col2 {\n",
       "            background-color:  #4f69d9;\n",
       "        }    #T_12e58d18_d319_11e9_8689_6c96cfdafb0frow4_col3 {\n",
       "            background-color:  #7b9ff9;\n",
       "        }    #T_12e58d18_d319_11e9_8689_6c96cfdafb0frow4_col4 {\n",
       "            background-color:  #b40426;\n",
       "        }    #T_12e58d18_d319_11e9_8689_6c96cfdafb0frow4_col5 {\n",
       "            background-color:  #8fb1fe;\n",
       "        }    #T_12e58d18_d319_11e9_8689_6c96cfdafb0frow4_col6 {\n",
       "            background-color:  #b40426;\n",
       "        }    #T_12e58d18_d319_11e9_8689_6c96cfdafb0frow4_col7 {\n",
       "            background-color:  #485fd1;\n",
       "        }    #T_12e58d18_d319_11e9_8689_6c96cfdafb0frow4_col8 {\n",
       "            background-color:  #8fb1fe;\n",
       "        }    #T_12e58d18_d319_11e9_8689_6c96cfdafb0frow5_col0 {\n",
       "            background-color:  #3b4cc0;\n",
       "        }    #T_12e58d18_d319_11e9_8689_6c96cfdafb0frow5_col1 {\n",
       "            background-color:  #84a7fc;\n",
       "        }    #T_12e58d18_d319_11e9_8689_6c96cfdafb0frow5_col2 {\n",
       "            background-color:  #3d50c3;\n",
       "        }    #T_12e58d18_d319_11e9_8689_6c96cfdafb0frow5_col3 {\n",
       "            background-color:  #b40426;\n",
       "        }    #T_12e58d18_d319_11e9_8689_6c96cfdafb0frow5_col4 {\n",
       "            background-color:  #84a7fc;\n",
       "        }    #T_12e58d18_d319_11e9_8689_6c96cfdafb0frow5_col5 {\n",
       "            background-color:  #b40426;\n",
       "        }    #T_12e58d18_d319_11e9_8689_6c96cfdafb0frow5_col6 {\n",
       "            background-color:  #7295f4;\n",
       "        }    #T_12e58d18_d319_11e9_8689_6c96cfdafb0frow5_col7 {\n",
       "            background-color:  #4257c9;\n",
       "        }    #T_12e58d18_d319_11e9_8689_6c96cfdafb0frow5_col8 {\n",
       "            background-color:  #b40426;\n",
       "        }    #T_12e58d18_d319_11e9_8689_6c96cfdafb0frow6_col0 {\n",
       "            background-color:  #3b4cc0;\n",
       "        }    #T_12e58d18_d319_11e9_8689_6c96cfdafb0frow6_col1 {\n",
       "            background-color:  #b40426;\n",
       "        }    #T_12e58d18_d319_11e9_8689_6c96cfdafb0frow6_col2 {\n",
       "            background-color:  #445acc;\n",
       "        }    #T_12e58d18_d319_11e9_8689_6c96cfdafb0frow6_col3 {\n",
       "            background-color:  #7b9ff9;\n",
       "        }    #T_12e58d18_d319_11e9_8689_6c96cfdafb0frow6_col4 {\n",
       "            background-color:  #b40426;\n",
       "        }    #T_12e58d18_d319_11e9_8689_6c96cfdafb0frow6_col5 {\n",
       "            background-color:  #779af7;\n",
       "        }    #T_12e58d18_d319_11e9_8689_6c96cfdafb0frow6_col6 {\n",
       "            background-color:  #b40426;\n",
       "        }    #T_12e58d18_d319_11e9_8689_6c96cfdafb0frow6_col7 {\n",
       "            background-color:  #4257c9;\n",
       "        }    #T_12e58d18_d319_11e9_8689_6c96cfdafb0frow6_col8 {\n",
       "            background-color:  #779af7;\n",
       "        }    #T_12e58d18_d319_11e9_8689_6c96cfdafb0frow7_col0 {\n",
       "            background-color:  #3b4cc0;\n",
       "        }    #T_12e58d18_d319_11e9_8689_6c96cfdafb0frow7_col1 {\n",
       "            background-color:  #3b4cc0;\n",
       "        }    #T_12e58d18_d319_11e9_8689_6c96cfdafb0frow7_col2 {\n",
       "            background-color:  #4f69d9;\n",
       "        }    #T_12e58d18_d319_11e9_8689_6c96cfdafb0frow7_col3 {\n",
       "            background-color:  #3c4ec2;\n",
       "        }    #T_12e58d18_d319_11e9_8689_6c96cfdafb0frow7_col4 {\n",
       "            background-color:  #3b4cc0;\n",
       "        }    #T_12e58d18_d319_11e9_8689_6c96cfdafb0frow7_col5 {\n",
       "            background-color:  #4055c8;\n",
       "        }    #T_12e58d18_d319_11e9_8689_6c96cfdafb0frow7_col6 {\n",
       "            background-color:  #3b4cc0;\n",
       "        }    #T_12e58d18_d319_11e9_8689_6c96cfdafb0frow7_col7 {\n",
       "            background-color:  #b40426;\n",
       "        }    #T_12e58d18_d319_11e9_8689_6c96cfdafb0frow7_col8 {\n",
       "            background-color:  #4055c8;\n",
       "        }    #T_12e58d18_d319_11e9_8689_6c96cfdafb0frow8_col0 {\n",
       "            background-color:  #3b4cc0;\n",
       "        }    #T_12e58d18_d319_11e9_8689_6c96cfdafb0frow8_col1 {\n",
       "            background-color:  #84a7fc;\n",
       "        }    #T_12e58d18_d319_11e9_8689_6c96cfdafb0frow8_col2 {\n",
       "            background-color:  #3d50c3;\n",
       "        }    #T_12e58d18_d319_11e9_8689_6c96cfdafb0frow8_col3 {\n",
       "            background-color:  #b40426;\n",
       "        }    #T_12e58d18_d319_11e9_8689_6c96cfdafb0frow8_col4 {\n",
       "            background-color:  #84a7fc;\n",
       "        }    #T_12e58d18_d319_11e9_8689_6c96cfdafb0frow8_col5 {\n",
       "            background-color:  #b40426;\n",
       "        }    #T_12e58d18_d319_11e9_8689_6c96cfdafb0frow8_col6 {\n",
       "            background-color:  #7295f4;\n",
       "        }    #T_12e58d18_d319_11e9_8689_6c96cfdafb0frow8_col7 {\n",
       "            background-color:  #4055c8;\n",
       "        }    #T_12e58d18_d319_11e9_8689_6c96cfdafb0frow8_col8 {\n",
       "            background-color:  #b40426;\n",
       "        }</style>  \n",
       "<table id=\"T_12e58d18_d319_11e9_8689_6c96cfdafb0f\" > \n",
       "<thead>    <tr> \n",
       "        <th class=\"blank level0\" ></th> \n",
       "        <th class=\"col_heading level0 col0\" >client_id</th> \n",
       "        <th class=\"col_heading level0 col1\" >managed_ad_spend_last_30</th> \n",
       "        <th class=\"col_heading level0 col2\" >back_office_id</th> \n",
       "        <th class=\"col_heading level0 col3\" >total_ad_spend_last_30_currency</th> \n",
       "        <th class=\"col_heading level0 col4\" >managed_ad_spend_last_30_usd</th> \n",
       "        <th class=\"col_heading level0 col5\" >total_ad_spend_last_30_usd</th> \n",
       "        <th class=\"col_heading level0 col6\" >managed_ad_spend_last_30_currency</th> \n",
       "        <th class=\"col_heading level0 col7\" >current_number_of_campaigns</th> \n",
       "        <th class=\"col_heading level0 col8\" >total_ad_spend_last_30</th> \n",
       "    </tr></thead> \n",
       "<tbody>    <tr> \n",
       "        <th id=\"T_12e58d18_d319_11e9_8689_6c96cfdafb0flevel0_row0\" class=\"row_heading level0 row0\" >client_id</th> \n",
       "        <td id=\"T_12e58d18_d319_11e9_8689_6c96cfdafb0frow0_col0\" class=\"data row0 col0\" >nan</td> \n",
       "        <td id=\"T_12e58d18_d319_11e9_8689_6c96cfdafb0frow0_col1\" class=\"data row0 col1\" >nan</td> \n",
       "        <td id=\"T_12e58d18_d319_11e9_8689_6c96cfdafb0frow0_col2\" class=\"data row0 col2\" >nan</td> \n",
       "        <td id=\"T_12e58d18_d319_11e9_8689_6c96cfdafb0frow0_col3\" class=\"data row0 col3\" >nan</td> \n",
       "        <td id=\"T_12e58d18_d319_11e9_8689_6c96cfdafb0frow0_col4\" class=\"data row0 col4\" >nan</td> \n",
       "        <td id=\"T_12e58d18_d319_11e9_8689_6c96cfdafb0frow0_col5\" class=\"data row0 col5\" >nan</td> \n",
       "        <td id=\"T_12e58d18_d319_11e9_8689_6c96cfdafb0frow0_col6\" class=\"data row0 col6\" >nan</td> \n",
       "        <td id=\"T_12e58d18_d319_11e9_8689_6c96cfdafb0frow0_col7\" class=\"data row0 col7\" >nan</td> \n",
       "        <td id=\"T_12e58d18_d319_11e9_8689_6c96cfdafb0frow0_col8\" class=\"data row0 col8\" >nan</td> \n",
       "    </tr>    <tr> \n",
       "        <th id=\"T_12e58d18_d319_11e9_8689_6c96cfdafb0flevel0_row1\" class=\"row_heading level0 row1\" >managed_ad_spend_last_30</th> \n",
       "        <td id=\"T_12e58d18_d319_11e9_8689_6c96cfdafb0frow1_col0\" class=\"data row1 col0\" >nan</td> \n",
       "        <td id=\"T_12e58d18_d319_11e9_8689_6c96cfdafb0frow1_col1\" class=\"data row1 col1\" >1</td> \n",
       "        <td id=\"T_12e58d18_d319_11e9_8689_6c96cfdafb0frow1_col2\" class=\"data row1 col2\" >0.14</td> \n",
       "        <td id=\"T_12e58d18_d319_11e9_8689_6c96cfdafb0frow1_col3\" class=\"data row1 col3\" >0.26</td> \n",
       "        <td id=\"T_12e58d18_d319_11e9_8689_6c96cfdafb0frow1_col4\" class=\"data row1 col4\" >1</td> \n",
       "        <td id=\"T_12e58d18_d319_11e9_8689_6c96cfdafb0frow1_col5\" class=\"data row1 col5\" >0.32</td> \n",
       "        <td id=\"T_12e58d18_d319_11e9_8689_6c96cfdafb0frow1_col6\" class=\"data row1 col6\" >1</td> \n",
       "        <td id=\"T_12e58d18_d319_11e9_8689_6c96cfdafb0frow1_col7\" class=\"data row1 col7\" >0.12</td> \n",
       "        <td id=\"T_12e58d18_d319_11e9_8689_6c96cfdafb0frow1_col8\" class=\"data row1 col8\" >0.32</td> \n",
       "    </tr>    <tr> \n",
       "        <th id=\"T_12e58d18_d319_11e9_8689_6c96cfdafb0flevel0_row2\" class=\"row_heading level0 row2\" >back_office_id</th> \n",
       "        <td id=\"T_12e58d18_d319_11e9_8689_6c96cfdafb0frow2_col0\" class=\"data row2 col0\" >nan</td> \n",
       "        <td id=\"T_12e58d18_d319_11e9_8689_6c96cfdafb0frow2_col1\" class=\"data row2 col1\" >0.14</td> \n",
       "        <td id=\"T_12e58d18_d319_11e9_8689_6c96cfdafb0frow2_col2\" class=\"data row2 col2\" >1</td> \n",
       "        <td id=\"T_12e58d18_d319_11e9_8689_6c96cfdafb0frow2_col3\" class=\"data row2 col3\" >0.072</td> \n",
       "        <td id=\"T_12e58d18_d319_11e9_8689_6c96cfdafb0frow2_col4\" class=\"data row2 col4\" >0.14</td> \n",
       "        <td id=\"T_12e58d18_d319_11e9_8689_6c96cfdafb0frow2_col5\" class=\"data row2 col5\" >0.081</td> \n",
       "        <td id=\"T_12e58d18_d319_11e9_8689_6c96cfdafb0frow2_col6\" class=\"data row2 col6\" >0.1</td> \n",
       "        <td id=\"T_12e58d18_d319_11e9_8689_6c96cfdafb0frow2_col7\" class=\"data row2 col7\" >0.14</td> \n",
       "        <td id=\"T_12e58d18_d319_11e9_8689_6c96cfdafb0frow2_col8\" class=\"data row2 col8\" >0.082</td> \n",
       "    </tr>    <tr> \n",
       "        <th id=\"T_12e58d18_d319_11e9_8689_6c96cfdafb0flevel0_row3\" class=\"row_heading level0 row3\" >total_ad_spend_last_30_currency</th> \n",
       "        <td id=\"T_12e58d18_d319_11e9_8689_6c96cfdafb0frow3_col0\" class=\"data row3 col0\" >nan</td> \n",
       "        <td id=\"T_12e58d18_d319_11e9_8689_6c96cfdafb0frow3_col1\" class=\"data row3 col1\" >0.26</td> \n",
       "        <td id=\"T_12e58d18_d319_11e9_8689_6c96cfdafb0frow3_col2\" class=\"data row3 col2\" >0.072</td> \n",
       "        <td id=\"T_12e58d18_d319_11e9_8689_6c96cfdafb0frow3_col3\" class=\"data row3 col3\" >1</td> \n",
       "        <td id=\"T_12e58d18_d319_11e9_8689_6c96cfdafb0frow3_col4\" class=\"data row3 col4\" >0.26</td> \n",
       "        <td id=\"T_12e58d18_d319_11e9_8689_6c96cfdafb0frow3_col5\" class=\"data row3 col5\" >1</td> \n",
       "        <td id=\"T_12e58d18_d319_11e9_8689_6c96cfdafb0frow3_col6\" class=\"data row3 col6\" >0.26</td> \n",
       "        <td id=\"T_12e58d18_d319_11e9_8689_6c96cfdafb0frow3_col7\" class=\"data row3 col7\" >0.078</td> \n",
       "        <td id=\"T_12e58d18_d319_11e9_8689_6c96cfdafb0frow3_col8\" class=\"data row3 col8\" >1</td> \n",
       "    </tr>    <tr> \n",
       "        <th id=\"T_12e58d18_d319_11e9_8689_6c96cfdafb0flevel0_row4\" class=\"row_heading level0 row4\" >managed_ad_spend_last_30_usd</th> \n",
       "        <td id=\"T_12e58d18_d319_11e9_8689_6c96cfdafb0frow4_col0\" class=\"data row4 col0\" >nan</td> \n",
       "        <td id=\"T_12e58d18_d319_11e9_8689_6c96cfdafb0frow4_col1\" class=\"data row4 col1\" >1</td> \n",
       "        <td id=\"T_12e58d18_d319_11e9_8689_6c96cfdafb0frow4_col2\" class=\"data row4 col2\" >0.14</td> \n",
       "        <td id=\"T_12e58d18_d319_11e9_8689_6c96cfdafb0frow4_col3\" class=\"data row4 col3\" >0.26</td> \n",
       "        <td id=\"T_12e58d18_d319_11e9_8689_6c96cfdafb0frow4_col4\" class=\"data row4 col4\" >1</td> \n",
       "        <td id=\"T_12e58d18_d319_11e9_8689_6c96cfdafb0frow4_col5\" class=\"data row4 col5\" >0.32</td> \n",
       "        <td id=\"T_12e58d18_d319_11e9_8689_6c96cfdafb0frow4_col6\" class=\"data row4 col6\" >1</td> \n",
       "        <td id=\"T_12e58d18_d319_11e9_8689_6c96cfdafb0frow4_col7\" class=\"data row4 col7\" >0.12</td> \n",
       "        <td id=\"T_12e58d18_d319_11e9_8689_6c96cfdafb0frow4_col8\" class=\"data row4 col8\" >0.32</td> \n",
       "    </tr>    <tr> \n",
       "        <th id=\"T_12e58d18_d319_11e9_8689_6c96cfdafb0flevel0_row5\" class=\"row_heading level0 row5\" >total_ad_spend_last_30_usd</th> \n",
       "        <td id=\"T_12e58d18_d319_11e9_8689_6c96cfdafb0frow5_col0\" class=\"data row5 col0\" >nan</td> \n",
       "        <td id=\"T_12e58d18_d319_11e9_8689_6c96cfdafb0frow5_col1\" class=\"data row5 col1\" >0.32</td> \n",
       "        <td id=\"T_12e58d18_d319_11e9_8689_6c96cfdafb0frow5_col2\" class=\"data row5 col2\" >0.081</td> \n",
       "        <td id=\"T_12e58d18_d319_11e9_8689_6c96cfdafb0frow5_col3\" class=\"data row5 col3\" >1</td> \n",
       "        <td id=\"T_12e58d18_d319_11e9_8689_6c96cfdafb0frow5_col4\" class=\"data row5 col4\" >0.32</td> \n",
       "        <td id=\"T_12e58d18_d319_11e9_8689_6c96cfdafb0frow5_col5\" class=\"data row5 col5\" >1</td> \n",
       "        <td id=\"T_12e58d18_d319_11e9_8689_6c96cfdafb0frow5_col6\" class=\"data row5 col6\" >0.26</td> \n",
       "        <td id=\"T_12e58d18_d319_11e9_8689_6c96cfdafb0frow5_col7\" class=\"data row5 col7\" >0.1</td> \n",
       "        <td id=\"T_12e58d18_d319_11e9_8689_6c96cfdafb0frow5_col8\" class=\"data row5 col8\" >1</td> \n",
       "    </tr>    <tr> \n",
       "        <th id=\"T_12e58d18_d319_11e9_8689_6c96cfdafb0flevel0_row6\" class=\"row_heading level0 row6\" >managed_ad_spend_last_30_currency</th> \n",
       "        <td id=\"T_12e58d18_d319_11e9_8689_6c96cfdafb0frow6_col0\" class=\"data row6 col0\" >nan</td> \n",
       "        <td id=\"T_12e58d18_d319_11e9_8689_6c96cfdafb0frow6_col1\" class=\"data row6 col1\" >1</td> \n",
       "        <td id=\"T_12e58d18_d319_11e9_8689_6c96cfdafb0frow6_col2\" class=\"data row6 col2\" >0.1</td> \n",
       "        <td id=\"T_12e58d18_d319_11e9_8689_6c96cfdafb0frow6_col3\" class=\"data row6 col3\" >0.26</td> \n",
       "        <td id=\"T_12e58d18_d319_11e9_8689_6c96cfdafb0frow6_col4\" class=\"data row6 col4\" >1</td> \n",
       "        <td id=\"T_12e58d18_d319_11e9_8689_6c96cfdafb0frow6_col5\" class=\"data row6 col5\" >0.26</td> \n",
       "        <td id=\"T_12e58d18_d319_11e9_8689_6c96cfdafb0frow6_col6\" class=\"data row6 col6\" >1</td> \n",
       "        <td id=\"T_12e58d18_d319_11e9_8689_6c96cfdafb0frow6_col7\" class=\"data row6 col7\" >0.1</td> \n",
       "        <td id=\"T_12e58d18_d319_11e9_8689_6c96cfdafb0frow6_col8\" class=\"data row6 col8\" >0.26</td> \n",
       "    </tr>    <tr> \n",
       "        <th id=\"T_12e58d18_d319_11e9_8689_6c96cfdafb0flevel0_row7\" class=\"row_heading level0 row7\" >current_number_of_campaigns</th> \n",
       "        <td id=\"T_12e58d18_d319_11e9_8689_6c96cfdafb0frow7_col0\" class=\"data row7 col0\" >nan</td> \n",
       "        <td id=\"T_12e58d18_d319_11e9_8689_6c96cfdafb0frow7_col1\" class=\"data row7 col1\" >0.12</td> \n",
       "        <td id=\"T_12e58d18_d319_11e9_8689_6c96cfdafb0frow7_col2\" class=\"data row7 col2\" >0.14</td> \n",
       "        <td id=\"T_12e58d18_d319_11e9_8689_6c96cfdafb0frow7_col3\" class=\"data row7 col3\" >0.078</td> \n",
       "        <td id=\"T_12e58d18_d319_11e9_8689_6c96cfdafb0frow7_col4\" class=\"data row7 col4\" >0.12</td> \n",
       "        <td id=\"T_12e58d18_d319_11e9_8689_6c96cfdafb0frow7_col5\" class=\"data row7 col5\" >0.1</td> \n",
       "        <td id=\"T_12e58d18_d319_11e9_8689_6c96cfdafb0frow7_col6\" class=\"data row7 col6\" >0.1</td> \n",
       "        <td id=\"T_12e58d18_d319_11e9_8689_6c96cfdafb0frow7_col7\" class=\"data row7 col7\" >1</td> \n",
       "        <td id=\"T_12e58d18_d319_11e9_8689_6c96cfdafb0frow7_col8\" class=\"data row7 col8\" >0.1</td> \n",
       "    </tr>    <tr> \n",
       "        <th id=\"T_12e58d18_d319_11e9_8689_6c96cfdafb0flevel0_row8\" class=\"row_heading level0 row8\" >total_ad_spend_last_30</th> \n",
       "        <td id=\"T_12e58d18_d319_11e9_8689_6c96cfdafb0frow8_col0\" class=\"data row8 col0\" >nan</td> \n",
       "        <td id=\"T_12e58d18_d319_11e9_8689_6c96cfdafb0frow8_col1\" class=\"data row8 col1\" >0.32</td> \n",
       "        <td id=\"T_12e58d18_d319_11e9_8689_6c96cfdafb0frow8_col2\" class=\"data row8 col2\" >0.082</td> \n",
       "        <td id=\"T_12e58d18_d319_11e9_8689_6c96cfdafb0frow8_col3\" class=\"data row8 col3\" >1</td> \n",
       "        <td id=\"T_12e58d18_d319_11e9_8689_6c96cfdafb0frow8_col4\" class=\"data row8 col4\" >0.32</td> \n",
       "        <td id=\"T_12e58d18_d319_11e9_8689_6c96cfdafb0frow8_col5\" class=\"data row8 col5\" >1</td> \n",
       "        <td id=\"T_12e58d18_d319_11e9_8689_6c96cfdafb0frow8_col6\" class=\"data row8 col6\" >0.26</td> \n",
       "        <td id=\"T_12e58d18_d319_11e9_8689_6c96cfdafb0frow8_col7\" class=\"data row8 col7\" >0.1</td> \n",
       "        <td id=\"T_12e58d18_d319_11e9_8689_6c96cfdafb0frow8_col8\" class=\"data row8 col8\" >1</td> \n",
       "    </tr></tbody> \n",
       "</table> "
      ],
      "text/plain": [
       "<pandas.io.formats.style.Styler at 0x1223cad30>"
      ]
     },
     "execution_count": 20,
     "metadata": {},
     "output_type": "execute_result"
    }
   ],
   "source": [
    "df.corr().style.background_gradient(cmap='coolwarm').set_precision(2)"
   ]
  },
  {
   "cell_type": "code",
   "execution_count": 21,
   "metadata": {
    "autoscroll": false,
    "ein.hycell": false,
    "ein.tags": "worksheet-0",
    "slideshow": {
     "slide_type": "-"
    }
   },
   "outputs": [
    {
     "data": {
      "image/png": "[encoded data removed]",
      "text/plain": [
       "<Figure size 720x720 with 1 Axes>"
      ]
     },
     "metadata": {
      "needs_background": "light"
     },
     "output_type": "display_data"
    }
   ],
   "source": [
    "corr = df.corr()\n",
    "fig, ax = plt.subplots(figsize=(10, 10));\n",
    "ax.matshow(corr);\n",
    "plt.xticks(range(len(corr.columns)), corr.columns, rotation='vertical');\n",
    "plt.yticks(range(len(corr.columns)), corr.columns);"
   ]
  }
 ],
 "metadata": {
  "kernelspec": {
   "display_name": "Python 3",
   "language": "python",
   "name": "python3"
  },
  "language_info": {
   "codemirror_mode": {
    "name": "ipython",
    "version": 3
   },
   "file_extension": ".py",
   "mimetype": "text/x-python",
   "name": "python",
   "nbconvert_exporter": "python",
   "pygments_lexer": "ipython3",
   "version": "3.6.8"
  },
  "name": "Quick and dirty EDA for new table.ipynb"
 },
 "nbformat": 4,
 "nbformat_minor": 2
}
